{
 "cells": [
  {
   "cell_type": "markdown",
   "metadata": {
    "collapsed": true
   },
   "source": [
    "<p style=\"text-align:right;color:red;font-weight:bold;font-size:16pt;padding-bottom:20px\">Please, rename this notebook before editing!</p>\n",
    "\n",
    "# The Programming Language Python"
   ]
  },
  {
   "cell_type": "markdown",
   "metadata": {},
   "source": [
    "## Introduction\n",
    "\n",
    "Python is meant to be a simple, readable high-level language that is easily extensible. Well-written python code should be easy for a collaborator to understand, provided they have a good grasp of the python language. \n",
    "\n",
    "One of the pitfalls of python is that whitespace matters. In a for/while/if statement, the relevant lines must be indented. This is good for readability, but can cause some hard-to-catch debugging errors!\n",
    "\n",
    "\n",
    "You may find python somewhat quirky to use. Don't worry, you will get used to it, and you will find that it is a very flexible and powerful tool to have.\n",
    "\n",
    "## Open Source Language\n",
    "Python is an open source language. This means that python has basic functionality, and enhanced functionality is capable by downloading and importing certain packages. These packages are created and maintained by other developers. Most functionality needed for this bootcamp was installed with Anaconda. \n",
    "\n",
    "When we are loading functionality that is already downloaded, we will use the syntax **import PACKAGENAME as ALIAS**\n",
    "\n",
    "\n",
    "## References\n",
    "Here are some additional references if you want to study further:\n",
    "- Self-paced online tutorials\n",
    "    - CodeAcademy (13h estimated time) https://www.codecademy.com/tracks/python\n",
    "    - Brief overview with live examples https://www.learnpython.org/en/Welcome\n",
    "\n",
    "- Books\n",
    "    - Python for Everybody (HTML, PDF, Kindle) https://www.py4e.com/book\n",
    "    - Python Practice Book http://anandology.com/python-practice-book/index.html\n",
    "    - Learning Python (free, requires registration to download) https://www.packtpub.com/packt/free-ebook/learning-python\n",
    "\n",
    "\n",
    "### Python 2 vs Python 3\n",
    "While there are a number of major differences between the versions the majority of libraries and tools that we are concerned with operate on both. Most changes in Python 3 concern the internal workings and performance. Though, there are some syntax changes, and some operations behave differently. This pages offers a comprehensive look at the key changes: http://sebastianraschka.com/Articles/2014_python_2_3_key_diff.html\n",
    "\n",
    "We provide both versions on our cluster: the binaries `python` and `python2` for Python 2.7, and `python3` for version 3.4.\n",
    "\n",
    "## Resources &amp; and Important Links\n",
    "- Official web-site of the Python Software Foundation https://www.python.org/\n",
    "- API Refernce https://docs.python.org/2.7/\n",
    "- StackOverflow https://stackoverflow.com/questions/tagged/python\n"
   ]
  },
  {
   "cell_type": "markdown",
   "metadata": {},
   "source": [
    "# Running Cells in Python Notebook\n",
    "The simplest instruction in python is the print command. It will output your desired information once the cell is run.\n",
    "\n",
    "To run a cell, use:\n",
    "- Windows: \"Shift\" + \"Enter\"\n",
    "- Max: \"Shift\" + \"Return\"\n",
    "\n",
    "Enter your name between the quotes below and run the cell to store your name"
   ]
  },
  {
   "cell_type": "code",
   "execution_count": null,
   "metadata": {},
   "outputs": [],
   "source": [
    "myname = \"\""
   ]
  },
  {
   "cell_type": "code",
   "execution_count": null,
   "metadata": {},
   "outputs": [],
   "source": [
    "myname"
   ]
  },
  {
   "cell_type": "code",
   "execution_count": null,
   "metadata": {},
   "outputs": [],
   "source": [
    "print(myname)"
   ]
  },
  {
   "cell_type": "markdown",
   "metadata": {},
   "source": [
    "Lines of code can be commented out using the **#** symbol at the start of the line"
   ]
  },
  {
   "cell_type": "code",
   "execution_count": null,
   "metadata": {},
   "outputs": [],
   "source": [
    "#myname = \"That's not your name\"\n",
    "print(myname)"
   ]
  },
  {
   "cell_type": "markdown",
   "metadata": {},
   "source": [
    "## Checking System Requirements\n",
    "\n",
    "Python notebooks are stored in your **working directory**. By storing files and information that you want to reference in the same working directory, it will be easy to reference and use them. \n",
    "\n",
    "We will cover opening and accessing files saved in your working directory later in this session.\n",
    "\n",
    "Running the code in the cell below will show the current location of the python notebook that you are using. Save other course materials in this same folder to make acess easier later on in the bootcamp!"
   ]
  },
  {
   "cell_type": "code",
   "execution_count": null,
   "metadata": {},
   "outputs": [],
   "source": [
    "%pwd"
   ]
  },
  {
   "cell_type": "markdown",
   "metadata": {},
   "source": [
    "**Check that the class files for today are in your working directory**\n",
    "\n",
    "Run the code in the cell below to confirm that you have the csv's that we will be using stored in your working directory."
   ]
  },
  {
   "cell_type": "code",
   "execution_count": null,
   "metadata": {},
   "outputs": [],
   "source": [
    "import os.path\n",
    "from os import path\n",
    "\n",
    "classfiles = ['housing_price.csv','TestingReviews.csv']\n",
    "\n",
    "for file in classfiles:\n",
    "    result = path.exists(file)\n",
    "    if result:\n",
    "        print('The file', file, 'is saved in your current directory')\n",
    "    else:\n",
    "        print('The file', file, 'is not saved in your current directory. Please save the file in your working directory')"
   ]
  },
  {
   "cell_type": "markdown",
   "metadata": {},
   "source": [
    "**How to install python packages**"
   ]
  },
  {
   "cell_type": "code",
   "execution_count": null,
   "metadata": {},
   "outputs": [],
   "source": [
    "# pip install matplotlib\n",
    "# conda install matplotlib"
   ]
  },
  {
   "cell_type": "markdown",
   "metadata": {},
   "source": [
    "# Variables and Types\n",
    "\n",
    "Python does not require you to declare variables before using them. This is common in many other programming languages. Python is **not statically typed**, but rather follows the **object oriented** paradigm. Every variable in Python is an object.\n",
    "\n",
    "However, the **values** that variables hold have a designated **data type**.\n",
    "\n",
    "We will review some of the more common data types that are used in python programming for data science:\n",
    "- Numbers\n",
    "- Strings\n",
    "- Lists"
   ]
  },
  {
   "cell_type": "markdown",
   "metadata": {},
   "source": [
    "## Numbers\n",
    "Python supports two types of numbers - **integers** and **floating point numbers** (floats). \n",
    "\n",
    "Basic arithmetic operations yield different results for integers and floats. Pay attention to the type of number being used, because unexpected results could be output if this is not considered.\n",
    "\n",
    "**Integers** are whole numbers. Enter a whole number below."
   ]
  },
  {
   "cell_type": "code",
   "execution_count": null,
   "metadata": {
    "ExecuteTime": {
     "end_time": "2017-08-28T19:43:00.045867",
     "start_time": "2017-08-28T19:43:00.038900"
    }
   },
   "outputs": [],
   "source": [
    "myint = 7"
   ]
  },
  {
   "cell_type": "code",
   "execution_count": null,
   "metadata": {},
   "outputs": [],
   "source": [
    "print(myint)"
   ]
  },
  {
   "cell_type": "code",
   "execution_count": null,
   "metadata": {},
   "outputs": [],
   "source": [
    "print(type(myint))"
   ]
  },
  {
   "cell_type": "markdown",
   "metadata": {},
   "source": [
    "**myint** has a class of 'int', which stands for integer. "
   ]
  },
  {
   "cell_type": "markdown",
   "metadata": {},
   "source": [
    "**Floats** are decimal numbers. They can be defined by using decimals when storing the value, or identifying the value as a float while storing the number."
   ]
  },
  {
   "cell_type": "code",
   "execution_count": null,
   "metadata": {
    "ExecuteTime": {
     "end_time": "2017-08-28T19:43:04.212724",
     "start_time": "2017-08-28T19:43:04.205097"
    }
   },
   "outputs": [],
   "source": [
    "myfloat = 7.0\n",
    "print(myfloat, type(myfloat))"
   ]
  },
  {
   "cell_type": "code",
   "execution_count": null,
   "metadata": {},
   "outputs": [],
   "source": [
    "myfloat = float(42)\n",
    "print(myfloat, type(myfloat))"
   ]
  },
  {
   "cell_type": "markdown",
   "metadata": {},
   "source": [
    "Dividing two integers can result in a float"
   ]
  },
  {
   "cell_type": "code",
   "execution_count": null,
   "metadata": {
    "ExecuteTime": {
     "end_time": "2017-08-28T19:45:18.405089",
     "start_time": "2017-08-28T19:45:18.398698"
    }
   },
   "outputs": [],
   "source": [
    "print(7/2)"
   ]
  },
  {
   "cell_type": "code",
   "execution_count": null,
   "metadata": {},
   "outputs": [],
   "source": [
    "print(7./2)"
   ]
  },
  {
   "cell_type": "markdown",
   "metadata": {},
   "source": [
    "Try multiplying an integer and a float and see the result"
   ]
  },
  {
   "cell_type": "code",
   "execution_count": null,
   "metadata": {},
   "outputs": [],
   "source": [
    "result = myint * myfloat"
   ]
  },
  {
   "cell_type": "code",
   "execution_count": null,
   "metadata": {},
   "outputs": [],
   "source": [
    "print(result)"
   ]
  },
  {
   "cell_type": "code",
   "execution_count": null,
   "metadata": {},
   "outputs": [],
   "source": [
    "type(result)"
   ]
  },
  {
   "cell_type": "markdown",
   "metadata": {},
   "source": [
    "### Arithmetic operations\n",
    "We can arithmetic operations that are common in many programing languages.\n",
    "- `+`, `-`, `*`, `/`\n",
    "- `//` is a special integer division even if the operands aren't\n",
    "- `x**y` is used for $x^y$\n",
    "- `n % k` calculates the remainder (modulo) of the integer division of n by k\n",
    "\n",
    "**We will import the math package to use the log function.** We give the package the alias **ma** to avoid needing to type out the full package name when calling functions. "
   ]
  },
  {
   "cell_type": "code",
   "execution_count": null,
   "metadata": {
    "ExecuteTime": {
     "end_time": "2017-08-28T19:46:06.034886",
     "start_time": "2017-08-28T19:46:06.030017"
    }
   },
   "outputs": [],
   "source": [
    "import math as ma"
   ]
  },
  {
   "cell_type": "code",
   "execution_count": null,
   "metadata": {
    "ExecuteTime": {
     "end_time": "2017-08-28T19:46:19.518997",
     "start_time": "2017-08-28T19:46:19.512771"
    }
   },
   "outputs": [],
   "source": [
    "ma.log10(100)"
   ]
  },
  {
   "cell_type": "code",
   "execution_count": null,
   "metadata": {
    "ExecuteTime": {
     "end_time": "2017-08-28T19:48:44.012386",
     "start_time": "2017-08-28T19:48:44.004730"
    },
    "scrolled": true
   },
   "outputs": [],
   "source": [
    "(numerator, denominator) = 3.5.as_integer_ratio()\n",
    "\n",
    "print(numerator, denominator, numerator/denominator, float(numerator)/float(denominator))"
   ]
  },
  {
   "cell_type": "markdown",
   "metadata": {},
   "source": [
    "Use the cells below to test out the other arithmetic operators"
   ]
  },
  {
   "cell_type": "markdown",
   "metadata": {},
   "source": [
    "## Strings\n",
    "Strings are defined either with a **single quote** or a **double quotes**. Many other languages interpret them differently.  "
   ]
  },
  {
   "cell_type": "code",
   "execution_count": null,
   "metadata": {
    "ExecuteTime": {
     "end_time": "2017-08-28T19:49:24.607088",
     "start_time": "2017-08-28T19:49:24.601198"
    }
   },
   "outputs": [],
   "source": [
    "mystring = 'hello'\n",
    "print(mystring)"
   ]
  },
  {
   "cell_type": "code",
   "execution_count": null,
   "metadata": {},
   "outputs": [],
   "source": [
    "mystring = \"hello\"\n",
    "print(mystring)"
   ]
  },
  {
   "cell_type": "markdown",
   "metadata": {},
   "source": [
    "The difference between the two is that using double quotes makes it easy to include text that would usually terminate a string or line of python. Examples:\n",
    "- apostrophes (')\n",
    "- hashtags (#)"
   ]
  },
  {
   "cell_type": "code",
   "execution_count": null,
   "metadata": {},
   "outputs": [],
   "source": [
    "mystring = 'Don't worry about apostrophes'\n",
    "print(mystring)"
   ]
  },
  {
   "cell_type": "code",
   "execution_count": null,
   "metadata": {
    "ExecuteTime": {
     "end_time": "2017-08-28T19:49:40.260861",
     "start_time": "2017-08-28T19:49:40.255467"
    },
    "scrolled": true
   },
   "outputs": [],
   "source": [
    "mystring = \"Don't worry about apostrophes\"\n",
    "print(mystring)"
   ]
  },
  {
   "cell_type": "markdown",
   "metadata": {},
   "source": [
    "You can also use **\\**  to \"escape\" special characters. Here's another way to deal with apostrophes:"
   ]
  },
  {
   "cell_type": "code",
   "execution_count": null,
   "metadata": {
    "ExecuteTime": {
     "end_time": "2017-08-28T19:50:13.974469",
     "start_time": "2017-08-28T19:50:13.969214"
    }
   },
   "outputs": [],
   "source": [
    "mystring = 'You still don\\'t have to worry about apostrophes'\n",
    "print(mystring)"
   ]
  },
  {
   "cell_type": "markdown",
   "metadata": {},
   "source": [
    "### Operators\n",
    "Some the arithmetic operators can be applied to strings, though they have a different interpretation\n",
    "- `+` will concatenate two strings\n",
    "- `*` multiplies a string with an integer, i.e. the result is that many copies of the original string.\n",
    "- `%` has a very special purpose to fill in values into strings\n",
    "\n",
    "Python provides a large number of operations to manipulate text strings. Examples are given at https://www.tutorialspoint.com/python/python_strings.htm\n",
    "\n",
    "For the complete documentation refer to https://docs.python.org/3.7/library/string.html\n"
   ]
  },
  {
   "cell_type": "markdown",
   "metadata": {},
   "source": [
    "**Practice adding some strings!**"
   ]
  },
  {
   "cell_type": "code",
   "execution_count": null,
   "metadata": {
    "ExecuteTime": {
     "end_time": "2017-08-27T17:58:17.811172",
     "start_time": "2017-08-27T17:58:17.805049"
    }
   },
   "outputs": [],
   "source": [
    "fn = 'lk'\n",
    "ln = ';'\n",
    "\n",
    "print('Hi, my name is ' + fn + \" \" + ln)\n",
    "print('my first initial is ' + fn[0] + ln[0])"
   ]
  },
  {
   "cell_type": "markdown",
   "metadata": {},
   "source": [
    "**In-class execise**\n",
    "\n",
    "The chorus to 'Old Town Road' can be stored below in the variable **beginning**, but the second line is missing an end. \n",
    "\n",
    "Add your own ending to the chorus by storing it as the variable **end**, and print the entire chorus twice."
   ]
  },
  {
   "cell_type": "code",
   "execution_count": null,
   "metadata": {},
   "outputs": [],
   "source": [
    "beginning = \"\"\"I'm gonna take my horse to the old town road\n",
    "I'm gonna ride 'til \"\"\"\n",
    "\n",
    "end = \"\" #\"\\n\" insterts a newline"
   ]
  },
  {
   "cell_type": "markdown",
   "metadata": {},
   "source": [
    "### String Formatting\n",
    "The \"%\" operator is used to format a set of variables enclosed in a \"tuple\" (a fixed size list), together with a format string, which contains normal text together with \"argument specifiers\", special symbols like \"%s\" and \"%d\".\n",
    "\n",
    "Some basic argument specifiers you should know:\n",
    "`%s` - String (or any object with a string representation, like numbers)\n",
    "\n",
    "`%d` - Integers\n",
    "\n",
    "`%f` - Floating point numbers\n",
    "\n",
    "`%.<number of digits>f` - Floating point numbers with a fixed amount of digits to the right of the dot.\n",
    "\n",
    "`%x`/`%X` - Integers in hex representation (lowercase/uppercase)"
   ]
  },
  {
   "cell_type": "code",
   "execution_count": null,
   "metadata": {
    "ExecuteTime": {
     "end_time": "2017-08-28T19:59:01.681798",
     "start_time": "2017-08-28T19:59:01.675001"
    }
   },
   "outputs": [],
   "source": [
    "7./13."
   ]
  },
  {
   "cell_type": "code",
   "execution_count": null,
   "metadata": {
    "ExecuteTime": {
     "end_time": "2017-08-28T19:59:25.656405",
     "start_time": "2017-08-28T19:59:25.650788"
    }
   },
   "outputs": [],
   "source": [
    "print(\"The magic number is %.2f!\" % (7.0/13.0))"
   ]
  },
  {
   "cell_type": "markdown",
   "metadata": {},
   "source": [
    "#### In Class Exercise\n",
    "The cell below creates a **function** 'myadd' that takes in two variables and outputs a sentence describing the addition of the numbers. We will discuss functions in more detail later in the class. \n",
    "\n",
    "Call two different numbers in myadd() so that the string output is **\"3.000000 plus 5.00000 is 8.00000\"**"
   ]
  },
  {
   "cell_type": "code",
   "execution_count": null,
   "metadata": {
    "ExecuteTime": {
     "end_time": "2017-08-28T20:04:41.511586",
     "start_time": "2017-08-28T20:04:41.503414"
    },
    "scrolled": true
   },
   "outputs": [],
   "source": [
    "def myadd(a,b):\n",
    "    c = a+b\n",
    "    output_str = \"%f plus %f is %f\" % (a,b,c) # yay, done!\n",
    "    print(output_str)\n",
    "\n",
    "myadd(2, 1)"
   ]
  },
  {
   "cell_type": "markdown",
   "metadata": {},
   "source": [
    "**Next:** Update the text in out_str so that the text output is **\"3 plus 5 is 8\"**"
   ]
  },
  {
   "cell_type": "code",
   "execution_count": null,
   "metadata": {},
   "outputs": [],
   "source": [
    "def myadd(a,b):\n",
    "    c = a+b\n",
    "    output_str = \"%f plus %f is %f\" % (a,b,c) # yay, done!\n",
    "    print(output_str)\n",
    "    \n",
    "myadd(2, 1)"
   ]
  },
  {
   "cell_type": "markdown",
   "metadata": {},
   "source": [
    "### String Formatting -- II\n",
    "A more powerful one is the format method.\n",
    "\n",
    " Use the format code syntax {field_name:conversion}, where field_name specifies the index number of the argument to the str.format() method, and conversion refers to the conversion code of the data type.\n",
    " \n",
    " \n",
    "`s` - strings\n",
    "\n",
    "`d` - decimal integers (base-10)\n",
    "\n",
    "`f` - floating point display\n",
    "\n",
    "`c` - character\n",
    "\n",
    "`b` - binary\n",
    "\n",
    "`o` - octal\n",
    "\n",
    "`x` - hexadecimal with lowercase letters after 9\n",
    "\n",
    "`X` - hexadecimal with uppercase letters after 9\n",
    "\n",
    "`e` - exponent notation"
   ]
  },
  {
   "cell_type": "markdown",
   "metadata": {},
   "source": [
    "# Lists\n",
    "Lists can store multiple objects or values of different types. We can dynamically add, replace, or remove elements from a list once it has been created.\n",
    "\n",
    "Usually we iterate through list in order to perform some operations, though, we can also address a specific element by its position (**index**) in the list.\n",
    "\n",
    "The `+` and `*` operators work on lists in a similar way as they do on strings. \n",
    "\n",
    "Complete documentation at https://docs.python.org/2/tutorial/datastructures.html"
   ]
  },
  {
   "cell_type": "code",
   "execution_count": null,
   "metadata": {
    "ExecuteTime": {
     "end_time": "2017-08-28T20:19:16.275805",
     "start_time": "2017-08-28T20:19:16.267968"
    }
   },
   "outputs": [],
   "source": [
    "mylist = ['i put whatever i want', 1, 2, \"three\", (\"a\", 7)]\n",
    "print(mylist)"
   ]
  },
  {
   "cell_type": "markdown",
   "metadata": {},
   "source": [
    "You can print the length of the list to identify how many objects are stored in it"
   ]
  },
  {
   "cell_type": "code",
   "execution_count": null,
   "metadata": {},
   "outputs": [],
   "source": [
    "print(len(mylist))"
   ]
  },
  {
   "cell_type": "markdown",
   "metadata": {},
   "source": [
    "You can select objects in the list based on their position"
   ]
  },
  {
   "cell_type": "code",
   "execution_count": null,
   "metadata": {
    "ExecuteTime": {
     "end_time": "2017-08-28T20:19:46.611325",
     "start_time": "2017-08-28T20:19:46.605048"
    }
   },
   "outputs": [],
   "source": [
    "mylist[2]"
   ]
  },
  {
   "cell_type": "markdown",
   "metadata": {
    "ExecuteTime": {
     "end_time": "2017-08-28T20:20:16.397776",
     "start_time": "2017-08-28T20:20:16.390426"
    }
   },
   "source": [
    "**Try to select the first object in the list** using the cell below"
   ]
  },
  {
   "cell_type": "code",
   "execution_count": null,
   "metadata": {
    "ExecuteTime": {
     "end_time": "2017-08-28T20:20:36.086581",
     "start_time": "2017-08-28T20:20:36.080464"
    }
   },
   "outputs": [],
   "source": [
    "mylist[2]"
   ]
  },
  {
   "cell_type": "markdown",
   "metadata": {},
   "source": [
    "**Operators can be used with lists** to modify them. "
   ]
  },
  {
   "cell_type": "code",
   "execution_count": null,
   "metadata": {
    "ExecuteTime": {
     "end_time": "2017-08-28T20:21:37.436382",
     "start_time": "2017-08-28T20:21:37.428828"
    }
   },
   "outputs": [],
   "source": [
    "mylist + [7]"
   ]
  },
  {
   "cell_type": "code",
   "execution_count": null,
   "metadata": {
    "ExecuteTime": {
     "end_time": "2017-08-28T20:21:58.529003",
     "start_time": "2017-08-28T20:21:58.521990"
    }
   },
   "outputs": [],
   "source": [
    "mylist * 3"
   ]
  },
  {
   "cell_type": "markdown",
   "metadata": {},
   "source": [
    "#### In Class Exercise\n",
    "Add your birthday to your list in the cell below and print the updated list. "
   ]
  },
  {
   "cell_type": "code",
   "execution_count": null,
   "metadata": {},
   "outputs": [],
   "source": [
    "mylist = mylist"
   ]
  },
  {
   "cell_type": "code",
   "execution_count": null,
   "metadata": {
    "scrolled": true
   },
   "outputs": [],
   "source": [
    "print(mylist)"
   ]
  },
  {
   "cell_type": "markdown",
   "metadata": {},
   "source": [
    "## Python Dictionary\n",
    "Dictionary in Python is an unordered collection of data values, used to store data values like a map, which unlike other Data Types that hold only single value as an element, Dictionary holds key:value pair. Key value is provided in the dictionary to make it more optimized. Each key-value pair in a Dictionary is separated by a colon :, whereas each key is separated by a ‘comma’.\n",
    "\n",
    "A Dictionary in Python works similar to the Dictionary in a real world. Keys of a Dictionary must be unique and of immutable data type such as Strings, Integers and tuples, but the key-values can be repeated and be of any type.\n",
    "\n",
    "**source**: https://www.geeksforgeeks.org/python-dictionary/"
   ]
  },
  {
   "cell_type": "markdown",
   "metadata": {},
   "source": [
    "### Creating an empty dictionary"
   ]
  },
  {
   "cell_type": "code",
   "execution_count": null,
   "metadata": {},
   "outputs": [],
   "source": [
    "Dict = {} \n",
    "print(\"Empty Dictionary: \") \n",
    "print(Dict) "
   ]
  },
  {
   "cell_type": "markdown",
   "metadata": {},
   "source": [
    "#### Creating a dictionary with integer keys"
   ]
  },
  {
   "cell_type": "code",
   "execution_count": null,
   "metadata": {},
   "outputs": [],
   "source": [
    "MyWistList = {1: 'Geeks', 2: 'For', 3: 'Geeks'} \n",
    "print(\"\\nDictionary with the use of Integer Keys: \") \n",
    "print(MyWistList) "
   ]
  },
  {
   "cell_type": "markdown",
   "metadata": {},
   "source": [
    "#### Creating a dictionary with mixed keys"
   ]
  },
  {
   "cell_type": "code",
   "execution_count": null,
   "metadata": {},
   "outputs": [],
   "source": [
    "# with Mixed keys \n",
    "Dict = {'Name': 'Geeks', 1: [1, 2, 3, 4]} \n",
    "print(\"\\nDictionary with the use of Mixed Keys: \") \n",
    "print(Dict) "
   ]
  },
  {
   "cell_type": "markdown",
   "metadata": {},
   "source": [
    "#### Creating a dictionary with dict() method"
   ]
  },
  {
   "cell_type": "code",
   "execution_count": null,
   "metadata": {},
   "outputs": [],
   "source": [
    "Dict = {1: 'Geeks', 2: 'For', 3:'Geeks'}\n",
    "print(\"\\nDictionary with the use of dict(): \") \n",
    "print(Dict) "
   ]
  },
  {
   "cell_type": "markdown",
   "metadata": {},
   "source": [
    "#### Creating a dictionary with each item as a pair"
   ]
  },
  {
   "cell_type": "code",
   "execution_count": null,
   "metadata": {},
   "outputs": [],
   "source": [
    "Dict = dict([(1, 'Geeks'), (2, 'For')]) \n",
    "print(\"\\nDictionary with each item as a pair: \") \n",
    "print(Dict) "
   ]
  },
  {
   "cell_type": "markdown",
   "metadata": {},
   "source": [
    "#### Creating a Nested Dictionary"
   ]
  },
  {
   "cell_type": "code",
   "execution_count": null,
   "metadata": {},
   "outputs": [],
   "source": [
    "Dict = {1: 'Geeks', 2: 'For',  \n",
    "        3:{'A' : 'Welcome', 'B' : 'To', 'C' : 'Geeks'}} \n",
    "\n",
    "Dict.get(1)\n",
    "\n",
    "print(Dict) "
   ]
  },
  {
   "cell_type": "markdown",
   "metadata": {},
   "source": [
    "# Conditions\n",
    "Python uses boolean variables to evaluate conditions. The boolean values **True** and **False** are returned when an expression is compared or evaluated. \n",
    "\n",
    "Notice that variable assignment is done using a single equals operator \"=\", whereas comparison between two variables is done using the double equals operator \"==\". The \"not equals\" operator is marked as \"!=\"."
   ]
  },
  {
   "cell_type": "markdown",
   "metadata": {},
   "source": [
    "**Variable Assignment**"
   ]
  },
  {
   "cell_type": "code",
   "execution_count": null,
   "metadata": {
    "ExecuteTime": {
     "end_time": "2017-08-28T20:37:31.827020",
     "start_time": "2017-08-28T20:37:31.818662"
    },
    "scrolled": true
   },
   "outputs": [],
   "source": [
    "x = 2"
   ]
  },
  {
   "cell_type": "markdown",
   "metadata": {},
   "source": [
    "**Comparison Operators**"
   ]
  },
  {
   "cell_type": "code",
   "execution_count": null,
   "metadata": {},
   "outputs": [],
   "source": [
    "print(x == 2) # prints out True\n",
    "print(x == 3) # prints out False\n",
    "print(x <= 3) # prints out True\n",
    "print(x >= 3) # prints out False\n",
    "print(x != 3) # prints out True"
   ]
  },
  {
   "cell_type": "markdown",
   "metadata": {},
   "source": [
    "#### And / Or / Not Operators\n",
    "The \"and\", \"or\" and \"not\" boolean operators allow building complex expressions using more than one comparison operator, for example:"
   ]
  },
  {
   "cell_type": "code",
   "execution_count": null,
   "metadata": {
    "ExecuteTime": {
     "end_time": "2017-08-28T20:39:02.033091",
     "start_time": "2017-08-28T20:39:02.024695"
    }
   },
   "outputs": [],
   "source": [
    "name = \"John\"\n",
    "age = 23"
   ]
  },
  {
   "cell_type": "code",
   "execution_count": null,
   "metadata": {},
   "outputs": [],
   "source": [
    "if (name == \"John\" and age == 23):\n",
    "    print(\"Your name is John, and you are also 23 years old.\")\n",
    "else:\n",
    "    print(\"You are not John.\")"
   ]
  },
  {
   "cell_type": "code",
   "execution_count": null,
   "metadata": {},
   "outputs": [],
   "source": [
    "if name == \"John\" or name == \"Rick\":\n",
    "    print(\"Your name is either John or Rick.\")"
   ]
  },
  {
   "cell_type": "markdown",
   "metadata": {},
   "source": [
    "#### In Operator\n",
    "The \"in\" operator could be used to check if a specified object exists within an iterable object container, such as a list:"
   ]
  },
  {
   "cell_type": "code",
   "execution_count": null,
   "metadata": {
    "ExecuteTime": {
     "end_time": "2017-08-28T20:39:37.082373",
     "start_time": "2017-08-28T20:39:37.076704"
    }
   },
   "outputs": [],
   "source": [
    "name = \"John\"\n",
    "if name in [\"John\", \"Rick\"]:\n",
    "    print(\"Your name is either John or Rick.\")"
   ]
  },
  {
   "cell_type": "markdown",
   "metadata": {},
   "source": [
    "Python uses indentation to define code blocks, instead of brackets. The standard Python indentation is 4 spaces, although tabs and any other space size will work, as long as it is consistent. Notice that code blocks do not need any termination.\n",
    "\n",
    "Here is an example for using Python's \"if\" statement using code blocks:\n",
    "\n",
    "    if <statement is true>:\n",
    "        <do something>\n",
    "        ....\n",
    "        ....\n",
    "    elif <another statement is true>: # else if\n",
    "        <do something else>\n",
    "        ....\n",
    "        ....\n",
    "    else:\n",
    "        <do another thing>\n",
    "        ....\n",
    "        ....\n",
    "        "
   ]
  },
  {
   "cell_type": "code",
   "execution_count": null,
   "metadata": {},
   "outputs": [],
   "source": [
    "x = 2\n",
    "if x == 2:\n",
    "    print(\"x equals two!\")\n",
    "else:\n",
    "    print(\"x does not equal to two.\")"
   ]
  },
  {
   "cell_type": "markdown",
   "metadata": {},
   "source": [
    "A statement is evaulated as true if one of the following is correct: \n",
    "    1. The \"True\" boolean variable is given, or calculated using an expression, such as an arithmetic comparison. \n",
    "    2. An object which is not considered \"empty\" is passed.\n",
    "\n",
    "Here are some examples for objects which are considered as empty: \n",
    "    1. An empty string: \"\" \n",
    "    2. An empty list: [] \n",
    "    3. The number zero: 0 \n",
    "    4. The false boolean variable: False"
   ]
  },
  {
   "cell_type": "markdown",
   "metadata": {},
   "source": [
    "#### In Class Exercise\n",
    "The operator % will calculate whether there is a remainder when dividing two variables. \n",
    "\n",
    "For example below, 5 % 5 = 0, 5 % 3 = 2"
   ]
  },
  {
   "cell_type": "code",
   "execution_count": null,
   "metadata": {},
   "outputs": [],
   "source": [
    "5 % 5"
   ]
  },
  {
   "cell_type": "code",
   "execution_count": null,
   "metadata": {},
   "outputs": [],
   "source": [
    "5 % 3"
   ]
  },
  {
   "cell_type": "markdown",
   "metadata": {},
   "source": [
    "In the cell below a comparison operator to output 'True' if a number is even. Note - an even number divided by 2 will have no remaineder."
   ]
  },
  {
   "cell_type": "code",
   "execution_count": null,
   "metadata": {},
   "outputs": [],
   "source": []
  },
  {
   "cell_type": "markdown",
   "metadata": {},
   "source": [
    "Write an if statement to output **'even'** if the number is even"
   ]
  },
  {
   "cell_type": "code",
   "execution_count": null,
   "metadata": {},
   "outputs": [],
   "source": []
  },
  {
   "cell_type": "markdown",
   "metadata": {},
   "source": [
    "In the cell below, write an if statement to output **'not even'** if a number is not even."
   ]
  },
  {
   "cell_type": "code",
   "execution_count": null,
   "metadata": {},
   "outputs": [],
   "source": []
  },
  {
   "cell_type": "markdown",
   "metadata": {},
   "source": [
    "#### Class Activity\n",
    "We will use the logic defined in your earlier cells to create a **function** that takes in a number and outputs a number that defines whether or not that number is even. "
   ]
  },
  {
   "cell_type": "code",
   "execution_count": null,
   "metadata": {
    "ExecuteTime": {
     "end_time": "2017-08-28T20:52:00.710642",
     "start_time": "2017-08-28T20:52:00.697295"
    }
   },
   "outputs": [],
   "source": []
  },
  {
   "cell_type": "code",
   "execution_count": null,
   "metadata": {},
   "outputs": [],
   "source": []
  },
  {
   "cell_type": "markdown",
   "metadata": {},
   "source": [
    "Below is an example of a more pythonic way of creating the same output. "
   ]
  },
  {
   "cell_type": "code",
   "execution_count": null,
   "metadata": {},
   "outputs": [],
   "source": [
    "def is_even2(x):\n",
    "    print(\"%d is \" % x + (\"\" if x % 2 == 0 else \"not \") + \"even\")\n",
    "    \n",
    "is_even2(5)"
   ]
  },
  {
   "cell_type": "markdown",
   "metadata": {},
   "source": [
    "# Loops\n",
    "There are two types of loops in Python:\n",
    "- for\n",
    "- while"
   ]
  },
  {
   "cell_type": "markdown",
   "metadata": {},
   "source": [
    "## The \"for\" loop\n",
    "For loops iterate over a given sequence. Here is an example with the sequence ['bob', 'mary', 'joe']:"
   ]
  },
  {
   "cell_type": "code",
   "execution_count": null,
   "metadata": {},
   "outputs": [],
   "source": [
    "names = ['bob','mary','joe']"
   ]
  },
  {
   "cell_type": "code",
   "execution_count": null,
   "metadata": {},
   "outputs": [],
   "source": [
    "print(names)"
   ]
  },
  {
   "cell_type": "markdown",
   "metadata": {},
   "source": [
    "Try to use our operators to add the string 'likes pizza' to the end of each name in the list names"
   ]
  },
  {
   "cell_type": "code",
   "execution_count": null,
   "metadata": {},
   "outputs": [],
   "source": [
    "print(names + [\"likes pizza\"])"
   ]
  },
  {
   "cell_type": "code",
   "execution_count": null,
   "metadata": {},
   "outputs": [],
   "source": [
    "print(names[0] + \" likes pizza\")"
   ]
  },
  {
   "cell_type": "markdown",
   "metadata": {},
   "source": [
    "To apply this string to every object in the list, we can use a **for loop** to iterate over each object in the list and repeat an action. The for loop below will print each object the list 'names' by referring to each object as 'x'"
   ]
  },
  {
   "cell_type": "code",
   "execution_count": null,
   "metadata": {
    "ExecuteTime": {
     "end_time": "2017-08-28T20:53:23.101852",
     "start_time": "2017-08-28T20:53:23.095850"
    }
   },
   "outputs": [],
   "source": [
    "for x in names:\n",
    "    print(x)"
   ]
  },
  {
   "cell_type": "markdown",
   "metadata": {},
   "source": [
    "You can use any general string to refer to objects in a loop - try running the below code that uses 'name' instead of 'x'"
   ]
  },
  {
   "cell_type": "code",
   "execution_count": null,
   "metadata": {},
   "outputs": [],
   "source": [
    "for name in names:\n",
    "    print(name)"
   ]
  },
  {
   "cell_type": "markdown",
   "metadata": {},
   "source": [
    "#### In Class Activity\n",
    "Update the print function to include the string 'likes pizza' so that you can successfully print each object with the new information."
   ]
  },
  {
   "cell_type": "code",
   "execution_count": null,
   "metadata": {},
   "outputs": [],
   "source": [
    "for name in names:\n",
    "    print(name + \" likes pizza\")"
   ]
  },
  {
   "cell_type": "markdown",
   "metadata": {},
   "source": [
    "## \"while\" loops\n",
    "While loops repeat as long as a certain boolean condition is met. For example:"
   ]
  },
  {
   "cell_type": "code",
   "execution_count": null,
   "metadata": {
    "ExecuteTime": {
     "end_time": "2017-08-28T20:55:40.795367",
     "start_time": "2017-08-28T20:55:40.786728"
    }
   },
   "outputs": [],
   "source": [
    "count = 0\n",
    "while count < 5:\n",
    "    print(count)\n",
    "    count += 1  # This is the same as count = count + 1\n",
    "    \n",
    "print('done!')"
   ]
  },
  {
   "cell_type": "markdown",
   "metadata": {},
   "source": [
    "**Compute the Greater Common Denominator (GCD)**"
   ]
  },
  {
   "cell_type": "code",
   "execution_count": null,
   "metadata": {
    "ExecuteTime": {
     "end_time": "2017-08-28T20:55:51.372584",
     "start_time": "2017-08-28T20:55:51.363977"
    }
   },
   "outputs": [],
   "source": [
    "a = 15\n",
    "b = 12\n",
    "\n",
    "while a!=b:\n",
    "    # put smaller number in a\n",
    "    (a, b) = (a, b) if a<b else (b, a)\n",
    "    b = b - a\n",
    "\n",
    "print(\"The GCD is %d\"%a)"
   ]
  },
  {
   "cell_type": "markdown",
   "metadata": {},
   "source": [
    "**Compute the factorial of a number**"
   ]
  },
  {
   "cell_type": "code",
   "execution_count": null,
   "metadata": {
    "ExecuteTime": {
     "end_time": "2017-08-28T21:00:46.541783",
     "start_time": "2017-08-28T21:00:46.533795"
    }
   },
   "outputs": [],
   "source": [
    "def fac(n):\n",
    "    f = 1\n",
    "    for m in range(1,n+1):\n",
    "        f *= m \n",
    "    print(\"%d! is %d\" % (n,f))\n",
    "    \n",
    "fac(5)"
   ]
  },
  {
   "cell_type": "markdown",
   "metadata": {},
   "source": [
    "## \"break\" and \"continue\" statements\n",
    "break is used to exit a for loop or a while loop, whereas continue is used to skip the current block, and return to the \"for\" or \"while\" statement.\n",
    "\n",
    "The for loop below will print out only odd numbers in the range 0:9 - 1,3,5,7,9"
   ]
  },
  {
   "cell_type": "code",
   "execution_count": null,
   "metadata": {
    "ExecuteTime": {
     "end_time": "2017-08-28T21:04:46.428564",
     "start_time": "2017-08-28T21:04:46.418549"
    }
   },
   "outputs": [],
   "source": [
    "for x in range(10):\n",
    "    if x % 2 == 0:\n",
    "        continue\n",
    "    print(x)"
   ]
  },
  {
   "cell_type": "markdown",
   "metadata": {},
   "source": [
    "## Can we use \"else\" clause for loops?\n",
    "The while statement below: \n",
    "- prints out the number in count if the number is less than 5\n",
    "- adds one to the previous number in count\n",
    "\n",
    "- if the number is not less than 5, it prints \"count value reached 5\""
   ]
  },
  {
   "cell_type": "code",
   "execution_count": null,
   "metadata": {
    "ExecuteTime": {
     "end_time": "2017-08-28T21:05:46.589584",
     "start_time": "2017-08-28T21:05:46.575579"
    }
   },
   "outputs": [],
   "source": [
    "count=0\n",
    "while(count<5):\n",
    "    print(count)\n",
    "    count +=1\n",
    "else:\n",
    "    print(\"count value reached %d\" %(count))"
   ]
  },
  {
   "cell_type": "code",
   "execution_count": null,
   "metadata": {
    "scrolled": true
   },
   "outputs": [],
   "source": [
    "for i in range(1, 10):\n",
    "    if(i%5==0):\n",
    "        break\n",
    "    print(i)\n",
    "else:\n",
    "    print(\"this is not printed because for loop is terminated because of break but not due to fail in condition\")"
   ]
  },
  {
   "cell_type": "markdown",
   "metadata": {},
   "source": [
    "# Functions and methods\n",
    "Functions are a convenient way to divide your code into useful blocks, allowing us to order our code, make it more readable, reuse it and save some time. Also functions are a key way to define interfaces so programmers can share their code."
   ]
  },
  {
   "cell_type": "markdown",
   "metadata": {},
   "source": [
    "As we have seen on previous tutorials, Python makes use of blocks.\n",
    "\n",
    "A block is a area of code of written in the format of:\n",
    "    block_head:\n",
    "        1st block line\n",
    "        2nd block line\n",
    "        \n",
    "Where a block line is more Python code (even another block), and the block head is of the following format: block_keyword block_name(argument1,argument2, ...) Block keywords you already know are \"if\", \"for\", and \"while\".\n",
    "\n",
    "Functions in python are defined using the block keyword \"def\", followed with the function's name as the block's name. For example:"
   ]
  },
  {
   "cell_type": "code",
   "execution_count": null,
   "metadata": {
    "ExecuteTime": {
     "end_time": "2017-08-28T21:20:27.304415",
     "start_time": "2017-08-28T21:20:27.298470"
    }
   },
   "outputs": [],
   "source": [
    "def my_function():\n",
    "    pass\n",
    "    print(\"Hello From My Function!\")"
   ]
  },
  {
   "cell_type": "code",
   "execution_count": null,
   "metadata": {
    "ExecuteTime": {
     "end_time": "2017-08-28T21:20:28.418380",
     "start_time": "2017-08-28T21:20:28.413268"
    }
   },
   "outputs": [],
   "source": [
    "my_function()"
   ]
  },
  {
   "cell_type": "markdown",
   "metadata": {},
   "source": [
    "Functions may also receive arguments (variables passed from the caller to the function). For example:"
   ]
  },
  {
   "cell_type": "code",
   "execution_count": null,
   "metadata": {
    "ExecuteTime": {
     "end_time": "2017-08-28T21:21:26.812226",
     "start_time": "2017-08-28T21:21:26.807408"
    }
   },
   "outputs": [],
   "source": [
    "def my_function_with_args(username, greeting):\n",
    "    print(\"Hello, %s , From My Function!, I wish you %s\" % (username, greeting))"
   ]
  },
  {
   "cell_type": "code",
   "execution_count": null,
   "metadata": {
    "ExecuteTime": {
     "end_time": "2017-08-28T21:21:41.941393",
     "start_time": "2017-08-28T21:21:41.935024"
    }
   },
   "outputs": [],
   "source": [
    "my_function_with_args(\"Peter\", \"a wonderful day\")"
   ]
  },
  {
   "cell_type": "markdown",
   "metadata": {},
   "source": [
    "Functions may return a value to the caller, using the keyword- 'return' . For example:"
   ]
  },
  {
   "cell_type": "code",
   "execution_count": null,
   "metadata": {
    "ExecuteTime": {
     "end_time": "2017-08-28T21:24:41.030465",
     "start_time": "2017-08-28T21:24:41.024717"
    }
   },
   "outputs": [],
   "source": [
    "def sum_two_numbers(a, b=1):\n",
    "    print(\"a = \" + str(a))\n",
    "    print(\"b = \" + str(b))\n",
    "    return a + b"
   ]
  },
  {
   "cell_type": "code",
   "execution_count": null,
   "metadata": {
    "ExecuteTime": {
     "end_time": "2017-08-28T21:24:42.326928",
     "start_time": "2017-08-28T21:24:42.321835"
    },
    "scrolled": true
   },
   "outputs": [],
   "source": [
    "x = sum_two_numbers(b=5,a=19)"
   ]
  },
  {
   "cell_type": "code",
   "execution_count": null,
   "metadata": {
    "ExecuteTime": {
     "end_time": "2017-08-28T21:24:50.224757",
     "start_time": "2017-08-28T21:24:50.218929"
    }
   },
   "outputs": [],
   "source": [
    "x"
   ]
  },
  {
   "cell_type": "markdown",
   "metadata": {
    "ExecuteTime": {
     "end_time": "2017-08-26T18:30:52.289753",
     "start_time": "2017-08-26T18:30:52.284527"
    }
   },
   "source": [
    "### How to call functions after they are defined"
   ]
  },
  {
   "cell_type": "code",
   "execution_count": null,
   "metadata": {},
   "outputs": [],
   "source": [
    "def my_function():\n",
    "    print(\"Hello From My Function!\")\n",
    "\n",
    "def my_function_with_args(username, greeting):\n",
    "    print(\"Hello, %s , From My Function!, I wish you %s\" % (username, greeting))\n",
    "\n",
    "# print(a simple greeting)\n",
    "my_function()\n",
    "\n",
    "#prints - \"Hello, John Doe, From My Function!, I wish you a great year!\"\n",
    "my_function_with_args(\"John Doe\", \"a great year!\")"
   ]
  },
  {
   "cell_type": "code",
   "execution_count": null,
   "metadata": {
    "ExecuteTime": {
     "end_time": "2017-08-28T21:31:02.537442",
     "start_time": "2017-08-28T21:31:02.529574"
    }
   },
   "outputs": [],
   "source": [
    "def my_fun2(x):\n",
    "    return x, x**2, x**3\n",
    "\n",
    "y1, y2, y3 = my_fun2(5)\n",
    "print(y1)\n",
    "print(y2)\n",
    "print(y3)"
   ]
  },
  {
   "cell_type": "markdown",
   "metadata": {},
   "source": [
    "## Methods\n",
    "Methods are very similar to functions with the difference that, typically, a method associated with an objects. Let's test some methods with the object 's' below.\n"
   ]
  },
  {
   "cell_type": "code",
   "execution_count": null,
   "metadata": {
    "ExecuteTime": {
     "end_time": "2017-08-28T21:32:40.427074",
     "start_time": "2017-08-28T21:32:40.419233"
    }
   },
   "outputs": [],
   "source": [
    "s = \"Hello WORLD\""
   ]
  },
  {
   "cell_type": "code",
   "execution_count": null,
   "metadata": {},
   "outputs": [],
   "source": [
    "print(s)"
   ]
  },
  {
   "cell_type": "markdown",
   "metadata": {},
   "source": [
    "Update s using the lower method so that it prints in all lower case."
   ]
  },
  {
   "cell_type": "code",
   "execution_count": null,
   "metadata": {},
   "outputs": [],
   "source": [
    "print(s.lower())"
   ]
  },
  {
   "cell_type": "markdown",
   "metadata": {},
   "source": [
    "Update s using the upper method so that it prints in all lower case."
   ]
  },
  {
   "cell_type": "code",
   "execution_count": null,
   "metadata": {},
   "outputs": [],
   "source": [
    "print(s.upper())"
   ]
  },
  {
   "cell_type": "code",
   "execution_count": null,
   "metadata": {
    "ExecuteTime": {
     "end_time": "2017-08-26T18:36:43.926870",
     "start_time": "2017-08-26T18:36:43.920461"
    }
   },
   "outputs": [],
   "source": [
    "3.75.as_integer_ratio()"
   ]
  },
  {
   "cell_type": "markdown",
   "metadata": {},
   "source": [
    "**Hint:** while typing in the notebook or at the `ipython` prompt use the [TAB]-key after adding a \".\" (period) behind an object to see available methods:\n",
    "\n",
    "1. Type the name of an already defined object: `s`\n",
    "2. Add a period \".\" and hit the [TAB]-key: `s.`  $\\leftarrow$ This should show a list of available methods to a string.\n",
    "\n",
    "Take a look at the different methods available to use on the object s.\n",
    "\n",
    "![](figs/tab-key-methods.png)"
   ]
  },
  {
   "cell_type": "code",
   "execution_count": null,
   "metadata": {},
   "outputs": [],
   "source": [
    "s"
   ]
  },
  {
   "cell_type": "markdown",
   "metadata": {},
   "source": [
    "# Plotting Data\n",
    "- Let's use our new knowledge about lists, functions and methods to define some data and plot it for review.\n",
    "- The following examples will create lists of values, and then graph them.\n",
    "- We use a module of the Matplotlib library https://matplotlib.org/ The web-site provides detailed documentation additional examples\n",
    "<img src=\"https://matplotlib.org/_static/logo2.svg\" style=\"top:5px;width:200px;right:5px;position:absolute\" />"
   ]
  },
  {
   "cell_type": "code",
   "execution_count": null,
   "metadata": {
    "ExecuteTime": {
     "end_time": "2020-01-26T22:50:11.162954Z",
     "start_time": "2020-01-26T22:50:10.813445Z"
    }
   },
   "outputs": [],
   "source": [
    "%matplotlib inline\n",
    "import matplotlib.pyplot as plt\n",
    "import matplotlib.style as style"
   ]
  },
  {
   "cell_type": "markdown",
   "metadata": {},
   "source": [
    "Run the line below to create an empty plot. This plot create that base visual that we will be displaying data on. Since we are not displaying any data, we see only an empty chart."
   ]
  },
  {
   "cell_type": "code",
   "execution_count": null,
   "metadata": {
    "ExecuteTime": {
     "end_time": "2020-01-26T22:50:14.458193Z",
     "start_time": "2020-01-26T22:50:14.225917Z"
    }
   },
   "outputs": [],
   "source": [
    "plt.plot()"
   ]
  },
  {
   "cell_type": "markdown",
   "metadata": {},
   "source": [
    "We create a list of numbers to define as our x axis in the list 'x' below, and plot those in the plot below."
   ]
  },
  {
   "cell_type": "code",
   "execution_count": null,
   "metadata": {
    "ExecuteTime": {
     "end_time": "2020-01-26T22:50:19.055890Z",
     "start_time": "2020-01-26T22:50:19.052100Z"
    }
   },
   "outputs": [],
   "source": [
    "y = [1,6,2,4,9,4,2,5,7]"
   ]
  },
  {
   "cell_type": "code",
   "execution_count": null,
   "metadata": {
    "ExecuteTime": {
     "end_time": "2020-01-26T22:50:21.568215Z",
     "start_time": "2020-01-26T22:50:21.331115Z"
    }
   },
   "outputs": [],
   "source": [
    "plt.plot(y)"
   ]
  },
  {
   "cell_type": "markdown",
   "metadata": {},
   "source": [
    "Now define a list of variables to represent your x values and plot them in the cell below"
   ]
  },
  {
   "cell_type": "code",
   "execution_count": null,
   "metadata": {
    "ExecuteTime": {
     "end_time": "2020-01-26T22:50:24.349230Z",
     "start_time": "2020-01-26T22:50:24.345531Z"
    }
   },
   "outputs": [],
   "source": [
    "x = [1, 2, 3, 4, 5, 6, 7, 8, 9]"
   ]
  },
  {
   "cell_type": "code",
   "execution_count": null,
   "metadata": {
    "ExecuteTime": {
     "end_time": "2020-01-26T22:50:26.002473Z",
     "start_time": "2020-01-26T22:50:25.763248Z"
    }
   },
   "outputs": [],
   "source": [
    "plt.plot(x, y)"
   ]
  },
  {
   "cell_type": "markdown",
   "metadata": {},
   "source": [
    "**note that order matters, as shown in the chart below**"
   ]
  },
  {
   "cell_type": "code",
   "execution_count": null,
   "metadata": {
    "ExecuteTime": {
     "end_time": "2020-01-26T22:50:29.239110Z",
     "start_time": "2020-01-26T22:50:28.973339Z"
    }
   },
   "outputs": [],
   "source": [
    "plt.plot(y, x)"
   ]
  },
  {
   "cell_type": "code",
   "execution_count": null,
   "metadata": {},
   "outputs": [],
   "source": [
    "style.available"
   ]
  },
  {
   "cell_type": "markdown",
   "metadata": {},
   "source": [
    "**note:** you can plot multiple lines on the same chart in order to compare. Below we will modify the x list created earlier to make two distinct y lists. "
   ]
  },
  {
   "cell_type": "code",
   "execution_count": null,
   "metadata": {
    "ExecuteTime": {
     "end_time": "2020-01-26T22:50:34.218790Z",
     "start_time": "2020-01-26T22:50:34.213282Z"
    }
   },
   "outputs": [],
   "source": [
    "y = [ xx**2 for xx in x]\n",
    "y2 = [xx**3 for xx in x]"
   ]
  },
  {
   "cell_type": "code",
   "execution_count": null,
   "metadata": {
    "ExecuteTime": {
     "end_time": "2020-01-26T22:50:36.534934Z",
     "start_time": "2020-01-26T22:50:35.848499Z"
    }
   },
   "outputs": [],
   "source": [
    "import seaborn as sns"
   ]
  },
  {
   "cell_type": "code",
   "execution_count": null,
   "metadata": {
    "ExecuteTime": {
     "end_time": "2020-01-26T22:50:37.627043Z",
     "start_time": "2020-01-26T22:50:37.312448Z"
    }
   },
   "outputs": [],
   "source": [
    "sns.set_style('white')\n",
    "plt.plot(x, y, label=\"x^2\")\n",
    "plt.plot(x, y2, label=\"x^3\")\n",
    "plt.legend(loc=\"best\")\n",
    "plt.title(\"Exponential Functions\")\n",
    "plt.show()"
   ]
  },
  {
   "cell_type": "code",
   "execution_count": null,
   "metadata": {
    "ExecuteTime": {
     "end_time": "2020-01-26T22:50:47.834218Z",
     "start_time": "2020-01-26T22:50:47.828726Z"
    }
   },
   "outputs": [],
   "source": [
    "import math as ma\n",
    "theta = [ ma.pi*0.02*float(t-50) for t in range (100)]\n",
    "theta[:10]"
   ]
  },
  {
   "cell_type": "code",
   "execution_count": null,
   "metadata": {
    "ExecuteTime": {
     "end_time": "2020-01-26T22:50:50.971093Z",
     "start_time": "2020-01-26T22:50:50.967385Z"
    }
   },
   "outputs": [],
   "source": [
    "x = [ma.sin(t) for t in theta]\n",
    "y = [ma.cos(t) for t in theta]"
   ]
  },
  {
   "cell_type": "code",
   "execution_count": null,
   "metadata": {
    "ExecuteTime": {
     "end_time": "2020-01-26T22:50:53.470309Z",
     "start_time": "2020-01-26T22:50:53.467039Z"
    }
   },
   "outputs": [],
   "source": [
    "x,y = zip(*[(ma.sin(t), ma.cos(t)) for t in theta])"
   ]
  },
  {
   "cell_type": "code",
   "execution_count": null,
   "metadata": {
    "ExecuteTime": {
     "end_time": "2017-08-28T21:41:50.906418",
     "start_time": "2017-08-28T21:41:50.696803"
    }
   },
   "outputs": [],
   "source": [
    "plt.figure(figsize=(6,6))\n",
    "plt.plot(x,y)"
   ]
  },
  {
   "cell_type": "markdown",
   "metadata": {},
   "source": [
    "# Let's use these skills to make some predictions!\n",
    "We will walk through making initial predictions using a datasets. For bootcamp #1, we will review making predictions without tuning data or the model components. \n",
    "\n",
    "In future bootcamps, we'll look further into some of the most popular models in data science so that you can learn their purpose and how they can be improved!\n",
    "\n",
    "Data Source: https://www.kaggle.com/c/house-prices-advanced-regression-techniques"
   ]
  },
  {
   "cell_type": "markdown",
   "metadata": {},
   "source": [
    "## Predicting House Prices"
   ]
  },
  {
   "cell_type": "code",
   "execution_count": null,
   "metadata": {
    "ExecuteTime": {
     "end_time": "2020-01-26T22:51:11.632219Z",
     "start_time": "2020-01-26T22:51:11.629329Z"
    }
   },
   "outputs": [],
   "source": [
    "import pandas as pd"
   ]
  },
  {
   "cell_type": "code",
   "execution_count": null,
   "metadata": {
    "ExecuteTime": {
     "end_time": "2020-01-26T22:51:13.444682Z",
     "start_time": "2020-01-26T22:51:13.393326Z"
    }
   },
   "outputs": [],
   "source": [
    "prices = pd.read_csv('housing_price.csv')"
   ]
  },
  {
   "cell_type": "code",
   "execution_count": null,
   "metadata": {
    "ExecuteTime": {
     "end_time": "2020-01-26T22:51:16.707406Z",
     "start_time": "2020-01-26T22:51:16.668949Z"
    },
    "scrolled": true
   },
   "outputs": [],
   "source": [
    "#review the data that we have just loaded\n",
    "prices.head()"
   ]
  },
  {
   "cell_type": "code",
   "execution_count": null,
   "metadata": {
    "ExecuteTime": {
     "end_time": "2020-01-26T22:51:20.321267Z",
     "start_time": "2020-01-26T22:51:20.316598Z"
    }
   },
   "outputs": [],
   "source": [
    "#How much data do we have\n",
    "len(prices)"
   ]
  },
  {
   "cell_type": "code",
   "execution_count": null,
   "metadata": {
    "ExecuteTime": {
     "end_time": "2020-01-26T22:51:22.533063Z",
     "start_time": "2020-01-26T22:51:22.521989Z"
    }
   },
   "outputs": [],
   "source": [
    "#Look at the target variable\n",
    "prices['SalePrice'].describe()"
   ]
  },
  {
   "cell_type": "code",
   "execution_count": null,
   "metadata": {
    "ExecuteTime": {
     "end_time": "2020-01-26T22:51:26.268834Z",
     "start_time": "2020-01-26T22:51:26.242537Z"
    }
   },
   "outputs": [],
   "source": [
    "#Look at only the numeric data for now - we will incorporate more features as we progress through the bootcamps\n",
    "prices_integers = prices.select_dtypes(include=['int'])"
   ]
  },
  {
   "cell_type": "code",
   "execution_count": null,
   "metadata": {
    "ExecuteTime": {
     "end_time": "2020-01-26T22:51:30.238468Z",
     "start_time": "2020-01-26T22:51:30.215540Z"
    },
    "scrolled": true
   },
   "outputs": [],
   "source": [
    "prices_integers.head()"
   ]
  },
  {
   "cell_type": "code",
   "execution_count": null,
   "metadata": {
    "ExecuteTime": {
     "end_time": "2020-01-26T22:51:33.383880Z",
     "start_time": "2020-01-26T22:51:33.331265Z"
    }
   },
   "outputs": [],
   "source": [
    "#Correlation\n",
    "prices_integers.corr()"
   ]
  },
  {
   "cell_type": "code",
   "execution_count": null,
   "metadata": {
    "ExecuteTime": {
     "end_time": "2020-01-26T22:51:40.488842Z",
     "start_time": "2020-01-26T22:51:39.298979Z"
    }
   },
   "outputs": [],
   "source": [
    "#Visualize this\n",
    "vis = prices_integers.corr()\n",
    "fig, ax = plt.subplots(figsize=(10, 10))\n",
    "colormap = sns.diverging_palette(220, 10, as_cmap=True)\n",
    "sns.heatmap(vis, cmap=colormap, fmt=\".2f\")"
   ]
  },
  {
   "cell_type": "code",
   "execution_count": null,
   "metadata": {
    "ExecuteTime": {
     "end_time": "2020-01-26T22:51:55.009048Z",
     "start_time": "2020-01-26T22:51:54.093562Z"
    }
   },
   "outputs": [],
   "source": [
    "#Visualize this\n",
    "import seaborn as sns\n",
    "import numpy as np\n",
    "\n",
    "researchimg = prices_integers[['OverallQual', 'YearBuilt', 'YearRemodAdd', 'TotalBsmtSF',\n",
    "'1stFlrSF', 'GrLivArea', 'FullBath', 'TotRmsAbvGrd', 'Fireplaces',\n",
    "    'GarageCars', 'GarageArea', 'SalePrice']].corr()\n",
    "mask = np.zeros_like(researchimg, dtype=np.bool)\n",
    "mask[np.triu_indices_from(mask)] = True\n",
    "f, ax = plt.subplots(figsize=(11, 9))\n",
    "cmap = sns.diverging_palette(220, 10, as_cmap=True)\n",
    "sns.heatmap(researchimg, annot=True, mask=mask, cmap=cmap, vmax=1, center=0,\n",
    "            square=True, linewidths=.5, cbar_kws={\"shrink\": .5})"
   ]
  },
  {
   "cell_type": "code",
   "execution_count": null,
   "metadata": {
    "ExecuteTime": {
     "end_time": "2020-01-26T22:51:59.179475Z",
     "start_time": "2020-01-26T22:51:59.083853Z"
    }
   },
   "outputs": [],
   "source": [
    "prices_integers['OverallQual'].describe()"
   ]
  },
  {
   "cell_type": "code",
   "execution_count": null,
   "metadata": {
    "ExecuteTime": {
     "end_time": "2020-01-26T22:52:02.234984Z",
     "start_time": "2020-01-26T22:52:02.229127Z"
    }
   },
   "outputs": [],
   "source": [
    "prices_integers['OverallQual'].head()"
   ]
  },
  {
   "cell_type": "code",
   "execution_count": null,
   "metadata": {
    "ExecuteTime": {
     "end_time": "2020-01-26T22:52:05.156625Z",
     "start_time": "2020-01-26T22:52:04.894968Z"
    }
   },
   "outputs": [],
   "source": [
    "plt.plot(prices_integers['OverallQual'])"
   ]
  },
  {
   "cell_type": "code",
   "execution_count": null,
   "metadata": {
    "ExecuteTime": {
     "end_time": "2020-01-26T22:52:07.962271Z",
     "start_time": "2020-01-26T22:52:07.959042Z"
    }
   },
   "outputs": [],
   "source": [
    "#create x & y values then plot\n",
    "x = prices_integers['OverallQual']\n",
    "y = prices_integers['SalePrice']"
   ]
  },
  {
   "cell_type": "code",
   "execution_count": null,
   "metadata": {
    "ExecuteTime": {
     "end_time": "2020-01-26T22:52:10.076983Z",
     "start_time": "2020-01-26T22:52:09.867758Z"
    }
   },
   "outputs": [],
   "source": [
    "plt.scatter(x, y, color='gray')"
   ]
  },
  {
   "cell_type": "code",
   "execution_count": null,
   "metadata": {
    "ExecuteTime": {
     "end_time": "2020-01-26T22:52:14.082840Z",
     "start_time": "2020-01-26T22:52:14.023130Z"
    }
   },
   "outputs": [],
   "source": [
    "from sklearn.linear_model import LinearRegression"
   ]
  },
  {
   "cell_type": "code",
   "execution_count": null,
   "metadata": {
    "ExecuteTime": {
     "end_time": "2020-01-26T22:52:16.101919Z",
     "start_time": "2020-01-26T22:52:16.098394Z"
    }
   },
   "outputs": [],
   "source": [
    "x = x.values.reshape(-1,1)"
   ]
  },
  {
   "cell_type": "code",
   "execution_count": null,
   "metadata": {
    "ExecuteTime": {
     "end_time": "2020-01-26T22:52:17.989764Z",
     "start_time": "2020-01-26T22:52:17.977942Z"
    }
   },
   "outputs": [],
   "source": [
    "regressor = LinearRegression()  \n",
    "regressor.fit(x, y)"
   ]
  },
  {
   "cell_type": "code",
   "execution_count": null,
   "metadata": {
    "ExecuteTime": {
     "end_time": "2020-01-26T22:52:20.789055Z",
     "start_time": "2020-01-26T22:52:20.784332Z"
    }
   },
   "outputs": [],
   "source": [
    "#identify the intercept\n",
    "print(regressor.intercept_)\n",
    "#identify the slope:\n",
    "print(regressor.coef_)"
   ]
  },
  {
   "cell_type": "code",
   "execution_count": null,
   "metadata": {
    "ExecuteTime": {
     "end_time": "2020-01-26T22:52:22.909372Z",
     "start_time": "2020-01-26T22:52:22.906109Z"
    }
   },
   "outputs": [],
   "source": [
    "x_test = ([[8]])"
   ]
  },
  {
   "cell_type": "code",
   "execution_count": null,
   "metadata": {
    "ExecuteTime": {
     "end_time": "2020-01-26T22:52:24.407598Z",
     "start_time": "2020-01-26T22:52:24.404235Z"
    }
   },
   "outputs": [],
   "source": [
    "y_pred = regressor.predict(x_test)"
   ]
  },
  {
   "cell_type": "code",
   "execution_count": null,
   "metadata": {
    "ExecuteTime": {
     "end_time": "2020-01-26T22:52:27.549738Z",
     "start_time": "2020-01-26T22:52:27.545088Z"
    }
   },
   "outputs": [],
   "source": [
    "y_pred"
   ]
  },
  {
   "cell_type": "markdown",
   "metadata": {},
   "source": [
    "## Predicting Text Sentiment\n",
    "\n",
    "To install Vader in terminal:\n",
    "1. open terminal\n",
    "2. enter: pip install vaderSentiment\n",
    "3. enter\n",
    "4. import package in python notebook (code in cell below)\n",
    "\n",
    "Data Source: https://www.kaggle.com/purvank/uber-rider-reviews-dataset"
   ]
  },
  {
   "cell_type": "code",
   "execution_count": null,
   "metadata": {
    "ExecuteTime": {
     "end_time": "2020-01-26T22:52:31.493376Z",
     "start_time": "2020-01-26T22:52:31.051385Z"
    }
   },
   "outputs": [],
   "source": [
    "from vaderSentiment.vaderSentiment import SentimentIntensityAnalyzer\n",
    "pd.set_option('display.max_colwidth', -1)"
   ]
  },
  {
   "cell_type": "code",
   "execution_count": null,
   "metadata": {},
   "outputs": [],
   "source": [
    "sid = SentimentIntensityAnalyzer()"
   ]
  },
  {
   "cell_type": "code",
   "execution_count": null,
   "metadata": {},
   "outputs": [],
   "source": [
    "sentences = [\n",
    "    \"I don't like this!!! #help\",\n",
    "    \"Great ride, I hope to see him again\",\n",
    "    \"Fast and as expected, very friendly\"\n",
    "            ]\n",
    "for sentence in sentences:\n",
    "    ss = sid.polarity_scores(sentence) \n",
    "    print (ss)"
   ]
  },
  {
   "cell_type": "code",
   "execution_count": null,
   "metadata": {},
   "outputs": [],
   "source": [
    "reviews = pd.read_csv('TestingReviews.csv')"
   ]
  },
  {
   "cell_type": "code",
   "execution_count": null,
   "metadata": {},
   "outputs": [],
   "source": [
    "reviews.head()"
   ]
  },
  {
   "cell_type": "code",
   "execution_count": null,
   "metadata": {},
   "outputs": [],
   "source": [
    "reviews = reviews['Reviews']"
   ]
  },
  {
   "cell_type": "code",
   "execution_count": null,
   "metadata": {},
   "outputs": [],
   "source": [
    "for review in reviews:\n",
    "    ss = sid.polarity_scores(review) \n",
    "    print(ss)"
   ]
  },
  {
   "cell_type": "code",
   "execution_count": null,
   "metadata": {},
   "outputs": [],
   "source": []
  },
  {
   "cell_type": "markdown",
   "metadata": {},
   "source": [
    "# Some Fun\n",
    "Let's draw a picture of a bear in matplotlib. (Watch on YouTube https://www.youtube.com/watch?v=Jt1fSndR2bY)\n",
    "![](figs/bear.png) "
   ]
  },
  {
   "cell_type": "markdown",
   "metadata": {
    "collapsed": true
   },
   "source": [
    "# Sample Assignment\n",
    "## Instructions\n",
    "\n",
    "QUESTIONS\n",
    "\n",
    "1. Write a function called \"operate\" that takes as input two numbers, and a string that can be either \"add\" or \"multiply\". The output should be either the sum or product of the two numbers, depending on the string entered.\n",
    "\n",
    "2. The Fibonacci sequence starts with 1, 1, and each subsequent term is the sum of the preceding two terms. The first 6 terms of the Fibonacci sequence are: 1, 1, 2, 3, 5, 8, ... Write a python function that takes one argument N and prints the first N terms of the Fibonacci sequence.\n",
    "\n",
    "3. A simple substitution code codes 'a' as 1, 'b' as 2, ..., 'z' as 26. Write a function called \"encode\" that takes in a string, and prints the coded text. The output should be a string, with letters separated by \".\". Use \"999\" for punctuation and spaces. For example, encode(\"Hello!\") should print out \"8.5.12.12.15.999\".\n",
    "\n",
    "4. The Harmonic series is the sum of 1 + 1/2 + 1/3 + 1/4 + ..... The n<sup>th</sup> Harmonic number H<sub>n</sub> is 1 + 1/2 + 1/3 + ...  + 1/n. Write a python function called \"get_n\" that accepts as input a threshold, and returns n corresponding to the smallest Harmonic number whose value is grater than the threshold. E.g. `get_n(3)` should output 11.\n",
    "\n",
    "5. Write a function called \"describe\" that takes as input a list of numbers, and prints the number of elements in the list, and the mean, variance, and standard deviation. The printed quantities should be labeled. The output should look something like: </br></br>\n",
    "`number of elements: 12` </br>\n",
    "`mean: 0.5` </br>\n",
    "`variance: 0.04` </br>\n",
    "`standard deviation: 0.2`\n"
   ]
  },
  {
   "cell_type": "code",
   "execution_count": null,
   "metadata": {},
   "outputs": [],
   "source": []
  }
 ],
 "metadata": {
  "hide_input": false,
  "kernelspec": {
   "display_name": "Python 3",
   "language": "python",
   "name": "python3"
  },
  "language_info": {
   "codemirror_mode": {
    "name": "ipython",
    "version": 3
   },
   "file_extension": ".py",
   "mimetype": "text/x-python",
   "name": "python",
   "nbconvert_exporter": "python",
   "pygments_lexer": "ipython3",
   "version": "3.7.3"
  },
  "toc": {
   "nav_menu": {
    "height": "12px",
    "width": "252px"
   },
   "navigate_menu": true,
   "number_sections": true,
   "sideBar": true,
   "threshold": 4,
   "toc_cell": false,
   "toc_section_display": "block",
   "toc_window_display": true
  }
 },
 "nbformat": 4,
 "nbformat_minor": 1
}
