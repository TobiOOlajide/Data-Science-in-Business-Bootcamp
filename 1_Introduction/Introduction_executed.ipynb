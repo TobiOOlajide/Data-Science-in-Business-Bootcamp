{
 "cells": [
  {
   "cell_type": "markdown",
   "metadata": {
    "collapsed": true
   },
   "source": [
    "<p style=\"text-align:right;color:red;font-weight:bold;font-size:16pt;padding-bottom:20px\">Please, rename this notebook before editing!</p>\n",
    "\n",
    "# The Programming Language Python"
   ]
  },
  {
   "cell_type": "markdown",
   "metadata": {},
   "source": [
    "## Introduction\n",
    "\n",
    "Python is meant to be a simple, readable high-level language that is easily extensible. Well-written python code should be easy for a collaborator to understand, provided they have a good grasp of the python language. \n",
    "\n",
    "One of the pitfalls of python is that whitespace matters. In a for/while/if statement, the relevant lines must be indented. This is good for readability, but can cause some hard-to-catch debugging errors!\n",
    "\n",
    "\n",
    "You may find python somewhat quirky to use. Don't worry, you will get used to it, and you will find that it is a very flexible and powerful tool to have.\n",
    "\n",
    "## Open Source Language\n",
    "Python is an open source language. This means that python has basic functionality, and enhanced functionality is capable by downloading and importing certain packages. These packages are created and maintained by other developers. Most functionality needed for this bootcamp was installed with Anaconda. \n",
    "\n",
    "When we are loading functionality that is already downloaded, we will use the syntax **import PACKAGENAME as ALIAS**\n",
    "\n",
    "\n",
    "## References\n",
    "Here are some additional references if you want to study further:\n",
    "- Self-paced online tutorials\n",
    "    - CodeAcademy (13h estimated time) https://www.codecademy.com/tracks/python\n",
    "    - Brief overview with live examples https://www.learnpython.org/en/Welcome\n",
    "\n",
    "- Books\n",
    "    - Python for Everybody (HTML, PDF, Kindle) https://www.py4e.com/book\n",
    "    - Python Practice Book http://anandology.com/python-practice-book/index.html\n",
    "    - Learning Python (free, requires registration to download) https://www.packtpub.com/packt/free-ebook/learning-python\n",
    "\n",
    "\n",
    "### Python 2 vs Python 3\n",
    "While there are a number of major differences between the versions the majority of libraries and tools that we are concerned with operate on both. Most changes in Python 3 concern the internal workings and performance. Though, there are some syntax changes, and some operations behave differently. This pages offers a comprehensive look at the key changes: http://sebastianraschka.com/Articles/2014_python_2_3_key_diff.html\n",
    "\n",
    "We provide both versions on our cluster: the binaries `python` and `python2` for Python 2.7, and `python3` for version 3.4.\n",
    "\n",
    "## Resources &amp; and Important Links\n",
    "- Official web-site of the Python Software Foundation https://www.python.org/\n",
    "- API Refernce https://docs.python.org/2.7/\n",
    "- StackOverflow https://stackoverflow.com/questions/tagged/python\n"
   ]
  },
  {
   "cell_type": "markdown",
   "metadata": {},
   "source": [
    "# Running Cells in Python Notebook\n",
    "The simplest instruction in python is the print command. It will output your desired information once the cell is run.\n",
    "\n",
    "To run a cell, use:\n",
    "- Windows: \"Shift\" + \"Enter\"\n",
    "- Max: \"Shift\" + \"Return\"\n",
    "\n",
    "Enter your name between the quotes below and run the cell to store your name"
   ]
  },
  {
   "cell_type": "code",
   "execution_count": 1,
   "metadata": {},
   "outputs": [],
   "source": [
    "myname = \"\""
   ]
  },
  {
   "cell_type": "code",
   "execution_count": 2,
   "metadata": {},
   "outputs": [
    {
     "data": {
      "text/plain": [
       "''"
      ]
     },
     "execution_count": 2,
     "metadata": {},
     "output_type": "execute_result"
    }
   ],
   "source": [
    "myname"
   ]
  },
  {
   "cell_type": "code",
   "execution_count": 3,
   "metadata": {},
   "outputs": [
    {
     "name": "stdout",
     "output_type": "stream",
     "text": [
      "\n"
     ]
    }
   ],
   "source": [
    "print(myname)"
   ]
  },
  {
   "cell_type": "markdown",
   "metadata": {},
   "source": [
    "Lines of code can be commented out using the **#** symbol at the start of the line"
   ]
  },
  {
   "cell_type": "code",
   "execution_count": 4,
   "metadata": {},
   "outputs": [
    {
     "name": "stdout",
     "output_type": "stream",
     "text": [
      "\n"
     ]
    }
   ],
   "source": [
    "#myname = \"That's not your name\"\n",
    "print(myname)"
   ]
  },
  {
   "cell_type": "markdown",
   "metadata": {},
   "source": [
    "## Checking System Requirements\n",
    "\n",
    "Python notebooks are stored in your **working directory**. By storing files and information that you want to reference in the same working directory, it will be easy to reference and use them. \n",
    "\n",
    "We will cover opening and accessing files saved in your working directory later in this session.\n",
    "\n",
    "Running the code in the cell below will show the current location of the python notebook that you are using. Save other course materials in this same folder to make acess easier later on in the bootcamp!"
   ]
  },
  {
   "cell_type": "code",
   "execution_count": 5,
   "metadata": {},
   "outputs": [
    {
     "data": {
      "text/plain": [
       "'/Users/sarahzeis/Desktop/Georgia State/Spring 2020/Undergraduate Experience/Class 1'"
      ]
     },
     "execution_count": 5,
     "metadata": {},
     "output_type": "execute_result"
    }
   ],
   "source": [
    "%pwd"
   ]
  },
  {
   "cell_type": "markdown",
   "metadata": {},
   "source": [
    "**Check that the class files for today are in your working directory**\n",
    "\n",
    "Run the code in the cell below to confirm that you have the csv's that we will be using stored in your working directory."
   ]
  },
  {
   "cell_type": "code",
   "execution_count": 6,
   "metadata": {},
   "outputs": [
    {
     "name": "stdout",
     "output_type": "stream",
     "text": [
      "The file housing_price.csv is saved in your current directory\n",
      "The file TestingReviews.csv is saved in your current directory\n"
     ]
    }
   ],
   "source": [
    "import os.path\n",
    "from os import path\n",
    "\n",
    "classfiles = ['housing_price.csv','TestingReviews.csv']\n",
    "\n",
    "for file in classfiles:\n",
    "    result = path.exists(file)\n",
    "    if result:\n",
    "        print('The file', file, 'is saved in your current directory')\n",
    "    else:\n",
    "        print('The file', file, 'is not saved in your current directory. Please save the file in your working directory')"
   ]
  },
  {
   "cell_type": "markdown",
   "metadata": {},
   "source": [
    "**How to install python packages**"
   ]
  },
  {
   "cell_type": "code",
   "execution_count": 7,
   "metadata": {},
   "outputs": [],
   "source": [
    "# pip install matplotlib\n",
    "# conda install matplotlib"
   ]
  },
  {
   "cell_type": "markdown",
   "metadata": {},
   "source": [
    "# Variables and Types\n",
    "\n",
    "Python does not require you to declare variables before using them. This is common in many other programming languages. Python is **not statically typed**, but rather follows the **object oriented** paradigm. Every variable in Python is an object.\n",
    "\n",
    "However, the **values** that variables hold have a designated **data type**.\n",
    "\n",
    "We will review some of the more common data types that are used in python programming for data science:\n",
    "- Numbers\n",
    "- Strings\n",
    "- Lists"
   ]
  },
  {
   "cell_type": "markdown",
   "metadata": {},
   "source": [
    "## Numbers\n",
    "Python supports two types of numbers - **integers** and **floating point numbers** (floats). \n",
    "\n",
    "Basic arithmetic operations yield different results for integers and floats. Pay attention to the type of number being used, because unexpected results could be output if this is not considered.\n",
    "\n",
    "**Integers** are whole numbers. Enter a whole number below."
   ]
  },
  {
   "cell_type": "code",
   "execution_count": 8,
   "metadata": {
    "ExecuteTime": {
     "end_time": "2017-08-28T19:43:00.045867",
     "start_time": "2017-08-28T19:43:00.038900"
    }
   },
   "outputs": [],
   "source": [
    "myint = 7"
   ]
  },
  {
   "cell_type": "code",
   "execution_count": 9,
   "metadata": {},
   "outputs": [
    {
     "name": "stdout",
     "output_type": "stream",
     "text": [
      "7\n"
     ]
    }
   ],
   "source": [
    "print(myint)"
   ]
  },
  {
   "cell_type": "code",
   "execution_count": 10,
   "metadata": {},
   "outputs": [
    {
     "name": "stdout",
     "output_type": "stream",
     "text": [
      "<class 'int'>\n"
     ]
    }
   ],
   "source": [
    "print(type(myint))"
   ]
  },
  {
   "cell_type": "markdown",
   "metadata": {},
   "source": [
    "**myint** has a class of 'int', which stands for integer. "
   ]
  },
  {
   "cell_type": "markdown",
   "metadata": {},
   "source": [
    "**Floats** are decimal numbers. They can be defined by using decimals when storing the value, or identifying the value as a float while storing the number."
   ]
  },
  {
   "cell_type": "code",
   "execution_count": 11,
   "metadata": {
    "ExecuteTime": {
     "end_time": "2017-08-28T19:43:04.212724",
     "start_time": "2017-08-28T19:43:04.205097"
    }
   },
   "outputs": [
    {
     "name": "stdout",
     "output_type": "stream",
     "text": [
      "7.0 <class 'float'>\n"
     ]
    }
   ],
   "source": [
    "myfloat = 7.0\n",
    "print(myfloat, type(myfloat))"
   ]
  },
  {
   "cell_type": "code",
   "execution_count": 12,
   "metadata": {},
   "outputs": [
    {
     "name": "stdout",
     "output_type": "stream",
     "text": [
      "42.0 <class 'float'>\n"
     ]
    }
   ],
   "source": [
    "myfloat = float(42)\n",
    "print(myfloat, type(myfloat))"
   ]
  },
  {
   "cell_type": "markdown",
   "metadata": {},
   "source": [
    "Dividing two integers can result in a float"
   ]
  },
  {
   "cell_type": "code",
   "execution_count": 17,
   "metadata": {
    "ExecuteTime": {
     "end_time": "2017-08-28T19:45:18.405089",
     "start_time": "2017-08-28T19:45:18.398698"
    }
   },
   "outputs": [
    {
     "name": "stdout",
     "output_type": "stream",
     "text": [
      "3.5\n"
     ]
    }
   ],
   "source": [
    "print(7/2)"
   ]
  },
  {
   "cell_type": "code",
   "execution_count": 18,
   "metadata": {},
   "outputs": [
    {
     "name": "stdout",
     "output_type": "stream",
     "text": [
      "3.5\n"
     ]
    }
   ],
   "source": [
    "print(7./2)"
   ]
  },
  {
   "cell_type": "markdown",
   "metadata": {},
   "source": [
    "Try multiplying an integer and a float and see the result"
   ]
  },
  {
   "cell_type": "code",
   "execution_count": 19,
   "metadata": {},
   "outputs": [],
   "source": [
    "result = myint * myfloat"
   ]
  },
  {
   "cell_type": "code",
   "execution_count": 20,
   "metadata": {},
   "outputs": [
    {
     "name": "stdout",
     "output_type": "stream",
     "text": [
      "294.0\n"
     ]
    }
   ],
   "source": [
    "print(result)"
   ]
  },
  {
   "cell_type": "code",
   "execution_count": 21,
   "metadata": {},
   "outputs": [
    {
     "data": {
      "text/plain": [
       "float"
      ]
     },
     "execution_count": 21,
     "metadata": {},
     "output_type": "execute_result"
    }
   ],
   "source": [
    "type(result)"
   ]
  },
  {
   "cell_type": "markdown",
   "metadata": {},
   "source": [
    "### Arithmetic operations\n",
    "We can arithmetic operations that are common in many programing languages.\n",
    "- `+`, `-`, `*`, `/`\n",
    "- `//` is a special integer division even if the operands aren't\n",
    "- `x**y` is used for $x^y$\n",
    "- `n % k` calculates the remainder (modulo) of the integer division of n by k\n",
    "\n",
    "**We will import the math package to use the log function.** We give the package the alias **ma** to avoid needing to type out the full package name when calling functions. "
   ]
  },
  {
   "cell_type": "code",
   "execution_count": 22,
   "metadata": {
    "ExecuteTime": {
     "end_time": "2017-08-28T19:46:06.034886",
     "start_time": "2017-08-28T19:46:06.030017"
    }
   },
   "outputs": [],
   "source": [
    "import math as ma"
   ]
  },
  {
   "cell_type": "code",
   "execution_count": 23,
   "metadata": {
    "ExecuteTime": {
     "end_time": "2017-08-28T19:46:19.518997",
     "start_time": "2017-08-28T19:46:19.512771"
    }
   },
   "outputs": [
    {
     "data": {
      "text/plain": [
       "2.0"
      ]
     },
     "execution_count": 23,
     "metadata": {},
     "output_type": "execute_result"
    }
   ],
   "source": [
    "ma.log10(100)"
   ]
  },
  {
   "cell_type": "code",
   "execution_count": 24,
   "metadata": {
    "ExecuteTime": {
     "end_time": "2017-08-28T19:48:44.012386",
     "start_time": "2017-08-28T19:48:44.004730"
    },
    "scrolled": true
   },
   "outputs": [
    {
     "name": "stdout",
     "output_type": "stream",
     "text": [
      "7 2 3.5 3.5\n"
     ]
    }
   ],
   "source": [
    "(numerator, denominator) = 3.5.as_integer_ratio()\n",
    "\n",
    "print(numerator, denominator, numerator/denominator, float(numerator)/float(denominator))"
   ]
  },
  {
   "cell_type": "markdown",
   "metadata": {},
   "source": [
    "Use the cells below to test out the other arithmetic operators"
   ]
  },
  {
   "cell_type": "markdown",
   "metadata": {},
   "source": [
    "## Strings\n",
    "Strings are defined either with a **single quote** or a **double quotes**. Many other languages interpret them differently.  "
   ]
  },
  {
   "cell_type": "code",
   "execution_count": 25,
   "metadata": {
    "ExecuteTime": {
     "end_time": "2017-08-28T19:49:24.607088",
     "start_time": "2017-08-28T19:49:24.601198"
    }
   },
   "outputs": [
    {
     "name": "stdout",
     "output_type": "stream",
     "text": [
      "hello\n"
     ]
    }
   ],
   "source": [
    "mystring = 'hello'\n",
    "print(mystring)"
   ]
  },
  {
   "cell_type": "code",
   "execution_count": 26,
   "metadata": {},
   "outputs": [
    {
     "name": "stdout",
     "output_type": "stream",
     "text": [
      "hello\n"
     ]
    }
   ],
   "source": [
    "mystring = \"hello\"\n",
    "print(mystring)"
   ]
  },
  {
   "cell_type": "markdown",
   "metadata": {},
   "source": [
    "The difference between the two is that using double quotes makes it easy to include text that would usually terminate a string or line of python. Examples:\n",
    "- apostrophes (')\n",
    "- hashtags (#)"
   ]
  },
  {
   "cell_type": "code",
   "execution_count": 27,
   "metadata": {},
   "outputs": [
    {
     "ename": "SyntaxError",
     "evalue": "invalid syntax (<ipython-input-27-6f3d53208a7e>, line 1)",
     "output_type": "error",
     "traceback": [
      "\u001b[0;36m  File \u001b[0;32m\"<ipython-input-27-6f3d53208a7e>\"\u001b[0;36m, line \u001b[0;32m1\u001b[0m\n\u001b[0;31m    mystring = 'Don't worry about apostrophes'\u001b[0m\n\u001b[0m                    ^\u001b[0m\n\u001b[0;31mSyntaxError\u001b[0m\u001b[0;31m:\u001b[0m invalid syntax\n"
     ]
    }
   ],
   "source": [
    "mystring = 'Don't worry about apostrophes'\n",
    "print(mystring)"
   ]
  },
  {
   "cell_type": "code",
   "execution_count": 28,
   "metadata": {
    "ExecuteTime": {
     "end_time": "2017-08-28T19:49:40.260861",
     "start_time": "2017-08-28T19:49:40.255467"
    },
    "scrolled": true
   },
   "outputs": [
    {
     "name": "stdout",
     "output_type": "stream",
     "text": [
      "Don't worry about apostrophes\n"
     ]
    }
   ],
   "source": [
    "mystring = \"Don't worry about apostrophes\"\n",
    "print(mystring)"
   ]
  },
  {
   "cell_type": "markdown",
   "metadata": {},
   "source": [
    "You can also use **\\**  to \"escape\" special characters. Here's another way to deal with apostrophes:"
   ]
  },
  {
   "cell_type": "code",
   "execution_count": 29,
   "metadata": {
    "ExecuteTime": {
     "end_time": "2017-08-28T19:50:13.974469",
     "start_time": "2017-08-28T19:50:13.969214"
    }
   },
   "outputs": [
    {
     "name": "stdout",
     "output_type": "stream",
     "text": [
      "You still don't have to worry about apostrophes\n"
     ]
    }
   ],
   "source": [
    "mystring = 'You still don\\'t have to worry about apostrophes'\n",
    "print(mystring)"
   ]
  },
  {
   "cell_type": "markdown",
   "metadata": {},
   "source": [
    "### Operators\n",
    "Some the arithmetic operators can be applied to strings, though they have a different interpretation\n",
    "- `+` will concatenate two strings\n",
    "- `*` multiplies a string with an integer, i.e. the result is that many copies of the original string.\n",
    "- `%` has a very special purpose to fill in values into strings\n",
    "\n",
    "Python provides a large number of operations to manipulate text strings. Examples are given at https://www.tutorialspoint.com/python/python_strings.htm\n",
    "\n",
    "For the complete documentation refer to https://docs.python.org/3.7/library/string.html\n"
   ]
  },
  {
   "cell_type": "markdown",
   "metadata": {},
   "source": [
    "**Practice adding some strings!**"
   ]
  },
  {
   "cell_type": "code",
   "execution_count": 30,
   "metadata": {
    "ExecuteTime": {
     "end_time": "2017-08-27T17:58:17.811172",
     "start_time": "2017-08-27T17:58:17.805049"
    }
   },
   "outputs": [
    {
     "name": "stdout",
     "output_type": "stream",
     "text": [
      "Hi, my name is lk ;\n",
      "my first initial is l;\n"
     ]
    }
   ],
   "source": [
    "fn = 'lk'\n",
    "ln = ';'\n",
    "\n",
    "print('Hi, my name is ' + fn + \" \" + ln)\n",
    "print('my first initial is ' + fn[0] + ln[0])"
   ]
  },
  {
   "cell_type": "markdown",
   "metadata": {},
   "source": [
    "**In-class execise**\n",
    "\n",
    "The chorus to 'Old Town Road' can be stored below in the variable **beginning**, but the second line is missing an end. \n",
    "\n",
    "Add your own ending to the chorus by storing it as the variable **end**, and print the entire chorus twice."
   ]
  },
  {
   "cell_type": "code",
   "execution_count": 32,
   "metadata": {},
   "outputs": [],
   "source": [
    "beginning = \"\"\"I'm gonna take my horse to the old town road\n",
    "I'm gonna ride 'til \"\"\"\n",
    "\n",
    "end = \"\" #\"\\n\" insterts a newline"
   ]
  },
  {
   "cell_type": "markdown",
   "metadata": {},
   "source": [
    "### String Formatting\n",
    "The \"%\" operator is used to format a set of variables enclosed in a \"tuple\" (a fixed size list), together with a format string, which contains normal text together with \"argument specifiers\", special symbols like \"%s\" and \"%d\".\n",
    "\n",
    "Some basic argument specifiers you should know:\n",
    "`%s` - String (or any object with a string representation, like numbers)\n",
    "\n",
    "`%d` - Integers\n",
    "\n",
    "`%f` - Floating point numbers\n",
    "\n",
    "`%.<number of digits>f` - Floating point numbers with a fixed amount of digits to the right of the dot.\n",
    "\n",
    "`%x`/`%X` - Integers in hex representation (lowercase/uppercase)"
   ]
  },
  {
   "cell_type": "code",
   "execution_count": 33,
   "metadata": {
    "ExecuteTime": {
     "end_time": "2017-08-28T19:59:01.681798",
     "start_time": "2017-08-28T19:59:01.675001"
    }
   },
   "outputs": [
    {
     "data": {
      "text/plain": [
       "0.5384615384615384"
      ]
     },
     "execution_count": 33,
     "metadata": {},
     "output_type": "execute_result"
    }
   ],
   "source": [
    "7./13."
   ]
  },
  {
   "cell_type": "code",
   "execution_count": 34,
   "metadata": {
    "ExecuteTime": {
     "end_time": "2017-08-28T19:59:25.656405",
     "start_time": "2017-08-28T19:59:25.650788"
    }
   },
   "outputs": [
    {
     "name": "stdout",
     "output_type": "stream",
     "text": [
      "The magic number is 0.54!\n"
     ]
    }
   ],
   "source": [
    "print(\"The magic number is %.2f!\" % (7.0/13.0))"
   ]
  },
  {
   "cell_type": "markdown",
   "metadata": {},
   "source": [
    "#### In Class Exercise\n",
    "The cell below creates a **function** 'myadd' that takes in two variables and outputs a sentence describing the addition of the numbers. We will discuss functions in more detail later in the class. \n",
    "\n",
    "Call two different numbers in myadd() so that the string output is **\"3.000000 plus 5.00000 is 8.00000\"**"
   ]
  },
  {
   "cell_type": "code",
   "execution_count": 36,
   "metadata": {
    "ExecuteTime": {
     "end_time": "2017-08-28T20:04:41.511586",
     "start_time": "2017-08-28T20:04:41.503414"
    },
    "scrolled": true
   },
   "outputs": [
    {
     "name": "stdout",
     "output_type": "stream",
     "text": [
      "2.000000 plus 1.000000 is 3.000000\n"
     ]
    }
   ],
   "source": [
    "def myadd(a,b):\n",
    "    c = a+b\n",
    "    output_str = \"%f plus %f is %f\" % (a,b,c) # yay, done!\n",
    "    print(output_str)\n",
    "\n",
    "myadd(2, 1)"
   ]
  },
  {
   "cell_type": "markdown",
   "metadata": {},
   "source": [
    "**Next:** Update the text in out_str so that the text output is **\"3 plus 5 is 8\"**"
   ]
  },
  {
   "cell_type": "code",
   "execution_count": 37,
   "metadata": {},
   "outputs": [
    {
     "name": "stdout",
     "output_type": "stream",
     "text": [
      "2.000000 plus 1.000000 is 3.000000\n"
     ]
    }
   ],
   "source": [
    "def myadd(a,b):\n",
    "    c = a+b\n",
    "    output_str = \"%f plus %f is %f\" % (a,b,c) # yay, done!\n",
    "    print(output_str)\n",
    "    \n",
    "myadd(2, 1)"
   ]
  },
  {
   "cell_type": "markdown",
   "metadata": {},
   "source": [
    "### String Formatting -- II\n",
    "A more powerful one is the format method.\n",
    "\n",
    " Use the format code syntax {field_name:conversion}, where field_name specifies the index number of the argument to the str.format() method, and conversion refers to the conversion code of the data type.\n",
    " \n",
    " \n",
    "`s` - strings\n",
    "\n",
    "`d` - decimal integers (base-10)\n",
    "\n",
    "`f` - floating point display\n",
    "\n",
    "`c` - character\n",
    "\n",
    "`b` - binary\n",
    "\n",
    "`o` - octal\n",
    "\n",
    "`x` - hexadecimal with lowercase letters after 9\n",
    "\n",
    "`X` - hexadecimal with uppercase letters after 9\n",
    "\n",
    "`e` - exponent notation"
   ]
  },
  {
   "cell_type": "markdown",
   "metadata": {},
   "source": [
    "# Lists\n",
    "Lists can store multiple objects or values of different types. We can dynamically add, replace, or remove elements from a list once it has been created.\n",
    "\n",
    "Usually we iterate through list in order to perform some operations, though, we can also address a specific element by its position (**index**) in the list.\n",
    "\n",
    "The `+` and `*` operators work on lists in a similar way as they do on strings. \n",
    "\n",
    "Complete documentation at https://docs.python.org/2/tutorial/datastructures.html"
   ]
  },
  {
   "cell_type": "code",
   "execution_count": 39,
   "metadata": {
    "ExecuteTime": {
     "end_time": "2017-08-28T20:19:16.275805",
     "start_time": "2017-08-28T20:19:16.267968"
    }
   },
   "outputs": [
    {
     "name": "stdout",
     "output_type": "stream",
     "text": [
      "['i put whatever i want', 1, 2, 'three', ('a', 7)]\n"
     ]
    }
   ],
   "source": [
    "mylist = ['i put whatever i want', 1, 2, \"three\", (\"a\", 7)]\n",
    "print(mylist)"
   ]
  },
  {
   "cell_type": "markdown",
   "metadata": {},
   "source": [
    "You can print the length of the list to identify how many objects are stored in it"
   ]
  },
  {
   "cell_type": "code",
   "execution_count": 40,
   "metadata": {},
   "outputs": [
    {
     "name": "stdout",
     "output_type": "stream",
     "text": [
      "5\n"
     ]
    }
   ],
   "source": [
    "print(len(mylist))"
   ]
  },
  {
   "cell_type": "markdown",
   "metadata": {},
   "source": [
    "You can select objects in the list based on their position"
   ]
  },
  {
   "cell_type": "code",
   "execution_count": 41,
   "metadata": {
    "ExecuteTime": {
     "end_time": "2017-08-28T20:19:46.611325",
     "start_time": "2017-08-28T20:19:46.605048"
    }
   },
   "outputs": [
    {
     "data": {
      "text/plain": [
       "2"
      ]
     },
     "execution_count": 41,
     "metadata": {},
     "output_type": "execute_result"
    }
   ],
   "source": [
    "mylist[2]"
   ]
  },
  {
   "cell_type": "markdown",
   "metadata": {
    "ExecuteTime": {
     "end_time": "2017-08-28T20:20:16.397776",
     "start_time": "2017-08-28T20:20:16.390426"
    }
   },
   "source": [
    "**Try to select the first object in the list** using the cell below"
   ]
  },
  {
   "cell_type": "code",
   "execution_count": 66,
   "metadata": {
    "ExecuteTime": {
     "end_time": "2017-08-28T20:20:36.086581",
     "start_time": "2017-08-28T20:20:36.080464"
    }
   },
   "outputs": [
    {
     "data": {
      "text/plain": [
       "2"
      ]
     },
     "execution_count": 66,
     "metadata": {},
     "output_type": "execute_result"
    }
   ],
   "source": [
    "mylist[2]"
   ]
  },
  {
   "cell_type": "markdown",
   "metadata": {},
   "source": [
    "**Operators can be used with lists** to modify them. "
   ]
  },
  {
   "cell_type": "code",
   "execution_count": 42,
   "metadata": {
    "ExecuteTime": {
     "end_time": "2017-08-28T20:21:37.436382",
     "start_time": "2017-08-28T20:21:37.428828"
    }
   },
   "outputs": [
    {
     "data": {
      "text/plain": [
       "['i put whatever i want', 1, 2, 'three', ('a', 7), 7]"
      ]
     },
     "execution_count": 42,
     "metadata": {},
     "output_type": "execute_result"
    }
   ],
   "source": [
    "mylist + [7]"
   ]
  },
  {
   "cell_type": "code",
   "execution_count": 43,
   "metadata": {
    "ExecuteTime": {
     "end_time": "2017-08-28T20:21:58.529003",
     "start_time": "2017-08-28T20:21:58.521990"
    }
   },
   "outputs": [
    {
     "data": {
      "text/plain": [
       "['i put whatever i want',\n",
       " 1,\n",
       " 2,\n",
       " 'three',\n",
       " ('a', 7),\n",
       " 'i put whatever i want',\n",
       " 1,\n",
       " 2,\n",
       " 'three',\n",
       " ('a', 7),\n",
       " 'i put whatever i want',\n",
       " 1,\n",
       " 2,\n",
       " 'three',\n",
       " ('a', 7)]"
      ]
     },
     "execution_count": 43,
     "metadata": {},
     "output_type": "execute_result"
    }
   ],
   "source": [
    "mylist * 3"
   ]
  },
  {
   "cell_type": "markdown",
   "metadata": {},
   "source": [
    "#### In Class Exercise\n",
    "Add your birthday to your list in the cell below and print the updated list. "
   ]
  },
  {
   "cell_type": "code",
   "execution_count": 44,
   "metadata": {},
   "outputs": [],
   "source": [
    "mylist = mylist"
   ]
  },
  {
   "cell_type": "code",
   "execution_count": 48,
   "metadata": {
    "scrolled": true
   },
   "outputs": [
    {
     "name": "stdout",
     "output_type": "stream",
     "text": [
      "['i put whatever i want', 1, 2, 'three', ('a', 7), '9/16/1991']\n"
     ]
    }
   ],
   "source": [
    "print(mylist)"
   ]
  },
  {
   "cell_type": "markdown",
   "metadata": {},
   "source": [
    "## Python Dictionary\n",
    "Dictionary in Python is an unordered collection of data values, used to store data values like a map, which unlike other Data Types that hold only single value as an element, Dictionary holds key:value pair. Key value is provided in the dictionary to make it more optimized. Each key-value pair in a Dictionary is separated by a colon :, whereas each key is separated by a ‘comma’.\n",
    "\n",
    "A Dictionary in Python works similar to the Dictionary in a real world. Keys of a Dictionary must be unique and of immutable data type such as Strings, Integers and tuples, but the key-values can be repeated and be of any type.\n",
    "\n",
    "**source**: https://www.geeksforgeeks.org/python-dictionary/"
   ]
  },
  {
   "cell_type": "markdown",
   "metadata": {},
   "source": [
    "### Creating an empty dictionary"
   ]
  },
  {
   "cell_type": "code",
   "execution_count": 49,
   "metadata": {},
   "outputs": [
    {
     "name": "stdout",
     "output_type": "stream",
     "text": [
      "Empty Dictionary: \n",
      "{}\n"
     ]
    }
   ],
   "source": [
    "Dict = {} \n",
    "print(\"Empty Dictionary: \") \n",
    "print(Dict) "
   ]
  },
  {
   "cell_type": "markdown",
   "metadata": {},
   "source": [
    "#### Creating a dictionary with integer keys"
   ]
  },
  {
   "cell_type": "code",
   "execution_count": 50,
   "metadata": {},
   "outputs": [
    {
     "name": "stdout",
     "output_type": "stream",
     "text": [
      "\n",
      "Dictionary with the use of Integer Keys: \n",
      "{1: 'Geeks', 2: 'For', 3: 'Geeks'}\n"
     ]
    }
   ],
   "source": [
    "MyWistList = {1: 'Geeks', 2: 'For', 3: 'Geeks'} \n",
    "print(\"\\nDictionary with the use of Integer Keys: \") \n",
    "print(MyWistList) "
   ]
  },
  {
   "cell_type": "markdown",
   "metadata": {},
   "source": [
    "#### Creating a dictionary with mixed keys"
   ]
  },
  {
   "cell_type": "code",
   "execution_count": 51,
   "metadata": {},
   "outputs": [
    {
     "name": "stdout",
     "output_type": "stream",
     "text": [
      "\n",
      "Dictionary with the use of Mixed Keys: \n",
      "{'Name': 'Geeks', 1: [1, 2, 3, 4]}\n"
     ]
    }
   ],
   "source": [
    "# with Mixed keys \n",
    "Dict = {'Name': 'Geeks', 1: [1, 2, 3, 4]} \n",
    "print(\"\\nDictionary with the use of Mixed Keys: \") \n",
    "print(Dict) "
   ]
  },
  {
   "cell_type": "markdown",
   "metadata": {},
   "source": [
    "#### Creating a dictionary with dict() method"
   ]
  },
  {
   "cell_type": "code",
   "execution_count": 52,
   "metadata": {},
   "outputs": [
    {
     "name": "stdout",
     "output_type": "stream",
     "text": [
      "\n",
      "Dictionary with the use of dict(): \n",
      "{1: 'Geeks', 2: 'For', 3: 'Geeks'}\n"
     ]
    }
   ],
   "source": [
    "Dict = {1: 'Geeks', 2: 'For', 3:'Geeks'}\n",
    "print(\"\\nDictionary with the use of dict(): \") \n",
    "print(Dict) "
   ]
  },
  {
   "cell_type": "markdown",
   "metadata": {},
   "source": [
    "#### Creating a dictionary with each item as a pair"
   ]
  },
  {
   "cell_type": "code",
   "execution_count": 53,
   "metadata": {},
   "outputs": [
    {
     "name": "stdout",
     "output_type": "stream",
     "text": [
      "\n",
      "Dictionary with each item as a pair: \n",
      "{1: 'Geeks', 2: 'For'}\n"
     ]
    }
   ],
   "source": [
    "Dict = dict([(1, 'Geeks'), (2, 'For')]) \n",
    "print(\"\\nDictionary with each item as a pair: \") \n",
    "print(Dict) "
   ]
  },
  {
   "cell_type": "markdown",
   "metadata": {},
   "source": [
    "#### Creating a Nested Dictionary"
   ]
  },
  {
   "cell_type": "code",
   "execution_count": 54,
   "metadata": {},
   "outputs": [
    {
     "name": "stdout",
     "output_type": "stream",
     "text": [
      "{1: 'Geeks', 2: 'For', 3: {'A': 'Welcome', 'B': 'To', 'C': 'Geeks'}}\n"
     ]
    }
   ],
   "source": [
    "Dict = {1: 'Geeks', 2: 'For',  \n",
    "        3:{'A' : 'Welcome', 'B' : 'To', 'C' : 'Geeks'}} \n",
    "\n",
    "Dict.get(1)\n",
    "\n",
    "print(Dict) "
   ]
  },
  {
   "cell_type": "markdown",
   "metadata": {},
   "source": [
    "# Conditions\n",
    "Python uses boolean variables to evaluate conditions. The boolean values **True** and **False** are returned when an expression is compared or evaluated. \n",
    "\n",
    "Notice that variable assignment is done using a single equals operator \"=\", whereas comparison between two variables is done using the double equals operator \"==\". The \"not equals\" operator is marked as \"!=\"."
   ]
  },
  {
   "cell_type": "markdown",
   "metadata": {},
   "source": [
    "**Variable Assignment**"
   ]
  },
  {
   "cell_type": "code",
   "execution_count": 55,
   "metadata": {
    "ExecuteTime": {
     "end_time": "2017-08-28T20:37:31.827020",
     "start_time": "2017-08-28T20:37:31.818662"
    },
    "scrolled": true
   },
   "outputs": [],
   "source": [
    "x = 2"
   ]
  },
  {
   "cell_type": "markdown",
   "metadata": {},
   "source": [
    "**Comparison Operators**"
   ]
  },
  {
   "cell_type": "code",
   "execution_count": 56,
   "metadata": {},
   "outputs": [
    {
     "name": "stdout",
     "output_type": "stream",
     "text": [
      "True\n",
      "False\n",
      "True\n",
      "False\n",
      "True\n"
     ]
    }
   ],
   "source": [
    "print(x == 2) # prints out True\n",
    "print(x == 3) # prints out False\n",
    "print(x <= 3) # prints out True\n",
    "print(x >= 3) # prints out False\n",
    "print(x != 3) # prints out True"
   ]
  },
  {
   "cell_type": "markdown",
   "metadata": {},
   "source": [
    "#### And / Or / Not Operators\n",
    "The \"and\", \"or\" and \"not\" boolean operators allow building complex expressions using more than one comparison operator, for example:"
   ]
  },
  {
   "cell_type": "code",
   "execution_count": 57,
   "metadata": {
    "ExecuteTime": {
     "end_time": "2017-08-28T20:39:02.033091",
     "start_time": "2017-08-28T20:39:02.024695"
    }
   },
   "outputs": [],
   "source": [
    "name = \"John\"\n",
    "age = 23"
   ]
  },
  {
   "cell_type": "code",
   "execution_count": 58,
   "metadata": {},
   "outputs": [
    {
     "name": "stdout",
     "output_type": "stream",
     "text": [
      "Your name is John, and you are also 23 years old.\n"
     ]
    }
   ],
   "source": [
    "if (name == \"John\" and age == 23):\n",
    "    print(\"Your name is John, and you are also 23 years old.\")\n",
    "else:\n",
    "    print(\"You are not John.\")"
   ]
  },
  {
   "cell_type": "code",
   "execution_count": 59,
   "metadata": {},
   "outputs": [
    {
     "name": "stdout",
     "output_type": "stream",
     "text": [
      "Your name is either John or Rick.\n"
     ]
    }
   ],
   "source": [
    "if name == \"John\" or name == \"Rick\":\n",
    "    print(\"Your name is either John or Rick.\")"
   ]
  },
  {
   "cell_type": "markdown",
   "metadata": {},
   "source": [
    "#### In Operator\n",
    "The \"in\" operator could be used to check if a specified object exists within an iterable object container, such as a list:"
   ]
  },
  {
   "cell_type": "code",
   "execution_count": 60,
   "metadata": {
    "ExecuteTime": {
     "end_time": "2017-08-28T20:39:37.082373",
     "start_time": "2017-08-28T20:39:37.076704"
    }
   },
   "outputs": [
    {
     "name": "stdout",
     "output_type": "stream",
     "text": [
      "Your name is either John or Rick.\n"
     ]
    }
   ],
   "source": [
    "name = \"John\"\n",
    "if name in [\"John\", \"Rick\"]:\n",
    "    print(\"Your name is either John or Rick.\")"
   ]
  },
  {
   "cell_type": "markdown",
   "metadata": {},
   "source": [
    "Python uses indentation to define code blocks, instead of brackets. The standard Python indentation is 4 spaces, although tabs and any other space size will work, as long as it is consistent. Notice that code blocks do not need any termination.\n",
    "\n",
    "Here is an example for using Python's \"if\" statement using code blocks:\n",
    "\n",
    "    if <statement is true>:\n",
    "        <do something>\n",
    "        ....\n",
    "        ....\n",
    "    elif <another statement is true>: # else if\n",
    "        <do something else>\n",
    "        ....\n",
    "        ....\n",
    "    else:\n",
    "        <do another thing>\n",
    "        ....\n",
    "        ....\n",
    "        "
   ]
  },
  {
   "cell_type": "code",
   "execution_count": 61,
   "metadata": {},
   "outputs": [
    {
     "name": "stdout",
     "output_type": "stream",
     "text": [
      "x equals two!\n"
     ]
    }
   ],
   "source": [
    "x = 2\n",
    "if x == 2:\n",
    "    print(\"x equals two!\")\n",
    "else:\n",
    "    print(\"x does not equal to two.\")"
   ]
  },
  {
   "cell_type": "markdown",
   "metadata": {},
   "source": [
    "A statement is evaulated as true if one of the following is correct: \n",
    "    1. The \"True\" boolean variable is given, or calculated using an expression, such as an arithmetic comparison. \n",
    "    2. An object which is not considered \"empty\" is passed.\n",
    "\n",
    "Here are some examples for objects which are considered as empty: \n",
    "    1. An empty string: \"\" \n",
    "    2. An empty list: [] \n",
    "    3. The number zero: 0 \n",
    "    4. The false boolean variable: False"
   ]
  },
  {
   "cell_type": "markdown",
   "metadata": {},
   "source": [
    "#### In Class Exercise\n",
    "The operator % will calculate whether there is a remainder when dividing two variables. \n",
    "\n",
    "For example below, 5 % 5 = 0, 5 % 3 = 2"
   ]
  },
  {
   "cell_type": "code",
   "execution_count": 97,
   "metadata": {},
   "outputs": [
    {
     "data": {
      "text/plain": [
       "0"
      ]
     },
     "execution_count": 97,
     "metadata": {},
     "output_type": "execute_result"
    }
   ],
   "source": [
    "5 % 5"
   ]
  },
  {
   "cell_type": "code",
   "execution_count": 98,
   "metadata": {},
   "outputs": [
    {
     "data": {
      "text/plain": [
       "2"
      ]
     },
     "execution_count": 98,
     "metadata": {},
     "output_type": "execute_result"
    }
   ],
   "source": [
    "5 % 3"
   ]
  },
  {
   "cell_type": "markdown",
   "metadata": {},
   "source": [
    "In the cell below a comparison operator to output 'True' if a number is even. Note - an even number divided by 2 will have no remaineder."
   ]
  },
  {
   "cell_type": "code",
   "execution_count": null,
   "metadata": {},
   "outputs": [],
   "source": []
  },
  {
   "cell_type": "markdown",
   "metadata": {},
   "source": [
    "Write an if statement to output **'even'** if the number is even"
   ]
  },
  {
   "cell_type": "code",
   "execution_count": 100,
   "metadata": {},
   "outputs": [
    {
     "name": "stdout",
     "output_type": "stream",
     "text": [
      "even\n"
     ]
    }
   ],
   "source": []
  },
  {
   "cell_type": "markdown",
   "metadata": {},
   "source": [
    "In the cell below, write an if statement to output **'not even'** if a number is not even."
   ]
  },
  {
   "cell_type": "code",
   "execution_count": 101,
   "metadata": {},
   "outputs": [
    {
     "name": "stdout",
     "output_type": "stream",
     "text": [
      "not even\n"
     ]
    }
   ],
   "source": []
  },
  {
   "cell_type": "markdown",
   "metadata": {},
   "source": [
    "#### Class Activity\n",
    "We will use the logic defined in your earlier cells to create a **function** that takes in a number and outputs a number that defines whether or not that number is even. "
   ]
  },
  {
   "cell_type": "code",
   "execution_count": 62,
   "metadata": {
    "ExecuteTime": {
     "end_time": "2017-08-28T20:52:00.710642",
     "start_time": "2017-08-28T20:52:00.697295"
    }
   },
   "outputs": [
    {
     "name": "stdout",
     "output_type": "stream",
     "text": [
      "1 is not even\n"
     ]
    }
   ],
   "source": []
  },
  {
   "cell_type": "code",
   "execution_count": 63,
   "metadata": {},
   "outputs": [
    {
     "name": "stdout",
     "output_type": "stream",
     "text": [
      "2 is even\n"
     ]
    }
   ],
   "source": []
  },
  {
   "cell_type": "markdown",
   "metadata": {},
   "source": [
    "Below is an example of a more pythonic way of creating the same output. "
   ]
  },
  {
   "cell_type": "code",
   "execution_count": 64,
   "metadata": {},
   "outputs": [
    {
     "name": "stdout",
     "output_type": "stream",
     "text": [
      "5 is not even\n"
     ]
    }
   ],
   "source": [
    "def is_even2(x):\n",
    "    print(\"%d is \" % x + (\"\" if x % 2 == 0 else \"not \") + \"even\")\n",
    "    \n",
    "is_even2(5)"
   ]
  },
  {
   "cell_type": "markdown",
   "metadata": {},
   "source": [
    "# Loops\n",
    "There are two types of loops in Python:\n",
    "- for\n",
    "- while"
   ]
  },
  {
   "cell_type": "markdown",
   "metadata": {},
   "source": [
    "## The \"for\" loop\n",
    "For loops iterate over a given sequence. Here is an example with the sequence ['bob', 'mary', 'joe']:"
   ]
  },
  {
   "cell_type": "code",
   "execution_count": 65,
   "metadata": {},
   "outputs": [],
   "source": [
    "names = ['bob','mary','joe']"
   ]
  },
  {
   "cell_type": "code",
   "execution_count": 66,
   "metadata": {},
   "outputs": [
    {
     "name": "stdout",
     "output_type": "stream",
     "text": [
      "['bob', 'mary', 'joe']\n"
     ]
    }
   ],
   "source": [
    "print(names)"
   ]
  },
  {
   "cell_type": "markdown",
   "metadata": {},
   "source": [
    "Try to use our operators to add the string 'likes pizza' to the end of each name in the list names"
   ]
  },
  {
   "cell_type": "code",
   "execution_count": 67,
   "metadata": {},
   "outputs": [
    {
     "name": "stdout",
     "output_type": "stream",
     "text": [
      "['bob', 'mary', 'joe', 'likes pizza']\n"
     ]
    }
   ],
   "source": [
    "print(names + [\"likes pizza\"])"
   ]
  },
  {
   "cell_type": "code",
   "execution_count": 68,
   "metadata": {},
   "outputs": [
    {
     "name": "stdout",
     "output_type": "stream",
     "text": [
      "bob likes pizza\n"
     ]
    }
   ],
   "source": [
    "print(names[0] + \" likes pizza\")"
   ]
  },
  {
   "cell_type": "markdown",
   "metadata": {},
   "source": [
    "To apply this string to every object in the list, we can use a **for loop** to iterate over each object in the list and repeat an action. The for loop below will print each object the list 'names' by referring to each object as 'x'"
   ]
  },
  {
   "cell_type": "code",
   "execution_count": 69,
   "metadata": {
    "ExecuteTime": {
     "end_time": "2017-08-28T20:53:23.101852",
     "start_time": "2017-08-28T20:53:23.095850"
    }
   },
   "outputs": [
    {
     "name": "stdout",
     "output_type": "stream",
     "text": [
      "bob\n",
      "mary\n",
      "joe\n"
     ]
    }
   ],
   "source": [
    "for x in names:\n",
    "    print(x)"
   ]
  },
  {
   "cell_type": "markdown",
   "metadata": {},
   "source": [
    "You can use any general string to refer to objects in a loop - try running the below code that uses 'name' instead of 'x'"
   ]
  },
  {
   "cell_type": "code",
   "execution_count": 70,
   "metadata": {},
   "outputs": [
    {
     "name": "stdout",
     "output_type": "stream",
     "text": [
      "bob\n",
      "mary\n",
      "joe\n"
     ]
    }
   ],
   "source": [
    "for name in names:\n",
    "    print(name)"
   ]
  },
  {
   "cell_type": "markdown",
   "metadata": {},
   "source": [
    "#### In Class Activity\n",
    "Update the print function to include the string 'likes pizza' so that you can successfully print each object with the new information."
   ]
  },
  {
   "cell_type": "code",
   "execution_count": 71,
   "metadata": {},
   "outputs": [
    {
     "name": "stdout",
     "output_type": "stream",
     "text": [
      "bob likes pizza\n",
      "mary likes pizza\n",
      "joe likes pizza\n"
     ]
    }
   ],
   "source": [
    "for name in names:\n",
    "    print(name + \" likes pizza\")"
   ]
  },
  {
   "cell_type": "markdown",
   "metadata": {},
   "source": [
    "## \"while\" loops\n",
    "While loops repeat as long as a certain boolean condition is met. For example:"
   ]
  },
  {
   "cell_type": "code",
   "execution_count": 72,
   "metadata": {
    "ExecuteTime": {
     "end_time": "2017-08-28T20:55:40.795367",
     "start_time": "2017-08-28T20:55:40.786728"
    }
   },
   "outputs": [
    {
     "name": "stdout",
     "output_type": "stream",
     "text": [
      "0\n",
      "1\n",
      "2\n",
      "3\n",
      "4\n",
      "done!\n"
     ]
    }
   ],
   "source": [
    "count = 0\n",
    "while count < 5:\n",
    "    print(count)\n",
    "    count += 1  # This is the same as count = count + 1\n",
    "    \n",
    "print('done!')"
   ]
  },
  {
   "cell_type": "markdown",
   "metadata": {},
   "source": [
    "**Compute the Greater Common Denominator (GCD)**"
   ]
  },
  {
   "cell_type": "code",
   "execution_count": 73,
   "metadata": {
    "ExecuteTime": {
     "end_time": "2017-08-28T20:55:51.372584",
     "start_time": "2017-08-28T20:55:51.363977"
    }
   },
   "outputs": [
    {
     "name": "stdout",
     "output_type": "stream",
     "text": [
      "The GCD is 3\n"
     ]
    }
   ],
   "source": [
    "a = 15\n",
    "b = 12\n",
    "\n",
    "while a!=b:\n",
    "    # put smaller number in a\n",
    "    (a, b) = (a, b) if a<b else (b, a)\n",
    "    b = b - a\n",
    "\n",
    "print(\"The GCD is %d\"%a)"
   ]
  },
  {
   "cell_type": "markdown",
   "metadata": {},
   "source": [
    "**Compute the factorial of a number**"
   ]
  },
  {
   "cell_type": "code",
   "execution_count": 74,
   "metadata": {
    "ExecuteTime": {
     "end_time": "2017-08-28T21:00:46.541783",
     "start_time": "2017-08-28T21:00:46.533795"
    }
   },
   "outputs": [
    {
     "name": "stdout",
     "output_type": "stream",
     "text": [
      "5! is 120\n"
     ]
    }
   ],
   "source": [
    "def fac(n):\n",
    "    f = 1\n",
    "    for m in range(1,n+1):\n",
    "        f *= m \n",
    "    print(\"%d! is %d\" % (n,f))\n",
    "    \n",
    "fac(5)"
   ]
  },
  {
   "cell_type": "markdown",
   "metadata": {},
   "source": [
    "## \"break\" and \"continue\" statements\n",
    "break is used to exit a for loop or a while loop, whereas continue is used to skip the current block, and return to the \"for\" or \"while\" statement.\n",
    "\n",
    "The for loop below will print out only odd numbers in the range 0:9 - 1,3,5,7,9"
   ]
  },
  {
   "cell_type": "code",
   "execution_count": 75,
   "metadata": {
    "ExecuteTime": {
     "end_time": "2017-08-28T21:04:46.428564",
     "start_time": "2017-08-28T21:04:46.418549"
    }
   },
   "outputs": [
    {
     "name": "stdout",
     "output_type": "stream",
     "text": [
      "1\n",
      "3\n",
      "5\n",
      "7\n",
      "9\n"
     ]
    }
   ],
   "source": [
    "for x in range(10):\n",
    "    if x % 2 == 0:\n",
    "        continue\n",
    "    print(x)"
   ]
  },
  {
   "cell_type": "markdown",
   "metadata": {},
   "source": [
    "## Can we use \"else\" clause for loops?\n",
    "The while statement below: \n",
    "- prints out the number in count if the number is less than 5\n",
    "- adds one to the previous number in count\n",
    "\n",
    "- if the number is not less than 5, it prints \"count value reached 5\""
   ]
  },
  {
   "cell_type": "code",
   "execution_count": 76,
   "metadata": {
    "ExecuteTime": {
     "end_time": "2017-08-28T21:05:46.589584",
     "start_time": "2017-08-28T21:05:46.575579"
    }
   },
   "outputs": [
    {
     "name": "stdout",
     "output_type": "stream",
     "text": [
      "0\n",
      "1\n",
      "2\n",
      "3\n",
      "4\n",
      "count value reached 5\n"
     ]
    }
   ],
   "source": [
    "count=0\n",
    "while(count<5):\n",
    "    print(count)\n",
    "    count +=1\n",
    "else:\n",
    "    print(\"count value reached %d\" %(count))"
   ]
  },
  {
   "cell_type": "code",
   "execution_count": 77,
   "metadata": {
    "scrolled": true
   },
   "outputs": [
    {
     "name": "stdout",
     "output_type": "stream",
     "text": [
      "1\n",
      "2\n",
      "3\n",
      "4\n"
     ]
    }
   ],
   "source": [
    "for i in range(1, 10):\n",
    "    if(i%5==0):\n",
    "        break\n",
    "    print(i)\n",
    "else:\n",
    "    print(\"this is not printed because for loop is terminated because of break but not due to fail in condition\")"
   ]
  },
  {
   "cell_type": "markdown",
   "metadata": {},
   "source": [
    "# Functions and methods\n",
    "Functions are a convenient way to divide your code into useful blocks, allowing us to order our code, make it more readable, reuse it and save some time. Also functions are a key way to define interfaces so programmers can share their code."
   ]
  },
  {
   "cell_type": "markdown",
   "metadata": {},
   "source": [
    "As we have seen on previous tutorials, Python makes use of blocks.\n",
    "\n",
    "A block is a area of code of written in the format of:\n",
    "    block_head:\n",
    "        1st block line\n",
    "        2nd block line\n",
    "        \n",
    "Where a block line is more Python code (even another block), and the block head is of the following format: block_keyword block_name(argument1,argument2, ...) Block keywords you already know are \"if\", \"for\", and \"while\".\n",
    "\n",
    "Functions in python are defined using the block keyword \"def\", followed with the function's name as the block's name. For example:"
   ]
  },
  {
   "cell_type": "code",
   "execution_count": 78,
   "metadata": {
    "ExecuteTime": {
     "end_time": "2017-08-28T21:20:27.304415",
     "start_time": "2017-08-28T21:20:27.298470"
    }
   },
   "outputs": [],
   "source": [
    "def my_function():\n",
    "    pass\n",
    "    print(\"Hello From My Function!\")"
   ]
  },
  {
   "cell_type": "code",
   "execution_count": 79,
   "metadata": {
    "ExecuteTime": {
     "end_time": "2017-08-28T21:20:28.418380",
     "start_time": "2017-08-28T21:20:28.413268"
    }
   },
   "outputs": [
    {
     "name": "stdout",
     "output_type": "stream",
     "text": [
      "Hello From My Function!\n"
     ]
    }
   ],
   "source": [
    "my_function()"
   ]
  },
  {
   "cell_type": "markdown",
   "metadata": {},
   "source": [
    "Functions may also receive arguments (variables passed from the caller to the function). For example:"
   ]
  },
  {
   "cell_type": "code",
   "execution_count": 80,
   "metadata": {
    "ExecuteTime": {
     "end_time": "2017-08-28T21:21:26.812226",
     "start_time": "2017-08-28T21:21:26.807408"
    }
   },
   "outputs": [],
   "source": [
    "def my_function_with_args(username, greeting):\n",
    "    print(\"Hello, %s , From My Function!, I wish you %s\" % (username, greeting))"
   ]
  },
  {
   "cell_type": "code",
   "execution_count": 81,
   "metadata": {
    "ExecuteTime": {
     "end_time": "2017-08-28T21:21:41.941393",
     "start_time": "2017-08-28T21:21:41.935024"
    }
   },
   "outputs": [
    {
     "name": "stdout",
     "output_type": "stream",
     "text": [
      "Hello, Peter , From My Function!, I wish you a wonderful day\n"
     ]
    }
   ],
   "source": [
    "my_function_with_args(\"Peter\", \"a wonderful day\")"
   ]
  },
  {
   "cell_type": "markdown",
   "metadata": {},
   "source": [
    "Functions may return a value to the caller, using the keyword- 'return' . For example:"
   ]
  },
  {
   "cell_type": "code",
   "execution_count": 82,
   "metadata": {
    "ExecuteTime": {
     "end_time": "2017-08-28T21:24:41.030465",
     "start_time": "2017-08-28T21:24:41.024717"
    }
   },
   "outputs": [],
   "source": [
    "def sum_two_numbers(a, b=1):\n",
    "    print(\"a = \" + str(a))\n",
    "    print(\"b = \" + str(b))\n",
    "    return a + b"
   ]
  },
  {
   "cell_type": "code",
   "execution_count": 83,
   "metadata": {
    "ExecuteTime": {
     "end_time": "2017-08-28T21:24:42.326928",
     "start_time": "2017-08-28T21:24:42.321835"
    },
    "scrolled": true
   },
   "outputs": [
    {
     "name": "stdout",
     "output_type": "stream",
     "text": [
      "a = 19\n",
      "b = 5\n"
     ]
    }
   ],
   "source": [
    "x = sum_two_numbers(b=5,a=19)"
   ]
  },
  {
   "cell_type": "code",
   "execution_count": 84,
   "metadata": {
    "ExecuteTime": {
     "end_time": "2017-08-28T21:24:50.224757",
     "start_time": "2017-08-28T21:24:50.218929"
    }
   },
   "outputs": [
    {
     "data": {
      "text/plain": [
       "24"
      ]
     },
     "execution_count": 84,
     "metadata": {},
     "output_type": "execute_result"
    }
   ],
   "source": [
    "x"
   ]
  },
  {
   "cell_type": "markdown",
   "metadata": {
    "ExecuteTime": {
     "end_time": "2017-08-26T18:30:52.289753",
     "start_time": "2017-08-26T18:30:52.284527"
    }
   },
   "source": [
    "### How to call functions after they are defined"
   ]
  },
  {
   "cell_type": "code",
   "execution_count": 85,
   "metadata": {},
   "outputs": [
    {
     "name": "stdout",
     "output_type": "stream",
     "text": [
      "Hello From My Function!\n",
      "Hello, John Doe , From My Function!, I wish you a great year!\n"
     ]
    }
   ],
   "source": [
    "def my_function():\n",
    "    print(\"Hello From My Function!\")\n",
    "\n",
    "def my_function_with_args(username, greeting):\n",
    "    print(\"Hello, %s , From My Function!, I wish you %s\" % (username, greeting))\n",
    "\n",
    "# print(a simple greeting)\n",
    "my_function()\n",
    "\n",
    "#prints - \"Hello, John Doe, From My Function!, I wish you a great year!\"\n",
    "my_function_with_args(\"John Doe\", \"a great year!\")"
   ]
  },
  {
   "cell_type": "code",
   "execution_count": 86,
   "metadata": {
    "ExecuteTime": {
     "end_time": "2017-08-28T21:31:02.537442",
     "start_time": "2017-08-28T21:31:02.529574"
    }
   },
   "outputs": [
    {
     "name": "stdout",
     "output_type": "stream",
     "text": [
      "5\n",
      "25\n",
      "125\n"
     ]
    }
   ],
   "source": [
    "def my_fun2(x):\n",
    "    return x, x**2, x**3\n",
    "\n",
    "y1, y2, y3 = my_fun2(5)\n",
    "print(y1)\n",
    "print(y2)\n",
    "print(y3)"
   ]
  },
  {
   "cell_type": "markdown",
   "metadata": {},
   "source": [
    "## Methods\n",
    "Methods are very similar to functions with the difference that, typically, a method associated with an objects. Let's test some methods with the object 's' below.\n"
   ]
  },
  {
   "cell_type": "code",
   "execution_count": 87,
   "metadata": {
    "ExecuteTime": {
     "end_time": "2017-08-28T21:32:40.427074",
     "start_time": "2017-08-28T21:32:40.419233"
    }
   },
   "outputs": [],
   "source": [
    "s = \"Hello WORLD\""
   ]
  },
  {
   "cell_type": "code",
   "execution_count": 88,
   "metadata": {},
   "outputs": [
    {
     "name": "stdout",
     "output_type": "stream",
     "text": [
      "Hello WORLD\n"
     ]
    }
   ],
   "source": [
    "print(s)"
   ]
  },
  {
   "cell_type": "markdown",
   "metadata": {},
   "source": [
    "Update s using the lower method so that it prints in all lower case."
   ]
  },
  {
   "cell_type": "code",
   "execution_count": 89,
   "metadata": {},
   "outputs": [
    {
     "name": "stdout",
     "output_type": "stream",
     "text": [
      "hello world\n"
     ]
    }
   ],
   "source": [
    "print(s.lower())"
   ]
  },
  {
   "cell_type": "markdown",
   "metadata": {},
   "source": [
    "Update s using the upper method so that it prints in all lower case."
   ]
  },
  {
   "cell_type": "code",
   "execution_count": 90,
   "metadata": {},
   "outputs": [
    {
     "name": "stdout",
     "output_type": "stream",
     "text": [
      "HELLO WORLD\n"
     ]
    }
   ],
   "source": [
    "print(s.upper())"
   ]
  },
  {
   "cell_type": "code",
   "execution_count": 91,
   "metadata": {
    "ExecuteTime": {
     "end_time": "2017-08-26T18:36:43.926870",
     "start_time": "2017-08-26T18:36:43.920461"
    }
   },
   "outputs": [
    {
     "data": {
      "text/plain": [
       "(15, 4)"
      ]
     },
     "execution_count": 91,
     "metadata": {},
     "output_type": "execute_result"
    }
   ],
   "source": [
    "3.75.as_integer_ratio()"
   ]
  },
  {
   "cell_type": "markdown",
   "metadata": {},
   "source": [
    "**Hint:** while typing in the notebook or at the `ipython` prompt use the [TAB]-key after adding a \".\" (period) behind an object to see available methods:\n",
    "\n",
    "1. Type the name of an already defined object: `s`\n",
    "2. Add a period \".\" and hit the [TAB]-key: `s.`  $\\leftarrow$ This should show a list of available methods to a string.\n",
    "\n",
    "Take a look at the different methods available to use on the object s.\n",
    "\n",
    "![](figs/tab-key-methods.png)"
   ]
  },
  {
   "cell_type": "code",
   "execution_count": 92,
   "metadata": {},
   "outputs": [
    {
     "data": {
      "text/plain": [
       "'Hello WORLD'"
      ]
     },
     "execution_count": 92,
     "metadata": {},
     "output_type": "execute_result"
    }
   ],
   "source": [
    "s"
   ]
  },
  {
   "cell_type": "markdown",
   "metadata": {},
   "source": [
    "# Plotting Data\n",
    "- Let's use our new knowledge about lists, functions and methods to define some data and plot it for review.\n",
    "- The following examples will create lists of values, and then graph them.\n",
    "- We use a module of the Matplotlib library https://matplotlib.org/ The web-site provides detailed documentation additional examples\n",
    "<img src=\"https://matplotlib.org/_static/logo2.svg\" style=\"top:5px;width:200px;right:5px;position:absolute\" />"
   ]
  },
  {
   "cell_type": "code",
   "execution_count": 93,
   "metadata": {
    "ExecuteTime": {
     "end_time": "2020-01-26T22:50:11.162954Z",
     "start_time": "2020-01-26T22:50:10.813445Z"
    }
   },
   "outputs": [],
   "source": [
    "%matplotlib inline\n",
    "import matplotlib.pyplot as plt\n",
    "import matplotlib.style as style"
   ]
  },
  {
   "cell_type": "markdown",
   "metadata": {},
   "source": [
    "Run the line below to create an empty plot. This plot create that base visual that we will be displaying data on. Since we are not displaying any data, we see only an empty chart."
   ]
  },
  {
   "cell_type": "code",
   "execution_count": 94,
   "metadata": {
    "ExecuteTime": {
     "end_time": "2020-01-26T22:50:14.458193Z",
     "start_time": "2020-01-26T22:50:14.225917Z"
    }
   },
   "outputs": [
    {
     "data": {
      "text/plain": [
       "[]"
      ]
     },
     "execution_count": 94,
     "metadata": {},
     "output_type": "execute_result"
    },
    {
     "data": {
      "image/png": "[encoded data removed]",
      "text/plain": [
       "<Figure size 432x288 with 1 Axes>"
      ]
     },
     "metadata": {
      "needs_background": "light"
     },
     "output_type": "display_data"
    }
   ],
   "source": [
    "plt.plot()"
   ]
  },
  {
   "cell_type": "markdown",
   "metadata": {},
   "source": [
    "We create a list of numbers to define as our x axis in the list 'x' below, and plot those in the plot below."
   ]
  },
  {
   "cell_type": "code",
   "execution_count": 95,
   "metadata": {
    "ExecuteTime": {
     "end_time": "2020-01-26T22:50:19.055890Z",
     "start_time": "2020-01-26T22:50:19.052100Z"
    }
   },
   "outputs": [],
   "source": [
    "y = [1,6,2,4,9,4,2,5,7]"
   ]
  },
  {
   "cell_type": "code",
   "execution_count": 96,
   "metadata": {
    "ExecuteTime": {
     "end_time": "2020-01-26T22:50:21.568215Z",
     "start_time": "2020-01-26T22:50:21.331115Z"
    }
   },
   "outputs": [
    {
     "data": {
      "text/plain": [
       "[<matplotlib.lines.Line2D at 0x119fe3400>]"
      ]
     },
     "execution_count": 96,
     "metadata": {},
     "output_type": "execute_result"
    },
    {
     "data": {
      "image/png": "[encoded data removed]",
      "text/plain": [
       "<Figure size 432x288 with 1 Axes>"
      ]
     },
     "metadata": {
      "needs_background": "light"
     },
     "output_type": "display_data"
    }
   ],
   "source": [
    "plt.plot(y)"
   ]
  },
  {
   "cell_type": "markdown",
   "metadata": {},
   "source": [
    "Now define a list of variables to represent your x values and plot them in the cell below"
   ]
  },
  {
   "cell_type": "code",
   "execution_count": 97,
   "metadata": {
    "ExecuteTime": {
     "end_time": "2020-01-26T22:50:24.349230Z",
     "start_time": "2020-01-26T22:50:24.345531Z"
    }
   },
   "outputs": [],
   "source": [
    "x = [1, 2, 3, 4, 5, 6, 7, 8, 9]"
   ]
  },
  {
   "cell_type": "code",
   "execution_count": 98,
   "metadata": {
    "ExecuteTime": {
     "end_time": "2020-01-26T22:50:26.002473Z",
     "start_time": "2020-01-26T22:50:25.763248Z"
    }
   },
   "outputs": [
    {
     "data": {
      "text/plain": [
       "[<matplotlib.lines.Line2D at 0x11a0c8780>]"
      ]
     },
     "execution_count": 98,
     "metadata": {},
     "output_type": "execute_result"
    },
    {
     "data": {
      "image/png": "[encoded data removed]",
      "text/plain": [
       "<Figure size 432x288 with 1 Axes>"
      ]
     },
     "metadata": {
      "needs_background": "light"
     },
     "output_type": "display_data"
    }
   ],
   "source": [
    "plt.plot(x, y)"
   ]
  },
  {
   "cell_type": "markdown",
   "metadata": {},
   "source": [
    "**note that order matters, as shown in the chart below**"
   ]
  },
  {
   "cell_type": "code",
   "execution_count": 99,
   "metadata": {
    "ExecuteTime": {
     "end_time": "2020-01-26T22:50:29.239110Z",
     "start_time": "2020-01-26T22:50:28.973339Z"
    }
   },
   "outputs": [
    {
     "data": {
      "text/plain": [
       "[<matplotlib.lines.Line2D at 0x11a1a1630>]"
      ]
     },
     "execution_count": 99,
     "metadata": {},
     "output_type": "execute_result"
    },
    {
     "data": {
      "image/png": "[encoded data removed]",
      "text/plain": [
       "<Figure size 432x288 with 1 Axes>"
      ]
     },
     "metadata": {
      "needs_background": "light"
     },
     "output_type": "display_data"
    }
   ],
   "source": [
    "plt.plot(y, x)"
   ]
  },
  {
   "cell_type": "code",
   "execution_count": 100,
   "metadata": {},
   "outputs": [
    {
     "data": {
      "text/plain": [
       "['seaborn-dark',\n",
       " 'seaborn-darkgrid',\n",
       " 'seaborn-ticks',\n",
       " 'fivethirtyeight',\n",
       " 'seaborn-whitegrid',\n",
       " 'classic',\n",
       " '_classic_test',\n",
       " 'fast',\n",
       " 'seaborn-talk',\n",
       " 'seaborn-dark-palette',\n",
       " 'seaborn-bright',\n",
       " 'seaborn-pastel',\n",
       " 'grayscale',\n",
       " 'seaborn-notebook',\n",
       " 'ggplot',\n",
       " 'seaborn-colorblind',\n",
       " 'seaborn-muted',\n",
       " 'seaborn',\n",
       " 'Solarize_Light2',\n",
       " 'seaborn-paper',\n",
       " 'bmh',\n",
       " 'tableau-colorblind10',\n",
       " 'seaborn-white',\n",
       " 'dark_background',\n",
       " 'seaborn-poster',\n",
       " 'seaborn-deep']"
      ]
     },
     "execution_count": 100,
     "metadata": {},
     "output_type": "execute_result"
    }
   ],
   "source": [
    "style.available"
   ]
  },
  {
   "cell_type": "markdown",
   "metadata": {},
   "source": [
    "**note:** you can plot multiple lines on the same chart in order to compare. Below we will modify the x list created earlier to make two distinct y lists. "
   ]
  },
  {
   "cell_type": "code",
   "execution_count": 101,
   "metadata": {
    "ExecuteTime": {
     "end_time": "2020-01-26T22:50:34.218790Z",
     "start_time": "2020-01-26T22:50:34.213282Z"
    }
   },
   "outputs": [],
   "source": [
    "y = [ xx**2 for xx in x]\n",
    "y2 = [xx**3 for xx in x]"
   ]
  },
  {
   "cell_type": "code",
   "execution_count": 102,
   "metadata": {
    "ExecuteTime": {
     "end_time": "2020-01-26T22:50:36.534934Z",
     "start_time": "2020-01-26T22:50:35.848499Z"
    }
   },
   "outputs": [],
   "source": [
    "import seaborn as sns"
   ]
  },
  {
   "cell_type": "code",
   "execution_count": 103,
   "metadata": {
    "ExecuteTime": {
     "end_time": "2020-01-26T22:50:37.627043Z",
     "start_time": "2020-01-26T22:50:37.312448Z"
    }
   },
   "outputs": [
    {
     "data": {
      "image/png": "[encoded data removed]",
      "text/plain": [
       "<Figure size 432x288 with 1 Axes>"
      ]
     },
     "metadata": {},
     "output_type": "display_data"
    }
   ],
   "source": [
    "sns.set_style('white')\n",
    "plt.plot(x, y, label=\"x^2\")\n",
    "plt.plot(x, y2, label=\"x^3\")\n",
    "plt.legend(loc=\"best\")\n",
    "plt.title(\"Exponential Functions\")\n",
    "plt.show()"
   ]
  },
  {
   "cell_type": "code",
   "execution_count": 104,
   "metadata": {
    "ExecuteTime": {
     "end_time": "2020-01-26T22:50:47.834218Z",
     "start_time": "2020-01-26T22:50:47.828726Z"
    }
   },
   "outputs": [
    {
     "data": {
      "text/plain": [
       "[-3.1415926535897936,\n",
       " -3.0787608005179976,\n",
       " -3.0159289474462017,\n",
       " -2.9530970943744057,\n",
       " -2.8902652413026098,\n",
       " -2.8274333882308142,\n",
       " -2.7646015351590183,\n",
       " -2.7017696820872223,\n",
       " -2.6389378290154264,\n",
       " -2.5761059759436304]"
      ]
     },
     "execution_count": 104,
     "metadata": {},
     "output_type": "execute_result"
    }
   ],
   "source": [
    "import math as ma\n",
    "theta = [ ma.pi*0.02*float(t-50) for t in range (100)]\n",
    "theta[:10]"
   ]
  },
  {
   "cell_type": "code",
   "execution_count": 105,
   "metadata": {
    "ExecuteTime": {
     "end_time": "2020-01-26T22:50:50.971093Z",
     "start_time": "2020-01-26T22:50:50.967385Z"
    }
   },
   "outputs": [],
   "source": [
    "x = [ma.sin(t) for t in theta]\n",
    "y = [ma.cos(t) for t in theta]"
   ]
  },
  {
   "cell_type": "code",
   "execution_count": 106,
   "metadata": {
    "ExecuteTime": {
     "end_time": "2020-01-26T22:50:53.470309Z",
     "start_time": "2020-01-26T22:50:53.467039Z"
    }
   },
   "outputs": [],
   "source": [
    "x,y = zip(*[(ma.sin(t), ma.cos(t)) for t in theta])"
   ]
  },
  {
   "cell_type": "code",
   "execution_count": 107,
   "metadata": {
    "ExecuteTime": {
     "end_time": "2017-08-28T21:41:50.906418",
     "start_time": "2017-08-28T21:41:50.696803"
    }
   },
   "outputs": [
    {
     "data": {
      "text/plain": [
       "[<matplotlib.lines.Line2D at 0x1a1dfb6278>]"
      ]
     },
     "execution_count": 107,
     "metadata": {},
     "output_type": "execute_result"
    },
    {
     "data": {
      "image/png": "[encoded data removed]",
      "text/plain": [
       "<Figure size 432x432 with 1 Axes>"
      ]
     },
     "metadata": {},
     "output_type": "display_data"
    }
   ],
   "source": [
    "plt.figure(figsize=(6,6))\n",
    "plt.plot(x,y)"
   ]
  },
  {
   "cell_type": "markdown",
   "metadata": {},
   "source": [
    "# Let's use these skills to make some predictions!\n",
    "We will walk through making initial predictions using a datasets. For bootcamp #1, we will review making predictions without tuning data or the model components. \n",
    "\n",
    "In future bootcamps, we'll look further into some of the most popular models in data science so that you can learn their purpose and how they can be improved!\n",
    "\n",
    "Data Source: https://www.kaggle.com/c/house-prices-advanced-regression-techniques"
   ]
  },
  {
   "cell_type": "markdown",
   "metadata": {},
   "source": [
    "## Predicting House Prices"
   ]
  },
  {
   "cell_type": "code",
   "execution_count": 108,
   "metadata": {
    "ExecuteTime": {
     "end_time": "2020-01-26T22:51:11.632219Z",
     "start_time": "2020-01-26T22:51:11.629329Z"
    }
   },
   "outputs": [],
   "source": [
    "import pandas as pd"
   ]
  },
  {
   "cell_type": "code",
   "execution_count": 109,
   "metadata": {
    "ExecuteTime": {
     "end_time": "2020-01-26T22:51:13.444682Z",
     "start_time": "2020-01-26T22:51:13.393326Z"
    }
   },
   "outputs": [],
   "source": [
    "prices = pd.read_csv('housing_price.csv')"
   ]
  },
  {
   "cell_type": "code",
   "execution_count": 110,
   "metadata": {
    "ExecuteTime": {
     "end_time": "2020-01-26T22:51:16.707406Z",
     "start_time": "2020-01-26T22:51:16.668949Z"
    },
    "scrolled": true
   },
   "outputs": [
    {
     "data": {
      "text/html": [
       "<div>\n",
       "<style scoped>\n",
       "    .dataframe tbody tr th:only-of-type {\n",
       "        vertical-align: middle;\n",
       "    }\n",
       "\n",
       "    .dataframe tbody tr th {\n",
       "        vertical-align: top;\n",
       "    }\n",
       "\n",
       "    .dataframe thead th {\n",
       "        text-align: right;\n",
       "    }\n",
       "</style>\n",
       "<table border=\"1\" class=\"dataframe\">\n",
       "  <thead>\n",
       "    <tr style=\"text-align: right;\">\n",
       "      <th></th>\n",
       "      <th>Id</th>\n",
       "      <th>MSSubClass</th>\n",
       "      <th>MSZoning</th>\n",
       "      <th>LotFrontage</th>\n",
       "      <th>LotArea</th>\n",
       "      <th>Street</th>\n",
       "      <th>Alley</th>\n",
       "      <th>LotShape</th>\n",
       "      <th>LandContour</th>\n",
       "      <th>Utilities</th>\n",
       "      <th>...</th>\n",
       "      <th>PoolArea</th>\n",
       "      <th>PoolQC</th>\n",
       "      <th>Fence</th>\n",
       "      <th>MiscFeature</th>\n",
       "      <th>MiscVal</th>\n",
       "      <th>MoSold</th>\n",
       "      <th>YrSold</th>\n",
       "      <th>SaleType</th>\n",
       "      <th>SaleCondition</th>\n",
       "      <th>SalePrice</th>\n",
       "    </tr>\n",
       "  </thead>\n",
       "  <tbody>\n",
       "    <tr>\n",
       "      <th>0</th>\n",
       "      <td>1</td>\n",
       "      <td>60</td>\n",
       "      <td>RL</td>\n",
       "      <td>65.0</td>\n",
       "      <td>8450</td>\n",
       "      <td>Pave</td>\n",
       "      <td>NaN</td>\n",
       "      <td>Reg</td>\n",
       "      <td>Lvl</td>\n",
       "      <td>AllPub</td>\n",
       "      <td>...</td>\n",
       "      <td>0</td>\n",
       "      <td>NaN</td>\n",
       "      <td>NaN</td>\n",
       "      <td>NaN</td>\n",
       "      <td>0</td>\n",
       "      <td>2</td>\n",
       "      <td>2008</td>\n",
       "      <td>WD</td>\n",
       "      <td>Normal</td>\n",
       "      <td>208500</td>\n",
       "    </tr>\n",
       "    <tr>\n",
       "      <th>1</th>\n",
       "      <td>2</td>\n",
       "      <td>20</td>\n",
       "      <td>RL</td>\n",
       "      <td>80.0</td>\n",
       "      <td>9600</td>\n",
       "      <td>Pave</td>\n",
       "      <td>NaN</td>\n",
       "      <td>Reg</td>\n",
       "      <td>Lvl</td>\n",
       "      <td>AllPub</td>\n",
       "      <td>...</td>\n",
       "      <td>0</td>\n",
       "      <td>NaN</td>\n",
       "      <td>NaN</td>\n",
       "      <td>NaN</td>\n",
       "      <td>0</td>\n",
       "      <td>5</td>\n",
       "      <td>2007</td>\n",
       "      <td>WD</td>\n",
       "      <td>Normal</td>\n",
       "      <td>181500</td>\n",
       "    </tr>\n",
       "    <tr>\n",
       "      <th>2</th>\n",
       "      <td>3</td>\n",
       "      <td>60</td>\n",
       "      <td>RL</td>\n",
       "      <td>68.0</td>\n",
       "      <td>11250</td>\n",
       "      <td>Pave</td>\n",
       "      <td>NaN</td>\n",
       "      <td>IR1</td>\n",
       "      <td>Lvl</td>\n",
       "      <td>AllPub</td>\n",
       "      <td>...</td>\n",
       "      <td>0</td>\n",
       "      <td>NaN</td>\n",
       "      <td>NaN</td>\n",
       "      <td>NaN</td>\n",
       "      <td>0</td>\n",
       "      <td>9</td>\n",
       "      <td>2008</td>\n",
       "      <td>WD</td>\n",
       "      <td>Normal</td>\n",
       "      <td>223500</td>\n",
       "    </tr>\n",
       "    <tr>\n",
       "      <th>3</th>\n",
       "      <td>4</td>\n",
       "      <td>70</td>\n",
       "      <td>RL</td>\n",
       "      <td>60.0</td>\n",
       "      <td>9550</td>\n",
       "      <td>Pave</td>\n",
       "      <td>NaN</td>\n",
       "      <td>IR1</td>\n",
       "      <td>Lvl</td>\n",
       "      <td>AllPub</td>\n",
       "      <td>...</td>\n",
       "      <td>0</td>\n",
       "      <td>NaN</td>\n",
       "      <td>NaN</td>\n",
       "      <td>NaN</td>\n",
       "      <td>0</td>\n",
       "      <td>2</td>\n",
       "      <td>2006</td>\n",
       "      <td>WD</td>\n",
       "      <td>Abnorml</td>\n",
       "      <td>140000</td>\n",
       "    </tr>\n",
       "    <tr>\n",
       "      <th>4</th>\n",
       "      <td>5</td>\n",
       "      <td>60</td>\n",
       "      <td>RL</td>\n",
       "      <td>84.0</td>\n",
       "      <td>14260</td>\n",
       "      <td>Pave</td>\n",
       "      <td>NaN</td>\n",
       "      <td>IR1</td>\n",
       "      <td>Lvl</td>\n",
       "      <td>AllPub</td>\n",
       "      <td>...</td>\n",
       "      <td>0</td>\n",
       "      <td>NaN</td>\n",
       "      <td>NaN</td>\n",
       "      <td>NaN</td>\n",
       "      <td>0</td>\n",
       "      <td>12</td>\n",
       "      <td>2008</td>\n",
       "      <td>WD</td>\n",
       "      <td>Normal</td>\n",
       "      <td>250000</td>\n",
       "    </tr>\n",
       "  </tbody>\n",
       "</table>\n",
       "<p>5 rows × 81 columns</p>\n",
       "</div>"
      ],
      "text/plain": [
       "   Id  MSSubClass MSZoning  LotFrontage  LotArea Street Alley LotShape  \\\n",
       "0   1          60       RL         65.0     8450   Pave   NaN      Reg   \n",
       "1   2          20       RL         80.0     9600   Pave   NaN      Reg   \n",
       "2   3          60       RL         68.0    11250   Pave   NaN      IR1   \n",
       "3   4          70       RL         60.0     9550   Pave   NaN      IR1   \n",
       "4   5          60       RL         84.0    14260   Pave   NaN      IR1   \n",
       "\n",
       "  LandContour Utilities  ... PoolArea PoolQC Fence MiscFeature MiscVal MoSold  \\\n",
       "0         Lvl    AllPub  ...        0    NaN   NaN         NaN       0      2   \n",
       "1         Lvl    AllPub  ...        0    NaN   NaN         NaN       0      5   \n",
       "2         Lvl    AllPub  ...        0    NaN   NaN         NaN       0      9   \n",
       "3         Lvl    AllPub  ...        0    NaN   NaN         NaN       0      2   \n",
       "4         Lvl    AllPub  ...        0    NaN   NaN         NaN       0     12   \n",
       "\n",
       "  YrSold  SaleType  SaleCondition  SalePrice  \n",
       "0   2008        WD         Normal     208500  \n",
       "1   2007        WD         Normal     181500  \n",
       "2   2008        WD         Normal     223500  \n",
       "3   2006        WD        Abnorml     140000  \n",
       "4   2008        WD         Normal     250000  \n",
       "\n",
       "[5 rows x 81 columns]"
      ]
     },
     "execution_count": 110,
     "metadata": {},
     "output_type": "execute_result"
    }
   ],
   "source": [
    "#review the data that we have just loaded\n",
    "prices.head()"
   ]
  },
  {
   "cell_type": "code",
   "execution_count": 111,
   "metadata": {
    "ExecuteTime": {
     "end_time": "2020-01-26T22:51:20.321267Z",
     "start_time": "2020-01-26T22:51:20.316598Z"
    }
   },
   "outputs": [
    {
     "data": {
      "text/plain": [
       "1460"
      ]
     },
     "execution_count": 111,
     "metadata": {},
     "output_type": "execute_result"
    }
   ],
   "source": [
    "#How much data do we have\n",
    "len(prices)"
   ]
  },
  {
   "cell_type": "code",
   "execution_count": 112,
   "metadata": {
    "ExecuteTime": {
     "end_time": "2020-01-26T22:51:22.533063Z",
     "start_time": "2020-01-26T22:51:22.521989Z"
    }
   },
   "outputs": [
    {
     "data": {
      "text/plain": [
       "count      1460.000000\n",
       "mean     180921.195890\n",
       "std       79442.502883\n",
       "min       34900.000000\n",
       "25%      129975.000000\n",
       "50%      163000.000000\n",
       "75%      214000.000000\n",
       "max      755000.000000\n",
       "Name: SalePrice, dtype: float64"
      ]
     },
     "execution_count": 112,
     "metadata": {},
     "output_type": "execute_result"
    }
   ],
   "source": [
    "#Look at the target variable\n",
    "prices['SalePrice'].describe()"
   ]
  },
  {
   "cell_type": "code",
   "execution_count": 113,
   "metadata": {
    "ExecuteTime": {
     "end_time": "2020-01-26T22:51:26.268834Z",
     "start_time": "2020-01-26T22:51:26.242537Z"
    }
   },
   "outputs": [],
   "source": [
    "#Look at only the numeric data for now - we will incorporate more features as we progress through the bootcamps\n",
    "prices_integers = prices.select_dtypes(include=['int'])"
   ]
  },
  {
   "cell_type": "code",
   "execution_count": 114,
   "metadata": {
    "ExecuteTime": {
     "end_time": "2020-01-26T22:51:30.238468Z",
     "start_time": "2020-01-26T22:51:30.215540Z"
    },
    "scrolled": true
   },
   "outputs": [
    {
     "data": {
      "text/html": [
       "<div>\n",
       "<style scoped>\n",
       "    .dataframe tbody tr th:only-of-type {\n",
       "        vertical-align: middle;\n",
       "    }\n",
       "\n",
       "    .dataframe tbody tr th {\n",
       "        vertical-align: top;\n",
       "    }\n",
       "\n",
       "    .dataframe thead th {\n",
       "        text-align: right;\n",
       "    }\n",
       "</style>\n",
       "<table border=\"1\" class=\"dataframe\">\n",
       "  <thead>\n",
       "    <tr style=\"text-align: right;\">\n",
       "      <th></th>\n",
       "      <th>Id</th>\n",
       "      <th>MSSubClass</th>\n",
       "      <th>LotArea</th>\n",
       "      <th>OverallQual</th>\n",
       "      <th>OverallCond</th>\n",
       "      <th>YearBuilt</th>\n",
       "      <th>YearRemodAdd</th>\n",
       "      <th>BsmtFinSF1</th>\n",
       "      <th>BsmtFinSF2</th>\n",
       "      <th>BsmtUnfSF</th>\n",
       "      <th>...</th>\n",
       "      <th>WoodDeckSF</th>\n",
       "      <th>OpenPorchSF</th>\n",
       "      <th>EnclosedPorch</th>\n",
       "      <th>3SsnPorch</th>\n",
       "      <th>ScreenPorch</th>\n",
       "      <th>PoolArea</th>\n",
       "      <th>MiscVal</th>\n",
       "      <th>MoSold</th>\n",
       "      <th>YrSold</th>\n",
       "      <th>SalePrice</th>\n",
       "    </tr>\n",
       "  </thead>\n",
       "  <tbody>\n",
       "    <tr>\n",
       "      <th>0</th>\n",
       "      <td>1</td>\n",
       "      <td>60</td>\n",
       "      <td>8450</td>\n",
       "      <td>7</td>\n",
       "      <td>5</td>\n",
       "      <td>2003</td>\n",
       "      <td>2003</td>\n",
       "      <td>706</td>\n",
       "      <td>0</td>\n",
       "      <td>150</td>\n",
       "      <td>...</td>\n",
       "      <td>0</td>\n",
       "      <td>61</td>\n",
       "      <td>0</td>\n",
       "      <td>0</td>\n",
       "      <td>0</td>\n",
       "      <td>0</td>\n",
       "      <td>0</td>\n",
       "      <td>2</td>\n",
       "      <td>2008</td>\n",
       "      <td>208500</td>\n",
       "    </tr>\n",
       "    <tr>\n",
       "      <th>1</th>\n",
       "      <td>2</td>\n",
       "      <td>20</td>\n",
       "      <td>9600</td>\n",
       "      <td>6</td>\n",
       "      <td>8</td>\n",
       "      <td>1976</td>\n",
       "      <td>1976</td>\n",
       "      <td>978</td>\n",
       "      <td>0</td>\n",
       "      <td>284</td>\n",
       "      <td>...</td>\n",
       "      <td>298</td>\n",
       "      <td>0</td>\n",
       "      <td>0</td>\n",
       "      <td>0</td>\n",
       "      <td>0</td>\n",
       "      <td>0</td>\n",
       "      <td>0</td>\n",
       "      <td>5</td>\n",
       "      <td>2007</td>\n",
       "      <td>181500</td>\n",
       "    </tr>\n",
       "    <tr>\n",
       "      <th>2</th>\n",
       "      <td>3</td>\n",
       "      <td>60</td>\n",
       "      <td>11250</td>\n",
       "      <td>7</td>\n",
       "      <td>5</td>\n",
       "      <td>2001</td>\n",
       "      <td>2002</td>\n",
       "      <td>486</td>\n",
       "      <td>0</td>\n",
       "      <td>434</td>\n",
       "      <td>...</td>\n",
       "      <td>0</td>\n",
       "      <td>42</td>\n",
       "      <td>0</td>\n",
       "      <td>0</td>\n",
       "      <td>0</td>\n",
       "      <td>0</td>\n",
       "      <td>0</td>\n",
       "      <td>9</td>\n",
       "      <td>2008</td>\n",
       "      <td>223500</td>\n",
       "    </tr>\n",
       "    <tr>\n",
       "      <th>3</th>\n",
       "      <td>4</td>\n",
       "      <td>70</td>\n",
       "      <td>9550</td>\n",
       "      <td>7</td>\n",
       "      <td>5</td>\n",
       "      <td>1915</td>\n",
       "      <td>1970</td>\n",
       "      <td>216</td>\n",
       "      <td>0</td>\n",
       "      <td>540</td>\n",
       "      <td>...</td>\n",
       "      <td>0</td>\n",
       "      <td>35</td>\n",
       "      <td>272</td>\n",
       "      <td>0</td>\n",
       "      <td>0</td>\n",
       "      <td>0</td>\n",
       "      <td>0</td>\n",
       "      <td>2</td>\n",
       "      <td>2006</td>\n",
       "      <td>140000</td>\n",
       "    </tr>\n",
       "    <tr>\n",
       "      <th>4</th>\n",
       "      <td>5</td>\n",
       "      <td>60</td>\n",
       "      <td>14260</td>\n",
       "      <td>8</td>\n",
       "      <td>5</td>\n",
       "      <td>2000</td>\n",
       "      <td>2000</td>\n",
       "      <td>655</td>\n",
       "      <td>0</td>\n",
       "      <td>490</td>\n",
       "      <td>...</td>\n",
       "      <td>192</td>\n",
       "      <td>84</td>\n",
       "      <td>0</td>\n",
       "      <td>0</td>\n",
       "      <td>0</td>\n",
       "      <td>0</td>\n",
       "      <td>0</td>\n",
       "      <td>12</td>\n",
       "      <td>2008</td>\n",
       "      <td>250000</td>\n",
       "    </tr>\n",
       "  </tbody>\n",
       "</table>\n",
       "<p>5 rows × 35 columns</p>\n",
       "</div>"
      ],
      "text/plain": [
       "   Id  MSSubClass  LotArea  OverallQual  OverallCond  YearBuilt  YearRemodAdd  \\\n",
       "0   1          60     8450            7            5       2003          2003   \n",
       "1   2          20     9600            6            8       1976          1976   \n",
       "2   3          60    11250            7            5       2001          2002   \n",
       "3   4          70     9550            7            5       1915          1970   \n",
       "4   5          60    14260            8            5       2000          2000   \n",
       "\n",
       "   BsmtFinSF1  BsmtFinSF2  BsmtUnfSF  ...  WoodDeckSF  OpenPorchSF  \\\n",
       "0         706           0        150  ...           0           61   \n",
       "1         978           0        284  ...         298            0   \n",
       "2         486           0        434  ...           0           42   \n",
       "3         216           0        540  ...           0           35   \n",
       "4         655           0        490  ...         192           84   \n",
       "\n",
       "   EnclosedPorch  3SsnPorch  ScreenPorch  PoolArea  MiscVal  MoSold  YrSold  \\\n",
       "0              0          0            0         0        0       2    2008   \n",
       "1              0          0            0         0        0       5    2007   \n",
       "2              0          0            0         0        0       9    2008   \n",
       "3            272          0            0         0        0       2    2006   \n",
       "4              0          0            0         0        0      12    2008   \n",
       "\n",
       "   SalePrice  \n",
       "0     208500  \n",
       "1     181500  \n",
       "2     223500  \n",
       "3     140000  \n",
       "4     250000  \n",
       "\n",
       "[5 rows x 35 columns]"
      ]
     },
     "execution_count": 114,
     "metadata": {},
     "output_type": "execute_result"
    }
   ],
   "source": [
    "prices_integers.head()"
   ]
  },
  {
   "cell_type": "code",
   "execution_count": 115,
   "metadata": {
    "ExecuteTime": {
     "end_time": "2020-01-26T22:51:33.383880Z",
     "start_time": "2020-01-26T22:51:33.331265Z"
    }
   },
   "outputs": [
    {
     "data": {
      "text/html": [
       "<div>\n",
       "<style scoped>\n",
       "    .dataframe tbody tr th:only-of-type {\n",
       "        vertical-align: middle;\n",
       "    }\n",
       "\n",
       "    .dataframe tbody tr th {\n",
       "        vertical-align: top;\n",
       "    }\n",
       "\n",
       "    .dataframe thead th {\n",
       "        text-align: right;\n",
       "    }\n",
       "</style>\n",
       "<table border=\"1\" class=\"dataframe\">\n",
       "  <thead>\n",
       "    <tr style=\"text-align: right;\">\n",
       "      <th></th>\n",
       "      <th>Id</th>\n",
       "      <th>MSSubClass</th>\n",
       "      <th>LotArea</th>\n",
       "      <th>OverallQual</th>\n",
       "      <th>OverallCond</th>\n",
       "      <th>YearBuilt</th>\n",
       "      <th>YearRemodAdd</th>\n",
       "      <th>BsmtFinSF1</th>\n",
       "      <th>BsmtFinSF2</th>\n",
       "      <th>BsmtUnfSF</th>\n",
       "      <th>...</th>\n",
       "      <th>WoodDeckSF</th>\n",
       "      <th>OpenPorchSF</th>\n",
       "      <th>EnclosedPorch</th>\n",
       "      <th>3SsnPorch</th>\n",
       "      <th>ScreenPorch</th>\n",
       "      <th>PoolArea</th>\n",
       "      <th>MiscVal</th>\n",
       "      <th>MoSold</th>\n",
       "      <th>YrSold</th>\n",
       "      <th>SalePrice</th>\n",
       "    </tr>\n",
       "  </thead>\n",
       "  <tbody>\n",
       "    <tr>\n",
       "      <th>Id</th>\n",
       "      <td>1.000000</td>\n",
       "      <td>0.011156</td>\n",
       "      <td>-0.033226</td>\n",
       "      <td>-0.028365</td>\n",
       "      <td>0.012609</td>\n",
       "      <td>-0.012713</td>\n",
       "      <td>-0.021998</td>\n",
       "      <td>-0.005024</td>\n",
       "      <td>-0.005968</td>\n",
       "      <td>-0.007940</td>\n",
       "      <td>...</td>\n",
       "      <td>-0.029643</td>\n",
       "      <td>-0.000477</td>\n",
       "      <td>0.002889</td>\n",
       "      <td>-0.046635</td>\n",
       "      <td>0.001330</td>\n",
       "      <td>0.057044</td>\n",
       "      <td>-0.006242</td>\n",
       "      <td>0.021172</td>\n",
       "      <td>0.000712</td>\n",
       "      <td>-0.021917</td>\n",
       "    </tr>\n",
       "    <tr>\n",
       "      <th>MSSubClass</th>\n",
       "      <td>0.011156</td>\n",
       "      <td>1.000000</td>\n",
       "      <td>-0.139781</td>\n",
       "      <td>0.032628</td>\n",
       "      <td>-0.059316</td>\n",
       "      <td>0.027850</td>\n",
       "      <td>0.040581</td>\n",
       "      <td>-0.069836</td>\n",
       "      <td>-0.065649</td>\n",
       "      <td>-0.140759</td>\n",
       "      <td>...</td>\n",
       "      <td>-0.012579</td>\n",
       "      <td>-0.006100</td>\n",
       "      <td>-0.012037</td>\n",
       "      <td>-0.043825</td>\n",
       "      <td>-0.026030</td>\n",
       "      <td>0.008283</td>\n",
       "      <td>-0.007683</td>\n",
       "      <td>-0.013585</td>\n",
       "      <td>-0.021407</td>\n",
       "      <td>-0.084284</td>\n",
       "    </tr>\n",
       "    <tr>\n",
       "      <th>LotArea</th>\n",
       "      <td>-0.033226</td>\n",
       "      <td>-0.139781</td>\n",
       "      <td>1.000000</td>\n",
       "      <td>0.105806</td>\n",
       "      <td>-0.005636</td>\n",
       "      <td>0.014228</td>\n",
       "      <td>0.013788</td>\n",
       "      <td>0.214103</td>\n",
       "      <td>0.111170</td>\n",
       "      <td>-0.002618</td>\n",
       "      <td>...</td>\n",
       "      <td>0.171698</td>\n",
       "      <td>0.084774</td>\n",
       "      <td>-0.018340</td>\n",
       "      <td>0.020423</td>\n",
       "      <td>0.043160</td>\n",
       "      <td>0.077672</td>\n",
       "      <td>0.038068</td>\n",
       "      <td>0.001205</td>\n",
       "      <td>-0.014261</td>\n",
       "      <td>0.263843</td>\n",
       "    </tr>\n",
       "    <tr>\n",
       "      <th>OverallQual</th>\n",
       "      <td>-0.028365</td>\n",
       "      <td>0.032628</td>\n",
       "      <td>0.105806</td>\n",
       "      <td>1.000000</td>\n",
       "      <td>-0.091932</td>\n",
       "      <td>0.572323</td>\n",
       "      <td>0.550684</td>\n",
       "      <td>0.239666</td>\n",
       "      <td>-0.059119</td>\n",
       "      <td>0.308159</td>\n",
       "      <td>...</td>\n",
       "      <td>0.238923</td>\n",
       "      <td>0.308819</td>\n",
       "      <td>-0.113937</td>\n",
       "      <td>0.030371</td>\n",
       "      <td>0.064886</td>\n",
       "      <td>0.065166</td>\n",
       "      <td>-0.031406</td>\n",
       "      <td>0.070815</td>\n",
       "      <td>-0.027347</td>\n",
       "      <td>0.790982</td>\n",
       "    </tr>\n",
       "    <tr>\n",
       "      <th>OverallCond</th>\n",
       "      <td>0.012609</td>\n",
       "      <td>-0.059316</td>\n",
       "      <td>-0.005636</td>\n",
       "      <td>-0.091932</td>\n",
       "      <td>1.000000</td>\n",
       "      <td>-0.375983</td>\n",
       "      <td>0.073741</td>\n",
       "      <td>-0.046231</td>\n",
       "      <td>0.040229</td>\n",
       "      <td>-0.136841</td>\n",
       "      <td>...</td>\n",
       "      <td>-0.003334</td>\n",
       "      <td>-0.032589</td>\n",
       "      <td>0.070356</td>\n",
       "      <td>0.025504</td>\n",
       "      <td>0.054811</td>\n",
       "      <td>-0.001985</td>\n",
       "      <td>0.068777</td>\n",
       "      <td>-0.003511</td>\n",
       "      <td>0.043950</td>\n",
       "      <td>-0.077856</td>\n",
       "    </tr>\n",
       "    <tr>\n",
       "      <th>YearBuilt</th>\n",
       "      <td>-0.012713</td>\n",
       "      <td>0.027850</td>\n",
       "      <td>0.014228</td>\n",
       "      <td>0.572323</td>\n",
       "      <td>-0.375983</td>\n",
       "      <td>1.000000</td>\n",
       "      <td>0.592855</td>\n",
       "      <td>0.249503</td>\n",
       "      <td>-0.049107</td>\n",
       "      <td>0.149040</td>\n",
       "      <td>...</td>\n",
       "      <td>0.224880</td>\n",
       "      <td>0.188686</td>\n",
       "      <td>-0.387268</td>\n",
       "      <td>0.031355</td>\n",
       "      <td>-0.050364</td>\n",
       "      <td>0.004950</td>\n",
       "      <td>-0.034383</td>\n",
       "      <td>0.012398</td>\n",
       "      <td>-0.013618</td>\n",
       "      <td>0.522897</td>\n",
       "    </tr>\n",
       "    <tr>\n",
       "      <th>YearRemodAdd</th>\n",
       "      <td>-0.021998</td>\n",
       "      <td>0.040581</td>\n",
       "      <td>0.013788</td>\n",
       "      <td>0.550684</td>\n",
       "      <td>0.073741</td>\n",
       "      <td>0.592855</td>\n",
       "      <td>1.000000</td>\n",
       "      <td>0.128451</td>\n",
       "      <td>-0.067759</td>\n",
       "      <td>0.181133</td>\n",
       "      <td>...</td>\n",
       "      <td>0.205726</td>\n",
       "      <td>0.226298</td>\n",
       "      <td>-0.193919</td>\n",
       "      <td>0.045286</td>\n",
       "      <td>-0.038740</td>\n",
       "      <td>0.005829</td>\n",
       "      <td>-0.010286</td>\n",
       "      <td>0.021490</td>\n",
       "      <td>0.035743</td>\n",
       "      <td>0.507101</td>\n",
       "    </tr>\n",
       "    <tr>\n",
       "      <th>BsmtFinSF1</th>\n",
       "      <td>-0.005024</td>\n",
       "      <td>-0.069836</td>\n",
       "      <td>0.214103</td>\n",
       "      <td>0.239666</td>\n",
       "      <td>-0.046231</td>\n",
       "      <td>0.249503</td>\n",
       "      <td>0.128451</td>\n",
       "      <td>1.000000</td>\n",
       "      <td>-0.050117</td>\n",
       "      <td>-0.495251</td>\n",
       "      <td>...</td>\n",
       "      <td>0.204306</td>\n",
       "      <td>0.111761</td>\n",
       "      <td>-0.102303</td>\n",
       "      <td>0.026451</td>\n",
       "      <td>0.062021</td>\n",
       "      <td>0.140491</td>\n",
       "      <td>0.003571</td>\n",
       "      <td>-0.015727</td>\n",
       "      <td>0.014359</td>\n",
       "      <td>0.386420</td>\n",
       "    </tr>\n",
       "    <tr>\n",
       "      <th>BsmtFinSF2</th>\n",
       "      <td>-0.005968</td>\n",
       "      <td>-0.065649</td>\n",
       "      <td>0.111170</td>\n",
       "      <td>-0.059119</td>\n",
       "      <td>0.040229</td>\n",
       "      <td>-0.049107</td>\n",
       "      <td>-0.067759</td>\n",
       "      <td>-0.050117</td>\n",
       "      <td>1.000000</td>\n",
       "      <td>-0.209294</td>\n",
       "      <td>...</td>\n",
       "      <td>0.067898</td>\n",
       "      <td>0.003093</td>\n",
       "      <td>0.036543</td>\n",
       "      <td>-0.029993</td>\n",
       "      <td>0.088871</td>\n",
       "      <td>0.041709</td>\n",
       "      <td>0.004940</td>\n",
       "      <td>-0.015211</td>\n",
       "      <td>0.031706</td>\n",
       "      <td>-0.011378</td>\n",
       "    </tr>\n",
       "    <tr>\n",
       "      <th>BsmtUnfSF</th>\n",
       "      <td>-0.007940</td>\n",
       "      <td>-0.140759</td>\n",
       "      <td>-0.002618</td>\n",
       "      <td>0.308159</td>\n",
       "      <td>-0.136841</td>\n",
       "      <td>0.149040</td>\n",
       "      <td>0.181133</td>\n",
       "      <td>-0.495251</td>\n",
       "      <td>-0.209294</td>\n",
       "      <td>1.000000</td>\n",
       "      <td>...</td>\n",
       "      <td>-0.005316</td>\n",
       "      <td>0.129005</td>\n",
       "      <td>-0.002538</td>\n",
       "      <td>0.020764</td>\n",
       "      <td>-0.012579</td>\n",
       "      <td>-0.035092</td>\n",
       "      <td>-0.023837</td>\n",
       "      <td>0.034888</td>\n",
       "      <td>-0.041258</td>\n",
       "      <td>0.214479</td>\n",
       "    </tr>\n",
       "    <tr>\n",
       "      <th>TotalBsmtSF</th>\n",
       "      <td>-0.015415</td>\n",
       "      <td>-0.238518</td>\n",
       "      <td>0.260833</td>\n",
       "      <td>0.537808</td>\n",
       "      <td>-0.171098</td>\n",
       "      <td>0.391452</td>\n",
       "      <td>0.291066</td>\n",
       "      <td>0.522396</td>\n",
       "      <td>0.104810</td>\n",
       "      <td>0.415360</td>\n",
       "      <td>...</td>\n",
       "      <td>0.232019</td>\n",
       "      <td>0.247264</td>\n",
       "      <td>-0.095478</td>\n",
       "      <td>0.037384</td>\n",
       "      <td>0.084489</td>\n",
       "      <td>0.126053</td>\n",
       "      <td>-0.018479</td>\n",
       "      <td>0.013196</td>\n",
       "      <td>-0.014969</td>\n",
       "      <td>0.613581</td>\n",
       "    </tr>\n",
       "    <tr>\n",
       "      <th>1stFlrSF</th>\n",
       "      <td>0.010496</td>\n",
       "      <td>-0.251758</td>\n",
       "      <td>0.299475</td>\n",
       "      <td>0.476224</td>\n",
       "      <td>-0.144203</td>\n",
       "      <td>0.281986</td>\n",
       "      <td>0.240379</td>\n",
       "      <td>0.445863</td>\n",
       "      <td>0.097117</td>\n",
       "      <td>0.317987</td>\n",
       "      <td>...</td>\n",
       "      <td>0.235459</td>\n",
       "      <td>0.211671</td>\n",
       "      <td>-0.065292</td>\n",
       "      <td>0.056104</td>\n",
       "      <td>0.088758</td>\n",
       "      <td>0.131525</td>\n",
       "      <td>-0.021096</td>\n",
       "      <td>0.031372</td>\n",
       "      <td>-0.013604</td>\n",
       "      <td>0.605852</td>\n",
       "    </tr>\n",
       "    <tr>\n",
       "      <th>2ndFlrSF</th>\n",
       "      <td>0.005590</td>\n",
       "      <td>0.307886</td>\n",
       "      <td>0.050986</td>\n",
       "      <td>0.295493</td>\n",
       "      <td>0.028942</td>\n",
       "      <td>0.010308</td>\n",
       "      <td>0.140024</td>\n",
       "      <td>-0.137079</td>\n",
       "      <td>-0.099260</td>\n",
       "      <td>0.004469</td>\n",
       "      <td>...</td>\n",
       "      <td>0.092165</td>\n",
       "      <td>0.208026</td>\n",
       "      <td>0.061989</td>\n",
       "      <td>-0.024358</td>\n",
       "      <td>0.040606</td>\n",
       "      <td>0.081487</td>\n",
       "      <td>0.016197</td>\n",
       "      <td>0.035164</td>\n",
       "      <td>-0.028700</td>\n",
       "      <td>0.319334</td>\n",
       "    </tr>\n",
       "    <tr>\n",
       "      <th>LowQualFinSF</th>\n",
       "      <td>-0.044230</td>\n",
       "      <td>0.046474</td>\n",
       "      <td>0.004779</td>\n",
       "      <td>-0.030429</td>\n",
       "      <td>0.025494</td>\n",
       "      <td>-0.183784</td>\n",
       "      <td>-0.062419</td>\n",
       "      <td>-0.064503</td>\n",
       "      <td>0.014807</td>\n",
       "      <td>0.028167</td>\n",
       "      <td>...</td>\n",
       "      <td>-0.025444</td>\n",
       "      <td>0.018251</td>\n",
       "      <td>0.061081</td>\n",
       "      <td>-0.004296</td>\n",
       "      <td>0.026799</td>\n",
       "      <td>0.062157</td>\n",
       "      <td>-0.003793</td>\n",
       "      <td>-0.022174</td>\n",
       "      <td>-0.028921</td>\n",
       "      <td>-0.025606</td>\n",
       "    </tr>\n",
       "    <tr>\n",
       "      <th>GrLivArea</th>\n",
       "      <td>0.008273</td>\n",
       "      <td>0.074853</td>\n",
       "      <td>0.263116</td>\n",
       "      <td>0.593007</td>\n",
       "      <td>-0.079686</td>\n",
       "      <td>0.199010</td>\n",
       "      <td>0.287389</td>\n",
       "      <td>0.208171</td>\n",
       "      <td>-0.009640</td>\n",
       "      <td>0.240257</td>\n",
       "      <td>...</td>\n",
       "      <td>0.247433</td>\n",
       "      <td>0.330224</td>\n",
       "      <td>0.009113</td>\n",
       "      <td>0.020643</td>\n",
       "      <td>0.101510</td>\n",
       "      <td>0.170205</td>\n",
       "      <td>-0.002416</td>\n",
       "      <td>0.050240</td>\n",
       "      <td>-0.036526</td>\n",
       "      <td>0.708624</td>\n",
       "    </tr>\n",
       "    <tr>\n",
       "      <th>BsmtFullBath</th>\n",
       "      <td>0.002289</td>\n",
       "      <td>0.003491</td>\n",
       "      <td>0.158155</td>\n",
       "      <td>0.111098</td>\n",
       "      <td>-0.054942</td>\n",
       "      <td>0.187599</td>\n",
       "      <td>0.119470</td>\n",
       "      <td>0.649212</td>\n",
       "      <td>0.158678</td>\n",
       "      <td>-0.422900</td>\n",
       "      <td>...</td>\n",
       "      <td>0.175315</td>\n",
       "      <td>0.067341</td>\n",
       "      <td>-0.049911</td>\n",
       "      <td>-0.000106</td>\n",
       "      <td>0.023148</td>\n",
       "      <td>0.067616</td>\n",
       "      <td>-0.023047</td>\n",
       "      <td>-0.025361</td>\n",
       "      <td>0.067049</td>\n",
       "      <td>0.227122</td>\n",
       "    </tr>\n",
       "    <tr>\n",
       "      <th>BsmtHalfBath</th>\n",
       "      <td>-0.020155</td>\n",
       "      <td>-0.002333</td>\n",
       "      <td>0.048046</td>\n",
       "      <td>-0.040150</td>\n",
       "      <td>0.117821</td>\n",
       "      <td>-0.038162</td>\n",
       "      <td>-0.012337</td>\n",
       "      <td>0.067418</td>\n",
       "      <td>0.070948</td>\n",
       "      <td>-0.095804</td>\n",
       "      <td>...</td>\n",
       "      <td>0.040161</td>\n",
       "      <td>-0.025324</td>\n",
       "      <td>-0.008555</td>\n",
       "      <td>0.035114</td>\n",
       "      <td>0.032121</td>\n",
       "      <td>0.020025</td>\n",
       "      <td>-0.007367</td>\n",
       "      <td>0.032873</td>\n",
       "      <td>-0.046524</td>\n",
       "      <td>-0.016844</td>\n",
       "    </tr>\n",
       "    <tr>\n",
       "      <th>FullBath</th>\n",
       "      <td>0.005587</td>\n",
       "      <td>0.131608</td>\n",
       "      <td>0.126031</td>\n",
       "      <td>0.550600</td>\n",
       "      <td>-0.194149</td>\n",
       "      <td>0.468271</td>\n",
       "      <td>0.439046</td>\n",
       "      <td>0.058543</td>\n",
       "      <td>-0.076444</td>\n",
       "      <td>0.288886</td>\n",
       "      <td>...</td>\n",
       "      <td>0.187703</td>\n",
       "      <td>0.259977</td>\n",
       "      <td>-0.115093</td>\n",
       "      <td>0.035353</td>\n",
       "      <td>-0.008106</td>\n",
       "      <td>0.049604</td>\n",
       "      <td>-0.014290</td>\n",
       "      <td>0.055872</td>\n",
       "      <td>-0.019669</td>\n",
       "      <td>0.560664</td>\n",
       "    </tr>\n",
       "    <tr>\n",
       "      <th>HalfBath</th>\n",
       "      <td>0.006784</td>\n",
       "      <td>0.177354</td>\n",
       "      <td>0.014259</td>\n",
       "      <td>0.273458</td>\n",
       "      <td>-0.060769</td>\n",
       "      <td>0.242656</td>\n",
       "      <td>0.183331</td>\n",
       "      <td>0.004262</td>\n",
       "      <td>-0.032148</td>\n",
       "      <td>-0.041118</td>\n",
       "      <td>...</td>\n",
       "      <td>0.108080</td>\n",
       "      <td>0.199740</td>\n",
       "      <td>-0.095317</td>\n",
       "      <td>-0.004972</td>\n",
       "      <td>0.072426</td>\n",
       "      <td>0.022381</td>\n",
       "      <td>0.001290</td>\n",
       "      <td>-0.009050</td>\n",
       "      <td>-0.010269</td>\n",
       "      <td>0.284108</td>\n",
       "    </tr>\n",
       "    <tr>\n",
       "      <th>BedroomAbvGr</th>\n",
       "      <td>0.037719</td>\n",
       "      <td>-0.023438</td>\n",
       "      <td>0.119690</td>\n",
       "      <td>0.101676</td>\n",
       "      <td>0.012980</td>\n",
       "      <td>-0.070651</td>\n",
       "      <td>-0.040581</td>\n",
       "      <td>-0.107355</td>\n",
       "      <td>-0.015728</td>\n",
       "      <td>0.166643</td>\n",
       "      <td>...</td>\n",
       "      <td>0.046854</td>\n",
       "      <td>0.093810</td>\n",
       "      <td>0.041570</td>\n",
       "      <td>-0.024478</td>\n",
       "      <td>0.044300</td>\n",
       "      <td>0.070703</td>\n",
       "      <td>0.007767</td>\n",
       "      <td>0.046544</td>\n",
       "      <td>-0.036014</td>\n",
       "      <td>0.168213</td>\n",
       "    </tr>\n",
       "    <tr>\n",
       "      <th>KitchenAbvGr</th>\n",
       "      <td>0.002951</td>\n",
       "      <td>0.281721</td>\n",
       "      <td>-0.017784</td>\n",
       "      <td>-0.183882</td>\n",
       "      <td>-0.087001</td>\n",
       "      <td>-0.174800</td>\n",
       "      <td>-0.149598</td>\n",
       "      <td>-0.081007</td>\n",
       "      <td>-0.040751</td>\n",
       "      <td>0.030086</td>\n",
       "      <td>...</td>\n",
       "      <td>-0.090130</td>\n",
       "      <td>-0.070091</td>\n",
       "      <td>0.037312</td>\n",
       "      <td>-0.024600</td>\n",
       "      <td>-0.051613</td>\n",
       "      <td>-0.014525</td>\n",
       "      <td>0.062341</td>\n",
       "      <td>0.026589</td>\n",
       "      <td>0.031687</td>\n",
       "      <td>-0.135907</td>\n",
       "    </tr>\n",
       "    <tr>\n",
       "      <th>TotRmsAbvGrd</th>\n",
       "      <td>0.027239</td>\n",
       "      <td>0.040380</td>\n",
       "      <td>0.190015</td>\n",
       "      <td>0.427452</td>\n",
       "      <td>-0.057583</td>\n",
       "      <td>0.095589</td>\n",
       "      <td>0.191740</td>\n",
       "      <td>0.044316</td>\n",
       "      <td>-0.035227</td>\n",
       "      <td>0.250647</td>\n",
       "      <td>...</td>\n",
       "      <td>0.165984</td>\n",
       "      <td>0.234192</td>\n",
       "      <td>0.004151</td>\n",
       "      <td>-0.006683</td>\n",
       "      <td>0.059383</td>\n",
       "      <td>0.083757</td>\n",
       "      <td>0.024763</td>\n",
       "      <td>0.036907</td>\n",
       "      <td>-0.034516</td>\n",
       "      <td>0.533723</td>\n",
       "    </tr>\n",
       "    <tr>\n",
       "      <th>Fireplaces</th>\n",
       "      <td>-0.019772</td>\n",
       "      <td>-0.045569</td>\n",
       "      <td>0.271364</td>\n",
       "      <td>0.396765</td>\n",
       "      <td>-0.023820</td>\n",
       "      <td>0.147716</td>\n",
       "      <td>0.112581</td>\n",
       "      <td>0.260011</td>\n",
       "      <td>0.046921</td>\n",
       "      <td>0.051575</td>\n",
       "      <td>...</td>\n",
       "      <td>0.200019</td>\n",
       "      <td>0.169405</td>\n",
       "      <td>-0.024822</td>\n",
       "      <td>0.011257</td>\n",
       "      <td>0.184530</td>\n",
       "      <td>0.095074</td>\n",
       "      <td>0.001409</td>\n",
       "      <td>0.046357</td>\n",
       "      <td>-0.024096</td>\n",
       "      <td>0.466929</td>\n",
       "    </tr>\n",
       "    <tr>\n",
       "      <th>GarageCars</th>\n",
       "      <td>0.016570</td>\n",
       "      <td>-0.040110</td>\n",
       "      <td>0.154871</td>\n",
       "      <td>0.600671</td>\n",
       "      <td>-0.185758</td>\n",
       "      <td>0.537850</td>\n",
       "      <td>0.420622</td>\n",
       "      <td>0.224054</td>\n",
       "      <td>-0.038264</td>\n",
       "      <td>0.214175</td>\n",
       "      <td>...</td>\n",
       "      <td>0.226342</td>\n",
       "      <td>0.213569</td>\n",
       "      <td>-0.151434</td>\n",
       "      <td>0.035765</td>\n",
       "      <td>0.050494</td>\n",
       "      <td>0.020934</td>\n",
       "      <td>-0.043080</td>\n",
       "      <td>0.040522</td>\n",
       "      <td>-0.039117</td>\n",
       "      <td>0.640409</td>\n",
       "    </tr>\n",
       "    <tr>\n",
       "      <th>GarageArea</th>\n",
       "      <td>0.017634</td>\n",
       "      <td>-0.098672</td>\n",
       "      <td>0.180403</td>\n",
       "      <td>0.562022</td>\n",
       "      <td>-0.151521</td>\n",
       "      <td>0.478954</td>\n",
       "      <td>0.371600</td>\n",
       "      <td>0.296970</td>\n",
       "      <td>-0.018227</td>\n",
       "      <td>0.183303</td>\n",
       "      <td>...</td>\n",
       "      <td>0.224666</td>\n",
       "      <td>0.241435</td>\n",
       "      <td>-0.121777</td>\n",
       "      <td>0.035087</td>\n",
       "      <td>0.051412</td>\n",
       "      <td>0.061047</td>\n",
       "      <td>-0.027400</td>\n",
       "      <td>0.027974</td>\n",
       "      <td>-0.027378</td>\n",
       "      <td>0.623431</td>\n",
       "    </tr>\n",
       "    <tr>\n",
       "      <th>WoodDeckSF</th>\n",
       "      <td>-0.029643</td>\n",
       "      <td>-0.012579</td>\n",
       "      <td>0.171698</td>\n",
       "      <td>0.238923</td>\n",
       "      <td>-0.003334</td>\n",
       "      <td>0.224880</td>\n",
       "      <td>0.205726</td>\n",
       "      <td>0.204306</td>\n",
       "      <td>0.067898</td>\n",
       "      <td>-0.005316</td>\n",
       "      <td>...</td>\n",
       "      <td>1.000000</td>\n",
       "      <td>0.058661</td>\n",
       "      <td>-0.125989</td>\n",
       "      <td>-0.032771</td>\n",
       "      <td>-0.074181</td>\n",
       "      <td>0.073378</td>\n",
       "      <td>-0.009551</td>\n",
       "      <td>0.021011</td>\n",
       "      <td>0.022270</td>\n",
       "      <td>0.324413</td>\n",
       "    </tr>\n",
       "    <tr>\n",
       "      <th>OpenPorchSF</th>\n",
       "      <td>-0.000477</td>\n",
       "      <td>-0.006100</td>\n",
       "      <td>0.084774</td>\n",
       "      <td>0.308819</td>\n",
       "      <td>-0.032589</td>\n",
       "      <td>0.188686</td>\n",
       "      <td>0.226298</td>\n",
       "      <td>0.111761</td>\n",
       "      <td>0.003093</td>\n",
       "      <td>0.129005</td>\n",
       "      <td>...</td>\n",
       "      <td>0.058661</td>\n",
       "      <td>1.000000</td>\n",
       "      <td>-0.093079</td>\n",
       "      <td>-0.005842</td>\n",
       "      <td>0.074304</td>\n",
       "      <td>0.060762</td>\n",
       "      <td>-0.018584</td>\n",
       "      <td>0.071255</td>\n",
       "      <td>-0.057619</td>\n",
       "      <td>0.315856</td>\n",
       "    </tr>\n",
       "    <tr>\n",
       "      <th>EnclosedPorch</th>\n",
       "      <td>0.002889</td>\n",
       "      <td>-0.012037</td>\n",
       "      <td>-0.018340</td>\n",
       "      <td>-0.113937</td>\n",
       "      <td>0.070356</td>\n",
       "      <td>-0.387268</td>\n",
       "      <td>-0.193919</td>\n",
       "      <td>-0.102303</td>\n",
       "      <td>0.036543</td>\n",
       "      <td>-0.002538</td>\n",
       "      <td>...</td>\n",
       "      <td>-0.125989</td>\n",
       "      <td>-0.093079</td>\n",
       "      <td>1.000000</td>\n",
       "      <td>-0.037305</td>\n",
       "      <td>-0.082864</td>\n",
       "      <td>0.054203</td>\n",
       "      <td>0.018361</td>\n",
       "      <td>-0.028887</td>\n",
       "      <td>-0.009916</td>\n",
       "      <td>-0.128578</td>\n",
       "    </tr>\n",
       "    <tr>\n",
       "      <th>3SsnPorch</th>\n",
       "      <td>-0.046635</td>\n",
       "      <td>-0.043825</td>\n",
       "      <td>0.020423</td>\n",
       "      <td>0.030371</td>\n",
       "      <td>0.025504</td>\n",
       "      <td>0.031355</td>\n",
       "      <td>0.045286</td>\n",
       "      <td>0.026451</td>\n",
       "      <td>-0.029993</td>\n",
       "      <td>0.020764</td>\n",
       "      <td>...</td>\n",
       "      <td>-0.032771</td>\n",
       "      <td>-0.005842</td>\n",
       "      <td>-0.037305</td>\n",
       "      <td>1.000000</td>\n",
       "      <td>-0.031436</td>\n",
       "      <td>-0.007992</td>\n",
       "      <td>0.000354</td>\n",
       "      <td>0.029474</td>\n",
       "      <td>0.018645</td>\n",
       "      <td>0.044584</td>\n",
       "    </tr>\n",
       "    <tr>\n",
       "      <th>ScreenPorch</th>\n",
       "      <td>0.001330</td>\n",
       "      <td>-0.026030</td>\n",
       "      <td>0.043160</td>\n",
       "      <td>0.064886</td>\n",
       "      <td>0.054811</td>\n",
       "      <td>-0.050364</td>\n",
       "      <td>-0.038740</td>\n",
       "      <td>0.062021</td>\n",
       "      <td>0.088871</td>\n",
       "      <td>-0.012579</td>\n",
       "      <td>...</td>\n",
       "      <td>-0.074181</td>\n",
       "      <td>0.074304</td>\n",
       "      <td>-0.082864</td>\n",
       "      <td>-0.031436</td>\n",
       "      <td>1.000000</td>\n",
       "      <td>0.051307</td>\n",
       "      <td>0.031946</td>\n",
       "      <td>0.023217</td>\n",
       "      <td>0.010694</td>\n",
       "      <td>0.111447</td>\n",
       "    </tr>\n",
       "    <tr>\n",
       "      <th>PoolArea</th>\n",
       "      <td>0.057044</td>\n",
       "      <td>0.008283</td>\n",
       "      <td>0.077672</td>\n",
       "      <td>0.065166</td>\n",
       "      <td>-0.001985</td>\n",
       "      <td>0.004950</td>\n",
       "      <td>0.005829</td>\n",
       "      <td>0.140491</td>\n",
       "      <td>0.041709</td>\n",
       "      <td>-0.035092</td>\n",
       "      <td>...</td>\n",
       "      <td>0.073378</td>\n",
       "      <td>0.060762</td>\n",
       "      <td>0.054203</td>\n",
       "      <td>-0.007992</td>\n",
       "      <td>0.051307</td>\n",
       "      <td>1.000000</td>\n",
       "      <td>0.029669</td>\n",
       "      <td>-0.033737</td>\n",
       "      <td>-0.059689</td>\n",
       "      <td>0.092404</td>\n",
       "    </tr>\n",
       "    <tr>\n",
       "      <th>MiscVal</th>\n",
       "      <td>-0.006242</td>\n",
       "      <td>-0.007683</td>\n",
       "      <td>0.038068</td>\n",
       "      <td>-0.031406</td>\n",
       "      <td>0.068777</td>\n",
       "      <td>-0.034383</td>\n",
       "      <td>-0.010286</td>\n",
       "      <td>0.003571</td>\n",
       "      <td>0.004940</td>\n",
       "      <td>-0.023837</td>\n",
       "      <td>...</td>\n",
       "      <td>-0.009551</td>\n",
       "      <td>-0.018584</td>\n",
       "      <td>0.018361</td>\n",
       "      <td>0.000354</td>\n",
       "      <td>0.031946</td>\n",
       "      <td>0.029669</td>\n",
       "      <td>1.000000</td>\n",
       "      <td>-0.006495</td>\n",
       "      <td>0.004906</td>\n",
       "      <td>-0.021190</td>\n",
       "    </tr>\n",
       "    <tr>\n",
       "      <th>MoSold</th>\n",
       "      <td>0.021172</td>\n",
       "      <td>-0.013585</td>\n",
       "      <td>0.001205</td>\n",
       "      <td>0.070815</td>\n",
       "      <td>-0.003511</td>\n",
       "      <td>0.012398</td>\n",
       "      <td>0.021490</td>\n",
       "      <td>-0.015727</td>\n",
       "      <td>-0.015211</td>\n",
       "      <td>0.034888</td>\n",
       "      <td>...</td>\n",
       "      <td>0.021011</td>\n",
       "      <td>0.071255</td>\n",
       "      <td>-0.028887</td>\n",
       "      <td>0.029474</td>\n",
       "      <td>0.023217</td>\n",
       "      <td>-0.033737</td>\n",
       "      <td>-0.006495</td>\n",
       "      <td>1.000000</td>\n",
       "      <td>-0.145721</td>\n",
       "      <td>0.046432</td>\n",
       "    </tr>\n",
       "    <tr>\n",
       "      <th>YrSold</th>\n",
       "      <td>0.000712</td>\n",
       "      <td>-0.021407</td>\n",
       "      <td>-0.014261</td>\n",
       "      <td>-0.027347</td>\n",
       "      <td>0.043950</td>\n",
       "      <td>-0.013618</td>\n",
       "      <td>0.035743</td>\n",
       "      <td>0.014359</td>\n",
       "      <td>0.031706</td>\n",
       "      <td>-0.041258</td>\n",
       "      <td>...</td>\n",
       "      <td>0.022270</td>\n",
       "      <td>-0.057619</td>\n",
       "      <td>-0.009916</td>\n",
       "      <td>0.018645</td>\n",
       "      <td>0.010694</td>\n",
       "      <td>-0.059689</td>\n",
       "      <td>0.004906</td>\n",
       "      <td>-0.145721</td>\n",
       "      <td>1.000000</td>\n",
       "      <td>-0.028923</td>\n",
       "    </tr>\n",
       "    <tr>\n",
       "      <th>SalePrice</th>\n",
       "      <td>-0.021917</td>\n",
       "      <td>-0.084284</td>\n",
       "      <td>0.263843</td>\n",
       "      <td>0.790982</td>\n",
       "      <td>-0.077856</td>\n",
       "      <td>0.522897</td>\n",
       "      <td>0.507101</td>\n",
       "      <td>0.386420</td>\n",
       "      <td>-0.011378</td>\n",
       "      <td>0.214479</td>\n",
       "      <td>...</td>\n",
       "      <td>0.324413</td>\n",
       "      <td>0.315856</td>\n",
       "      <td>-0.128578</td>\n",
       "      <td>0.044584</td>\n",
       "      <td>0.111447</td>\n",
       "      <td>0.092404</td>\n",
       "      <td>-0.021190</td>\n",
       "      <td>0.046432</td>\n",
       "      <td>-0.028923</td>\n",
       "      <td>1.000000</td>\n",
       "    </tr>\n",
       "  </tbody>\n",
       "</table>\n",
       "<p>35 rows × 35 columns</p>\n",
       "</div>"
      ],
      "text/plain": [
       "                     Id  MSSubClass   LotArea  OverallQual  OverallCond  \\\n",
       "Id             1.000000    0.011156 -0.033226    -0.028365     0.012609   \n",
       "MSSubClass     0.011156    1.000000 -0.139781     0.032628    -0.059316   \n",
       "LotArea       -0.033226   -0.139781  1.000000     0.105806    -0.005636   \n",
       "OverallQual   -0.028365    0.032628  0.105806     1.000000    -0.091932   \n",
       "OverallCond    0.012609   -0.059316 -0.005636    -0.091932     1.000000   \n",
       "YearBuilt     -0.012713    0.027850  0.014228     0.572323    -0.375983   \n",
       "YearRemodAdd  -0.021998    0.040581  0.013788     0.550684     0.073741   \n",
       "BsmtFinSF1    -0.005024   -0.069836  0.214103     0.239666    -0.046231   \n",
       "BsmtFinSF2    -0.005968   -0.065649  0.111170    -0.059119     0.040229   \n",
       "BsmtUnfSF     -0.007940   -0.140759 -0.002618     0.308159    -0.136841   \n",
       "TotalBsmtSF   -0.015415   -0.238518  0.260833     0.537808    -0.171098   \n",
       "1stFlrSF       0.010496   -0.251758  0.299475     0.476224    -0.144203   \n",
       "2ndFlrSF       0.005590    0.307886  0.050986     0.295493     0.028942   \n",
       "LowQualFinSF  -0.044230    0.046474  0.004779    -0.030429     0.025494   \n",
       "GrLivArea      0.008273    0.074853  0.263116     0.593007    -0.079686   \n",
       "BsmtFullBath   0.002289    0.003491  0.158155     0.111098    -0.054942   \n",
       "BsmtHalfBath  -0.020155   -0.002333  0.048046    -0.040150     0.117821   \n",
       "FullBath       0.005587    0.131608  0.126031     0.550600    -0.194149   \n",
       "HalfBath       0.006784    0.177354  0.014259     0.273458    -0.060769   \n",
       "BedroomAbvGr   0.037719   -0.023438  0.119690     0.101676     0.012980   \n",
       "KitchenAbvGr   0.002951    0.281721 -0.017784    -0.183882    -0.087001   \n",
       "TotRmsAbvGrd   0.027239    0.040380  0.190015     0.427452    -0.057583   \n",
       "Fireplaces    -0.019772   -0.045569  0.271364     0.396765    -0.023820   \n",
       "GarageCars     0.016570   -0.040110  0.154871     0.600671    -0.185758   \n",
       "GarageArea     0.017634   -0.098672  0.180403     0.562022    -0.151521   \n",
       "WoodDeckSF    -0.029643   -0.012579  0.171698     0.238923    -0.003334   \n",
       "OpenPorchSF   -0.000477   -0.006100  0.084774     0.308819    -0.032589   \n",
       "EnclosedPorch  0.002889   -0.012037 -0.018340    -0.113937     0.070356   \n",
       "3SsnPorch     -0.046635   -0.043825  0.020423     0.030371     0.025504   \n",
       "ScreenPorch    0.001330   -0.026030  0.043160     0.064886     0.054811   \n",
       "PoolArea       0.057044    0.008283  0.077672     0.065166    -0.001985   \n",
       "MiscVal       -0.006242   -0.007683  0.038068    -0.031406     0.068777   \n",
       "MoSold         0.021172   -0.013585  0.001205     0.070815    -0.003511   \n",
       "YrSold         0.000712   -0.021407 -0.014261    -0.027347     0.043950   \n",
       "SalePrice     -0.021917   -0.084284  0.263843     0.790982    -0.077856   \n",
       "\n",
       "               YearBuilt  YearRemodAdd  BsmtFinSF1  BsmtFinSF2  BsmtUnfSF  \\\n",
       "Id             -0.012713     -0.021998   -0.005024   -0.005968  -0.007940   \n",
       "MSSubClass      0.027850      0.040581   -0.069836   -0.065649  -0.140759   \n",
       "LotArea         0.014228      0.013788    0.214103    0.111170  -0.002618   \n",
       "OverallQual     0.572323      0.550684    0.239666   -0.059119   0.308159   \n",
       "OverallCond    -0.375983      0.073741   -0.046231    0.040229  -0.136841   \n",
       "YearBuilt       1.000000      0.592855    0.249503   -0.049107   0.149040   \n",
       "YearRemodAdd    0.592855      1.000000    0.128451   -0.067759   0.181133   \n",
       "BsmtFinSF1      0.249503      0.128451    1.000000   -0.050117  -0.495251   \n",
       "BsmtFinSF2     -0.049107     -0.067759   -0.050117    1.000000  -0.209294   \n",
       "BsmtUnfSF       0.149040      0.181133   -0.495251   -0.209294   1.000000   \n",
       "TotalBsmtSF     0.391452      0.291066    0.522396    0.104810   0.415360   \n",
       "1stFlrSF        0.281986      0.240379    0.445863    0.097117   0.317987   \n",
       "2ndFlrSF        0.010308      0.140024   -0.137079   -0.099260   0.004469   \n",
       "LowQualFinSF   -0.183784     -0.062419   -0.064503    0.014807   0.028167   \n",
       "GrLivArea       0.199010      0.287389    0.208171   -0.009640   0.240257   \n",
       "BsmtFullBath    0.187599      0.119470    0.649212    0.158678  -0.422900   \n",
       "BsmtHalfBath   -0.038162     -0.012337    0.067418    0.070948  -0.095804   \n",
       "FullBath        0.468271      0.439046    0.058543   -0.076444   0.288886   \n",
       "HalfBath        0.242656      0.183331    0.004262   -0.032148  -0.041118   \n",
       "BedroomAbvGr   -0.070651     -0.040581   -0.107355   -0.015728   0.166643   \n",
       "KitchenAbvGr   -0.174800     -0.149598   -0.081007   -0.040751   0.030086   \n",
       "TotRmsAbvGrd    0.095589      0.191740    0.044316   -0.035227   0.250647   \n",
       "Fireplaces      0.147716      0.112581    0.260011    0.046921   0.051575   \n",
       "GarageCars      0.537850      0.420622    0.224054   -0.038264   0.214175   \n",
       "GarageArea      0.478954      0.371600    0.296970   -0.018227   0.183303   \n",
       "WoodDeckSF      0.224880      0.205726    0.204306    0.067898  -0.005316   \n",
       "OpenPorchSF     0.188686      0.226298    0.111761    0.003093   0.129005   \n",
       "EnclosedPorch  -0.387268     -0.193919   -0.102303    0.036543  -0.002538   \n",
       "3SsnPorch       0.031355      0.045286    0.026451   -0.029993   0.020764   \n",
       "ScreenPorch    -0.050364     -0.038740    0.062021    0.088871  -0.012579   \n",
       "PoolArea        0.004950      0.005829    0.140491    0.041709  -0.035092   \n",
       "MiscVal        -0.034383     -0.010286    0.003571    0.004940  -0.023837   \n",
       "MoSold          0.012398      0.021490   -0.015727   -0.015211   0.034888   \n",
       "YrSold         -0.013618      0.035743    0.014359    0.031706  -0.041258   \n",
       "SalePrice       0.522897      0.507101    0.386420   -0.011378   0.214479   \n",
       "\n",
       "               ...  WoodDeckSF  OpenPorchSF  EnclosedPorch  3SsnPorch  \\\n",
       "Id             ...   -0.029643    -0.000477       0.002889  -0.046635   \n",
       "MSSubClass     ...   -0.012579    -0.006100      -0.012037  -0.043825   \n",
       "LotArea        ...    0.171698     0.084774      -0.018340   0.020423   \n",
       "OverallQual    ...    0.238923     0.308819      -0.113937   0.030371   \n",
       "OverallCond    ...   -0.003334    -0.032589       0.070356   0.025504   \n",
       "YearBuilt      ...    0.224880     0.188686      -0.387268   0.031355   \n",
       "YearRemodAdd   ...    0.205726     0.226298      -0.193919   0.045286   \n",
       "BsmtFinSF1     ...    0.204306     0.111761      -0.102303   0.026451   \n",
       "BsmtFinSF2     ...    0.067898     0.003093       0.036543  -0.029993   \n",
       "BsmtUnfSF      ...   -0.005316     0.129005      -0.002538   0.020764   \n",
       "TotalBsmtSF    ...    0.232019     0.247264      -0.095478   0.037384   \n",
       "1stFlrSF       ...    0.235459     0.211671      -0.065292   0.056104   \n",
       "2ndFlrSF       ...    0.092165     0.208026       0.061989  -0.024358   \n",
       "LowQualFinSF   ...   -0.025444     0.018251       0.061081  -0.004296   \n",
       "GrLivArea      ...    0.247433     0.330224       0.009113   0.020643   \n",
       "BsmtFullBath   ...    0.175315     0.067341      -0.049911  -0.000106   \n",
       "BsmtHalfBath   ...    0.040161    -0.025324      -0.008555   0.035114   \n",
       "FullBath       ...    0.187703     0.259977      -0.115093   0.035353   \n",
       "HalfBath       ...    0.108080     0.199740      -0.095317  -0.004972   \n",
       "BedroomAbvGr   ...    0.046854     0.093810       0.041570  -0.024478   \n",
       "KitchenAbvGr   ...   -0.090130    -0.070091       0.037312  -0.024600   \n",
       "TotRmsAbvGrd   ...    0.165984     0.234192       0.004151  -0.006683   \n",
       "Fireplaces     ...    0.200019     0.169405      -0.024822   0.011257   \n",
       "GarageCars     ...    0.226342     0.213569      -0.151434   0.035765   \n",
       "GarageArea     ...    0.224666     0.241435      -0.121777   0.035087   \n",
       "WoodDeckSF     ...    1.000000     0.058661      -0.125989  -0.032771   \n",
       "OpenPorchSF    ...    0.058661     1.000000      -0.093079  -0.005842   \n",
       "EnclosedPorch  ...   -0.125989    -0.093079       1.000000  -0.037305   \n",
       "3SsnPorch      ...   -0.032771    -0.005842      -0.037305   1.000000   \n",
       "ScreenPorch    ...   -0.074181     0.074304      -0.082864  -0.031436   \n",
       "PoolArea       ...    0.073378     0.060762       0.054203  -0.007992   \n",
       "MiscVal        ...   -0.009551    -0.018584       0.018361   0.000354   \n",
       "MoSold         ...    0.021011     0.071255      -0.028887   0.029474   \n",
       "YrSold         ...    0.022270    -0.057619      -0.009916   0.018645   \n",
       "SalePrice      ...    0.324413     0.315856      -0.128578   0.044584   \n",
       "\n",
       "               ScreenPorch  PoolArea   MiscVal    MoSold    YrSold  SalePrice  \n",
       "Id                0.001330  0.057044 -0.006242  0.021172  0.000712  -0.021917  \n",
       "MSSubClass       -0.026030  0.008283 -0.007683 -0.013585 -0.021407  -0.084284  \n",
       "LotArea           0.043160  0.077672  0.038068  0.001205 -0.014261   0.263843  \n",
       "OverallQual       0.064886  0.065166 -0.031406  0.070815 -0.027347   0.790982  \n",
       "OverallCond       0.054811 -0.001985  0.068777 -0.003511  0.043950  -0.077856  \n",
       "YearBuilt        -0.050364  0.004950 -0.034383  0.012398 -0.013618   0.522897  \n",
       "YearRemodAdd     -0.038740  0.005829 -0.010286  0.021490  0.035743   0.507101  \n",
       "BsmtFinSF1        0.062021  0.140491  0.003571 -0.015727  0.014359   0.386420  \n",
       "BsmtFinSF2        0.088871  0.041709  0.004940 -0.015211  0.031706  -0.011378  \n",
       "BsmtUnfSF        -0.012579 -0.035092 -0.023837  0.034888 -0.041258   0.214479  \n",
       "TotalBsmtSF       0.084489  0.126053 -0.018479  0.013196 -0.014969   0.613581  \n",
       "1stFlrSF          0.088758  0.131525 -0.021096  0.031372 -0.013604   0.605852  \n",
       "2ndFlrSF          0.040606  0.081487  0.016197  0.035164 -0.028700   0.319334  \n",
       "LowQualFinSF      0.026799  0.062157 -0.003793 -0.022174 -0.028921  -0.025606  \n",
       "GrLivArea         0.101510  0.170205 -0.002416  0.050240 -0.036526   0.708624  \n",
       "BsmtFullBath      0.023148  0.067616 -0.023047 -0.025361  0.067049   0.227122  \n",
       "BsmtHalfBath      0.032121  0.020025 -0.007367  0.032873 -0.046524  -0.016844  \n",
       "FullBath         -0.008106  0.049604 -0.014290  0.055872 -0.019669   0.560664  \n",
       "HalfBath          0.072426  0.022381  0.001290 -0.009050 -0.010269   0.284108  \n",
       "BedroomAbvGr      0.044300  0.070703  0.007767  0.046544 -0.036014   0.168213  \n",
       "KitchenAbvGr     -0.051613 -0.014525  0.062341  0.026589  0.031687  -0.135907  \n",
       "TotRmsAbvGrd      0.059383  0.083757  0.024763  0.036907 -0.034516   0.533723  \n",
       "Fireplaces        0.184530  0.095074  0.001409  0.046357 -0.024096   0.466929  \n",
       "GarageCars        0.050494  0.020934 -0.043080  0.040522 -0.039117   0.640409  \n",
       "GarageArea        0.051412  0.061047 -0.027400  0.027974 -0.027378   0.623431  \n",
       "WoodDeckSF       -0.074181  0.073378 -0.009551  0.021011  0.022270   0.324413  \n",
       "OpenPorchSF       0.074304  0.060762 -0.018584  0.071255 -0.057619   0.315856  \n",
       "EnclosedPorch    -0.082864  0.054203  0.018361 -0.028887 -0.009916  -0.128578  \n",
       "3SsnPorch        -0.031436 -0.007992  0.000354  0.029474  0.018645   0.044584  \n",
       "ScreenPorch       1.000000  0.051307  0.031946  0.023217  0.010694   0.111447  \n",
       "PoolArea          0.051307  1.000000  0.029669 -0.033737 -0.059689   0.092404  \n",
       "MiscVal           0.031946  0.029669  1.000000 -0.006495  0.004906  -0.021190  \n",
       "MoSold            0.023217 -0.033737 -0.006495  1.000000 -0.145721   0.046432  \n",
       "YrSold            0.010694 -0.059689  0.004906 -0.145721  1.000000  -0.028923  \n",
       "SalePrice         0.111447  0.092404 -0.021190  0.046432 -0.028923   1.000000  \n",
       "\n",
       "[35 rows x 35 columns]"
      ]
     },
     "execution_count": 115,
     "metadata": {},
     "output_type": "execute_result"
    }
   ],
   "source": [
    "#Correlation\n",
    "prices_integers.corr()"
   ]
  },
  {
   "cell_type": "code",
   "execution_count": 116,
   "metadata": {
    "ExecuteTime": {
     "end_time": "2020-01-26T22:51:40.488842Z",
     "start_time": "2020-01-26T22:51:39.298979Z"
    }
   },
   "outputs": [
    {
     "data": {
      "text/plain": [
       "<matplotlib.axes._subplots.AxesSubplot at 0x1a1e111048>"
      ]
     },
     "execution_count": 116,
     "metadata": {},
     "output_type": "execute_result"
    },
    {
     "data": {
      "image/png": "[encoded data removed]",
      "text/plain": [
       "<Figure size 720x720 with 2 Axes>"
      ]
     },
     "metadata": {},
     "output_type": "display_data"
    }
   ],
   "source": [
    "#Visualize this\n",
    "vis = prices_integers.corr()\n",
    "fig, ax = plt.subplots(figsize=(10, 10))\n",
    "colormap = sns.diverging_palette(220, 10, as_cmap=True)\n",
    "sns.heatmap(vis, cmap=colormap, fmt=\".2f\")"
   ]
  },
  {
   "cell_type": "code",
   "execution_count": 117,
   "metadata": {
    "ExecuteTime": {
     "end_time": "2020-01-26T22:51:55.009048Z",
     "start_time": "2020-01-26T22:51:54.093562Z"
    }
   },
   "outputs": [
    {
     "data": {
      "text/plain": [
       "<matplotlib.axes._subplots.AxesSubplot at 0x1a1f13fac8>"
      ]
     },
     "execution_count": 117,
     "metadata": {},
     "output_type": "execute_result"
    },
    {
     "data": {
      "image/png": "[encoded data removed]",
      "text/plain": [
       "<Figure size 792x648 with 2 Axes>"
      ]
     },
     "metadata": {},
     "output_type": "display_data"
    }
   ],
   "source": [
    "#Visualize this\n",
    "import seaborn as sns\n",
    "import numpy as np\n",
    "\n",
    "researchimg = prices_integers[['OverallQual', 'YearBuilt', 'YearRemodAdd', 'TotalBsmtSF',\n",
    "'1stFlrSF', 'GrLivArea', 'FullBath', 'TotRmsAbvGrd', 'Fireplaces',\n",
    "    'GarageCars', 'GarageArea', 'SalePrice']].corr()\n",
    "mask = np.zeros_like(researchimg, dtype=np.bool)\n",
    "mask[np.triu_indices_from(mask)] = True\n",
    "f, ax = plt.subplots(figsize=(11, 9))\n",
    "cmap = sns.diverging_palette(220, 10, as_cmap=True)\n",
    "sns.heatmap(researchimg, annot=True, mask=mask, cmap=cmap, vmax=1, center=0,\n",
    "            square=True, linewidths=.5, cbar_kws={\"shrink\": .5})"
   ]
  },
  {
   "cell_type": "code",
   "execution_count": 118,
   "metadata": {
    "ExecuteTime": {
     "end_time": "2020-01-26T22:51:59.179475Z",
     "start_time": "2020-01-26T22:51:59.083853Z"
    }
   },
   "outputs": [
    {
     "data": {
      "text/plain": [
       "count    1460.000000\n",
       "mean        6.099315\n",
       "std         1.382997\n",
       "min         1.000000\n",
       "25%         5.000000\n",
       "50%         6.000000\n",
       "75%         7.000000\n",
       "max        10.000000\n",
       "Name: OverallQual, dtype: float64"
      ]
     },
     "execution_count": 118,
     "metadata": {},
     "output_type": "execute_result"
    }
   ],
   "source": [
    "prices_integers['OverallQual'].describe()"
   ]
  },
  {
   "cell_type": "code",
   "execution_count": 119,
   "metadata": {
    "ExecuteTime": {
     "end_time": "2020-01-26T22:52:02.234984Z",
     "start_time": "2020-01-26T22:52:02.229127Z"
    }
   },
   "outputs": [
    {
     "data": {
      "text/plain": [
       "0    7\n",
       "1    6\n",
       "2    7\n",
       "3    7\n",
       "4    8\n",
       "Name: OverallQual, dtype: int64"
      ]
     },
     "execution_count": 119,
     "metadata": {},
     "output_type": "execute_result"
    }
   ],
   "source": [
    "prices_integers['OverallQual'].head()"
   ]
  },
  {
   "cell_type": "code",
   "execution_count": 120,
   "metadata": {
    "ExecuteTime": {
     "end_time": "2020-01-26T22:52:05.156625Z",
     "start_time": "2020-01-26T22:52:04.894968Z"
    }
   },
   "outputs": [
    {
     "data": {
      "text/plain": [
       "[<matplotlib.lines.Line2D at 0x1a1df560b8>]"
      ]
     },
     "execution_count": 120,
     "metadata": {},
     "output_type": "execute_result"
    },
    {
     "data": {
      "image/png": "[encoded data removed]",
      "text/plain": [
       "<Figure size 432x288 with 1 Axes>"
      ]
     },
     "metadata": {},
     "output_type": "display_data"
    }
   ],
   "source": [
    "plt.plot(prices_integers['OverallQual'])"
   ]
  },
  {
   "cell_type": "code",
   "execution_count": 121,
   "metadata": {
    "ExecuteTime": {
     "end_time": "2020-01-26T22:52:07.962271Z",
     "start_time": "2020-01-26T22:52:07.959042Z"
    }
   },
   "outputs": [],
   "source": [
    "#create x & y values then plot\n",
    "x = prices_integers['OverallQual']\n",
    "y = prices_integers['SalePrice']"
   ]
  },
  {
   "cell_type": "code",
   "execution_count": 122,
   "metadata": {
    "ExecuteTime": {
     "end_time": "2020-01-26T22:52:10.076983Z",
     "start_time": "2020-01-26T22:52:09.867758Z"
    }
   },
   "outputs": [
    {
     "data": {
      "text/plain": [
       "<matplotlib.collections.PathCollection at 0x10a808828>"
      ]
     },
     "execution_count": 122,
     "metadata": {},
     "output_type": "execute_result"
    },
    {
     "data": {
      "image/png": "[encoded data removed]",
      "text/plain": [
       "<Figure size 432x288 with 1 Axes>"
      ]
     },
     "metadata": {},
     "output_type": "display_data"
    }
   ],
   "source": [
    "plt.scatter(x, y, color='gray')"
   ]
  },
  {
   "cell_type": "code",
   "execution_count": 123,
   "metadata": {
    "ExecuteTime": {
     "end_time": "2020-01-26T22:52:14.082840Z",
     "start_time": "2020-01-26T22:52:14.023130Z"
    }
   },
   "outputs": [],
   "source": [
    "from sklearn.linear_model import LinearRegression"
   ]
  },
  {
   "cell_type": "code",
   "execution_count": 124,
   "metadata": {
    "ExecuteTime": {
     "end_time": "2020-01-26T22:52:16.101919Z",
     "start_time": "2020-01-26T22:52:16.098394Z"
    }
   },
   "outputs": [],
   "source": [
    "x = x.values.reshape(-1,1)"
   ]
  },
  {
   "cell_type": "code",
   "execution_count": 125,
   "metadata": {
    "ExecuteTime": {
     "end_time": "2020-01-26T22:52:17.989764Z",
     "start_time": "2020-01-26T22:52:17.977942Z"
    }
   },
   "outputs": [
    {
     "data": {
      "text/plain": [
       "LinearRegression(copy_X=True, fit_intercept=True, n_jobs=None, normalize=False)"
      ]
     },
     "execution_count": 125,
     "metadata": {},
     "output_type": "execute_result"
    }
   ],
   "source": [
    "regressor = LinearRegression()  \n",
    "regressor.fit(x, y)"
   ]
  },
  {
   "cell_type": "code",
   "execution_count": 126,
   "metadata": {
    "ExecuteTime": {
     "end_time": "2020-01-26T22:52:20.789055Z",
     "start_time": "2020-01-26T22:52:20.784332Z"
    }
   },
   "outputs": [
    {
     "name": "stdout",
     "output_type": "stream",
     "text": [
      "-96206.07951476038\n",
      "[45435.8025931]\n"
     ]
    }
   ],
   "source": [
    "#identify the intercept\n",
    "print(regressor.intercept_)\n",
    "#identify the slope:\n",
    "print(regressor.coef_)"
   ]
  },
  {
   "cell_type": "code",
   "execution_count": 127,
   "metadata": {
    "ExecuteTime": {
     "end_time": "2020-01-26T22:52:22.909372Z",
     "start_time": "2020-01-26T22:52:22.906109Z"
    }
   },
   "outputs": [],
   "source": [
    "x_test = ([[8]])"
   ]
  },
  {
   "cell_type": "code",
   "execution_count": 128,
   "metadata": {
    "ExecuteTime": {
     "end_time": "2020-01-26T22:52:24.407598Z",
     "start_time": "2020-01-26T22:52:24.404235Z"
    }
   },
   "outputs": [],
   "source": [
    "y_pred = regressor.predict(x_test)"
   ]
  },
  {
   "cell_type": "code",
   "execution_count": 129,
   "metadata": {
    "ExecuteTime": {
     "end_time": "2020-01-26T22:52:27.549738Z",
     "start_time": "2020-01-26T22:52:27.545088Z"
    }
   },
   "outputs": [
    {
     "data": {
      "text/plain": [
       "array([267280.34123003])"
      ]
     },
     "execution_count": 129,
     "metadata": {},
     "output_type": "execute_result"
    }
   ],
   "source": [
    "y_pred"
   ]
  },
  {
   "cell_type": "markdown",
   "metadata": {},
   "source": [
    "## Predicting Text Sentiment\n",
    "\n",
    "To install Vader in terminal:\n",
    "1. open terminal\n",
    "2. enter: pip install vaderSentiment\n",
    "3. enter\n",
    "4. import package in python notebook (code in cell below)\n",
    "\n",
    "Data Source: https://www.kaggle.com/purvank/uber-rider-reviews-dataset"
   ]
  },
  {
   "cell_type": "code",
   "execution_count": 130,
   "metadata": {
    "ExecuteTime": {
     "end_time": "2020-01-26T22:52:31.493376Z",
     "start_time": "2020-01-26T22:52:31.051385Z"
    }
   },
   "outputs": [],
   "source": [
    "from vaderSentiment.vaderSentiment import SentimentIntensityAnalyzer\n",
    "pd.set_option('display.max_colwidth', -1)"
   ]
  },
  {
   "cell_type": "code",
   "execution_count": 131,
   "metadata": {},
   "outputs": [],
   "source": [
    "sid = SentimentIntensityAnalyzer()"
   ]
  },
  {
   "cell_type": "code",
   "execution_count": 132,
   "metadata": {},
   "outputs": [
    {
     "name": "stdout",
     "output_type": "stream",
     "text": [
      "{'neg': 0.499, 'neu': 0.501, 'pos': 0.0, 'compound': -0.4563}\n",
      "{'neg': 0.0, 'neu': 0.417, 'pos': 0.583, 'compound': 0.7906}\n",
      "{'neg': 0.0, 'neu': 0.589, 'pos': 0.411, 'compound': 0.5413}\n"
     ]
    }
   ],
   "source": [
    "sentences = [\n",
    "    \"I don't like this!!! #help\",\n",
    "    \"Great ride, I hope to see him again\",\n",
    "    \"Fast and as expected, very friendly\"\n",
    "            ]\n",
    "for sentence in sentences:\n",
    "    ss = sid.polarity_scores(sentence) \n",
    "    print (ss)"
   ]
  },
  {
   "cell_type": "code",
   "execution_count": 133,
   "metadata": {},
   "outputs": [],
   "source": [
    "reviews = pd.read_csv('TestingReviews.csv')"
   ]
  },
  {
   "cell_type": "code",
   "execution_count": 134,
   "metadata": {},
   "outputs": [
    {
     "data": {
      "text/html": [
       "<div>\n",
       "<style scoped>\n",
       "    .dataframe tbody tr th:only-of-type {\n",
       "        vertical-align: middle;\n",
       "    }\n",
       "\n",
       "    .dataframe tbody tr th {\n",
       "        vertical-align: top;\n",
       "    }\n",
       "\n",
       "    .dataframe thead th {\n",
       "        text-align: right;\n",
       "    }\n",
       "</style>\n",
       "<table border=\"1\" class=\"dataframe\">\n",
       "  <thead>\n",
       "    <tr style=\"text-align: right;\">\n",
       "      <th></th>\n",
       "      <th>Reviews</th>\n",
       "    </tr>\n",
       "  </thead>\n",
       "  <tbody>\n",
       "    <tr>\n",
       "      <th>0</th>\n",
       "      <td>I completed running New York Marathon requested Uber Pool ride back hotel First let tell started right The driver agreed pick drop locations via app I called spoke driver let know pick location actually blocked due marathon agreed another pickup location block away race road block Before I picked I got notification another rider joining part ride I picked driver spoken agreed upon location shortly passenger picked dropped Now went wrong Moments continuing destination I got notification via app phone ride asked driver going claimed Gee I I another passenger pick ride need get Still confused I asked still far agreed upon destination This time clearly played dumb saying understand Uber app works I get In middle street strange location even anywhere wanting argue clear new ride request another clearly lucrative wanting continue ride jerk I peacefully exited car I stood front private residence shivering cold degree rainy weather dark completed running mile marathon wanting nothing safe ride back hotel seek much needed rest warmth safety No sooner I exited car driver already scrawling new fare name piece paper standing outside car street meet new fare even inkling conscientiousness done And driver still nerve charge partial fare Not excited using Uber app street taxis coming another apps installed Lyft I requested new ride I connected shortly another driver minutes away minutes long amount time warm safe dressed running clothes weary expecting safe warm car I stranded street pace alone wait driver Also main street traffic heavy due marathon rode closures minute wait able get realistic To eternal happiness arrived within minutes delivered safely nicely next day finding way file complaint Uber via app I sent complaint within couple hours replied wet blanket apology inconvenience offered credit I charged To make even worse Uber credited towards another driver one taken day I wrote back corrected harm previous day good driver reputation take well earned pay preserve good relationships good Uber drivers I rode wrote back full credit better certainly enough make dangerous situation driver put mention discipline driver I told Uber I never use use Lyft Although many many Uber experiences past years I one bad apple ruined Uber forever</td>\n",
       "    </tr>\n",
       "    <tr>\n",
       "      <th>1</th>\n",
       "      <td>I like Uber Uber used personal driving tool type driver For one use personal source transportation help public another public transportation help satisfy need public It sound like lot conflicting areas going work progress kinda get back</td>\n",
       "    </tr>\n",
       "    <tr>\n",
       "      <th>2</th>\n",
       "      <td>Had good experiences Uber late The website app wicked Easy use customer journey great cabs time drivers far brilliant THanks Uber</td>\n",
       "    </tr>\n",
       "    <tr>\n",
       "      <th>3</th>\n",
       "      <td>I heading party I thought I give Uber try I heard people riding fancy cars I surprised see black Tesla front door I hopped waddled party</td>\n",
       "    </tr>\n",
       "    <tr>\n",
       "      <th>4</th>\n",
       "      <td>I used Uber four times Every time I use Uber I excellent experience The drivers professional cars nice You get pay I never take taxi It Uber way</td>\n",
       "    </tr>\n",
       "  </tbody>\n",
       "</table>\n",
       "</div>"
      ],
      "text/plain": [
       "                                                                                                                                                                                                                                                                                                                                                                                                                                                                                                                                                                                                                                                                                                                                                                                                                                                                                                                                                                                                                                                                                                                                                                                                                                                                                                                                                                                                                                                                                                                                                                                                                                                                                                                                                                                                                                                                                                                                                                                                                                                                                                                                                                                                                                                                                                                                               Reviews\n",
       "0  I completed running New York Marathon requested Uber Pool ride back hotel First let tell started right The driver agreed pick drop locations via app I called spoke driver let know pick location actually blocked due marathon agreed another pickup location block away race road block Before I picked I got notification another rider joining part ride I picked driver spoken agreed upon location shortly passenger picked dropped Now went wrong Moments continuing destination I got notification via app phone ride asked driver going claimed Gee I I another passenger pick ride need get Still confused I asked still far agreed upon destination This time clearly played dumb saying understand Uber app works I get In middle street strange location even anywhere wanting argue clear new ride request another clearly lucrative wanting continue ride jerk I peacefully exited car I stood front private residence shivering cold degree rainy weather dark completed running mile marathon wanting nothing safe ride back hotel seek much needed rest warmth safety No sooner I exited car driver already scrawling new fare name piece paper standing outside car street meet new fare even inkling conscientiousness done And driver still nerve charge partial fare Not excited using Uber app street taxis coming another apps installed Lyft I requested new ride I connected shortly another driver minutes away minutes long amount time warm safe dressed running clothes weary expecting safe warm car I stranded street pace alone wait driver Also main street traffic heavy due marathon rode closures minute wait able get realistic To eternal happiness arrived within minutes delivered safely nicely next day finding way file complaint Uber via app I sent complaint within couple hours replied wet blanket apology inconvenience offered credit I charged To make even worse Uber credited towards another driver one taken day I wrote back corrected harm previous day good driver reputation take well earned pay preserve good relationships good Uber drivers I rode wrote back full credit better certainly enough make dangerous situation driver put mention discipline driver I told Uber I never use use Lyft Although many many Uber experiences past years I one bad apple ruined Uber forever\n",
       "1  I like Uber Uber used personal driving tool type driver For one use personal source transportation help public another public transportation help satisfy need public It sound like lot conflicting areas going work progress kinda get back                                                                                                                                                                                                                                                                                                                                                                                                                                                                                                                                                                                                                                                                                                                                                                                                                                                                                                                                                                                                                                                                                                                                                                                                                                                                                                                                                                                                                                                                                                                                                                                                                                                                                                                                                                                                                                                                                                                                                                                                                                                                                                       \n",
       "2  Had good experiences Uber late The website app wicked Easy use customer journey great cabs time drivers far brilliant THanks Uber                                                                                                                                                                                                                                                                                                                                                                                                                                                                                                                                                                                                                                                                                                                                                                                                                                                                                                                                                                                                                                                                                                                                                                                                                                                                                                                                                                                                                                                                                                                                                                                                                                                                                                                                                                                                                                                                                                                                                                                                                                                                                                                                                                                                                  \n",
       "3  I heading party I thought I give Uber try I heard people riding fancy cars I surprised see black Tesla front door I hopped waddled party                                                                                                                                                                                                                                                                                                                                                                                                                                                                                                                                                                                                                                                                                                                                                                                                                                                                                                                                                                                                                                                                                                                                                                                                                                                                                                                                                                                                                                                                                                                                                                                                                                                                                                                                                                                                                                                                                                                                                                                                                                                                                                                                                                                                           \n",
       "4  I used Uber four times Every time I use Uber I excellent experience The drivers professional cars nice You get pay I never take taxi It Uber way                                                                                                                                                                                                                                                                                                                                                                                                                                                                                                                                                                                                                                                                                                                                                                                                                                                                                                                                                                                                                                                                                                                                                                                                                                                                                                                                                                                                                                                                                                                                                                                                                                                                                                                                                                                                                                                                                                                                                                                                                                                                                                                                                                                                   "
      ]
     },
     "execution_count": 134,
     "metadata": {},
     "output_type": "execute_result"
    }
   ],
   "source": [
    "reviews.head()"
   ]
  },
  {
   "cell_type": "code",
   "execution_count": 135,
   "metadata": {},
   "outputs": [],
   "source": [
    "reviews = reviews['Reviews']"
   ]
  },
  {
   "cell_type": "code",
   "execution_count": 136,
   "metadata": {},
   "outputs": [
    {
     "name": "stdout",
     "output_type": "stream",
     "text": [
      "{'neg': 0.164, 'neu': 0.676, 'pos': 0.16, 'compound': 0.0616}\n",
      "{'neg': 0.056, 'neu': 0.605, 'pos': 0.338, 'compound': 0.91}\n",
      "{'neg': 0.097, 'neu': 0.429, 'pos': 0.474, 'compound': 0.9217}\n",
      "{'neg': 0.0, 'neu': 0.7, 'pos': 0.3, 'compound': 0.743}\n",
      "{'neg': 0.048, 'neu': 0.719, 'pos': 0.233, 'compound': 0.7501}\n",
      "{'neg': 0.0, 'neu': 1.0, 'pos': 0.0, 'compound': 0.0}\n"
     ]
    }
   ],
   "source": [
    "for review in reviews:\n",
    "    ss = sid.polarity_scores(review) \n",
    "    print(ss)"
   ]
  },
  {
   "cell_type": "code",
   "execution_count": null,
   "metadata": {},
   "outputs": [],
   "source": []
  },
  {
   "cell_type": "markdown",
   "metadata": {},
   "source": [
    "# Some Fun\n",
    "Let's draw a picture of a bear in matplotlib. (Watch on YouTube https://www.youtube.com/watch?v=Jt1fSndR2bY)\n",
    "![](figs/bear.png) "
   ]
  },
  {
   "cell_type": "markdown",
   "metadata": {
    "collapsed": true
   },
   "source": [
    "# Sample Assignment\n",
    "## Instructions\n",
    "\n",
    "QUESTIONS\n",
    "\n",
    "1. Write a function called \"operate\" that takes as input two numbers, and a string that can be either \"add\" or \"multiply\". The output should be either the sum or product of the two numbers, depending on the string entered.\n",
    "\n",
    "2. The Fibonacci sequence starts with 1, 1, and each subsequent term is the sum of the preceding two terms. The first 6 terms of the Fibonacci sequence are: 1, 1, 2, 3, 5, 8, ... Write a python function that takes one argument N and prints the first N terms of the Fibonacci sequence.\n",
    "\n",
    "3. A simple substitution code codes 'a' as 1, 'b' as 2, ..., 'z' as 26. Write a function called \"encode\" that takes in a string, and prints the coded text. The output should be a string, with letters separated by \".\". Use \"999\" for punctuation and spaces. For example, encode(\"Hello!\") should print out \"8.5.12.12.15.999\".\n",
    "\n",
    "4. The Harmonic series is the sum of 1 + 1/2 + 1/3 + 1/4 + ..... The n<sup>th</sup> Harmonic number H<sub>n</sub> is 1 + 1/2 + 1/3 + ...  + 1/n. Write a python function called \"get_n\" that accepts as input a threshold, and returns n corresponding to the smallest Harmonic number whose value is grater than the threshold. E.g. `get_n(3)` should output 11.\n",
    "\n",
    "5. Write a function called \"describe\" that takes as input a list of numbers, and prints the number of elements in the list, and the mean, variance, and standard deviation. The printed quantities should be labeled. The output should look something like: </br></br>\n",
    "`number of elements: 12` </br>\n",
    "`mean: 0.5` </br>\n",
    "`variance: 0.04` </br>\n",
    "`standard deviation: 0.2`\n"
   ]
  },
  {
   "cell_type": "code",
   "execution_count": null,
   "metadata": {},
   "outputs": [],
   "source": []
  }
 ],
 "metadata": {
  "hide_input": false,
  "kernelspec": {
   "display_name": "Python 3",
   "language": "python",
   "name": "python3"
  },
  "language_info": {
   "codemirror_mode": {
    "name": "ipython",
    "version": 3
   },
   "file_extension": ".py",
   "mimetype": "text/x-python",
   "name": "python",
   "nbconvert_exporter": "python",
   "pygments_lexer": "ipython3",
   "version": "3.7.3"
  },
  "toc": {
   "nav_menu": {
    "height": "12px",
    "width": "252px"
   },
   "navigate_menu": true,
   "number_sections": true,
   "sideBar": true,
   "threshold": 4,
   "toc_cell": false,
   "toc_section_display": "block",
   "toc_window_display": true
  }
 },
 "nbformat": 4,
 "nbformat_minor": 1
}
